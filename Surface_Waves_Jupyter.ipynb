{
 "cells": [
  {
   "cell_type": "markdown",
   "metadata": {},
   "source": [
    "# Introduction to Surface Waves\n",
    "It is well known that electromagnetic waves propagating through space are solutions to Maxwell's equations.  A special, but very important subset of these waves, are plane waves oscillating at some frequency $\\nu$ or angular frequency $\\omega=2\\pi\\nu$.  The electric and magnetic field of these waves oscillate in phase and in a plane, orthogonally to each other and to the direction of propagation.  Waves that oscillate transverseley to the direction of propagation are called *transverse waves*.  A diagram indicating the arrangement of a typical propagating plane wave is shown below. In the figure the wave is said to have \"linear polarisation\" because the E-field oscillates linearly along one of the transverse axes.\n",
    "\n",
    "<img src=\"Fig 3.1_E-MWave.png\" alt=\"E-M Wave Schematic\" style=\"width: 800px;\"/>\n",
    "\n",
    "Surface waves in contrast propagate along the interface between a dielectric and a real metal.  It is useful to think of the metal as a \"gas\" of electrons and the surface wave a train of charge-density compressions and rarefactions (analogous to a sound wave in air).  The charge-density wave in the electron gas acts as a *longitudinal wave* in which the oscillations are in the same direction as the propagation.  In the figure below the + and - regions at the interface indicate alternating compressions and rarefactions of charge.  These charge-density waves in turn provide the sources and sinks of electric fields that originate and terminate at the charge-density maxima and minima.  The label $\\lambda_{\\mathrm{SW}}$ denotes the wavelength of the surface wave and $E_{\\mathrm{SW}}(x,z)$ denotes the surface wave electric field.  Note that the $E_z$ component of E-field is discontinuous at the interface and that the E-field is *not* perpendicular to the direction of propagation along $x$.  Note also that the E-field falls off exponentially in the $\\pm z$ direction and propagates *only* along the interface.\n",
    "\n",
    "<img src=\"Fig 7.8_E_field_x_z_direction.png\" alt=\"E-M Wave Schematic\" style=\"width: 700px;\"/>\n",
    "\n",
    "The figure below shows in detail how the $E_z$ E-field component is discontinuous at the interface although the displacement field component ($D_z$) is continuous there.  Remember that on the metal side $D_z^m=\\epsilon_mE_z^m$ and on the dielectric side $D_z^d=\\epsilon_dE_z^d$.\n",
    "\n",
    "<img src=\"Fig 7.3_SurfaceWaveZ.jpg\" alt=\"Surface Wave Z\" style=\"width: 400px;\"/>"
   ]
  },
  {
   "cell_type": "markdown",
   "metadata": {},
   "source": [
    "## A Historical Note on Electromagnetic Surface Waves\n",
    "The impetus for the study of electromagnetic surface waves began with the development of radio communication near the end of the nineteenth century.  Ordinary Maxwellian \"space\" waves  cannot directly propagate beyond the horizon, although Marconi had been able to demonstrate long-range radio communication including transatlantic messaging between 1899 and 1901.  A possible explanation for this successful over-the-horizon transmission was the excitation and propagation of electromagnetic waves at the air-earth or air-sea interface that could be \"guided\" over the curvature of the planet.  It was therefore necessary to find solutions to Maxwell's equations that could explain the observations.  Stimulated by Arnold Sommerfeld's analysis of electromagnetic wave propagation along a single conducting wire in 1899, his student Johann Zenneck presented a paper on planar surface electromagnetic waves in 1907.  Zenneck found that Maxwell's equations had a solution corresponding to a wave coupled to a flat surface interface at the boundary between a dielectric (air) and a medium with finite conductivity (salt water). The configuration used by Zenneck is illustrated in the figure below.\n",
    "\n",
    "<img src=\"Fig 7.1_ZenneckWave.png\" alt=\"Zenneck Wave\" style=\"width: 600px;\"/>\n",
    "\n",
    "Soon after Zenneck's article appeared Sommerfeld again published an influential paper in 1909 in which he analysed the propagation of radio waves along the surface of the earth. He considered a vertical oscillating dipole (radio antenna) perpendicularly positioned to the interface between two media: one dielectric, the other conducting.  Sommerfeld studied secondary waves produced by the discontinuity at the interface between air and land, considered as a weakly conductive material. His analysis showed that the Hertz vector $\\mathbf{\\Pi}$, that describes the electromagnetic field in each medium is given by the sum of two fields, $P$ and $Q$ corresponding to two waves. The wave $Q$ represents a space propagating wave and $P$ a surface guided wave. For long distances $R$ from the source, $Q$ varies as $(1/R)$, where $R=\\sqrt{(r^2+z^2)}$, (see the figure above for a definition of the coordinates) while $P$ varies asymptotically as $1/\\sqrt{r}$ and is confined to the Earth's surface.  Over the course of the next two decades a controversy arose over the existence of the so-called Zenneck waves because Sommerfeld's original analysis contained a sign error, and it was found that it was difficult to excite the surface-guided wave with practical antenna sources or to detect and distinguish the true surface wave from the spatially propagating wave very close to the surface.  In any event, as far as long-distance wireless communication was concerned, the whole question became irrelevant when it was discovered that reflection from the ionosphere was the principal agent responsible for over-the-horizon radio transmission.\n"
   ]
  },
  {
   "cell_type": "markdown",
   "metadata": {},
   "source": [
    "## Plasmon Surface Waves at Optical Frequencies\n",
    "Recent interest in electromagnetic surface waves stems from their potential applications in nanoscale opto-electronic devices.  In contrast to the Sommerfeld-Zenneck analyses emphasising radio frequencies, modern studies at optical frequencies usually take Raether's influential treatise, *Surface Plasmons on Smooth and Rough Surfaces and on Gratings* as their point of departure.  The modern terminology for the Zenneck wave at the interface between a metal and a dielectric is the surface plasmon or the surface plasmon-polariton (SPP).  At optical frequencies the surface plasmon exhibits strong spatial localisation at the dielectric-conductor interface and can be simply and efficiently excited by appropriately polarised light incident on surfaces decorated with physical features (slits, holes, grooves, etc.) at the subwavelength scale (tens to hundreds of nanometres). Here, we consider the interface between two media, one dielectric and the other a metallic conductor.  Each material is characterised by a relative permittivity, $\\epsilon_r$: $\\epsilon_r^d$ for the dielectric insulator and $\\epsilon_r^m$ for the conducting metal.  In order to lighten notation we drop the subscript $r$ and write the relative permittivities (dielectric constants) as $\\epsilon_d$ and $\\epsilon_m$ for the dielectric and metal, respectively.  The metal also exhibits a high conductivity, $\\sigma$ and obeys *Ohm's law* $\\mathbf{E}=\\sigma\\mathbf{J}$ where $\\mathbf{E}$ is the electric field applied to the metal and $\\mathbf{J}$ is the current density induced in it.  We consider the dielectric medium as essentially transparent (lossless) so that $\\epsilon_d=\\epsilon_d^{\\prime}$ where $\\epsilon_d^{\\prime}$ is real. In the case of metallic materials absorptive loss in the optical region of the electromagnetic spectrum is significant, the dielectric constant is complex, and $\\epsilon_m=\\epsilon_m^{\\prime}+i\\epsilon_m^{\\prime\\prime}$, where the imaginary term represents absorptive loss.\n",
    "\n",
    "The figure below shows two orthogonal linear polarisation orientations of E-M fields incident on the metal surface.  Although in our discussion of space propagating waves the direction of propagation is always along $z$, in this discussion we must consider both the incident propagating wave and the surface wave.  The incident space-propagating wave is taken to be incident along $z$, while the surface wave propagates along $x$.  The plane of incidence is defined by the incident and reflected plane-wave propagation vectors $\\mathbf{k}$, and in the figure below this plane is aligned with the $x-z$ plane.  With $\\mathbf{H}$ perpendicular to the plane of incidence (right panel of the figure) the polarisation is called *transverse-magnetic* (TM).  TM polarisation restricts the incident wave to field components $E_x,E_z,H_y$.  With $\\mathbf{E}$ perpendicular to the same plane (left panel of the figure) the polarisation is *transverse-electric* (TE).   The field components of a TE polarised wave are $H_x,H_z,E_y$.  We will consider continuity conditions at the surface for each case.\n",
    "\n",
    "<img src=\"Fig 7.2_TE_TM_Schematics.png\" alt=\"Te_TM_Schematic\" style=\"width: 700px;\"/>"
   ]
  },
  {
   "cell_type": "markdown",
   "metadata": {},
   "source": [
    "We start with the two Maxwell curl equations, the Faraday law\n",
    "\n",
    "\\begin{equation}\n",
    "\\mathbf{\\nabla}\\times\\mathbf{E}=-\\frac{\\partial\\mathbf{B}}{\\partial t}\n",
    "\\end{equation}\n",
    "\n",
    "and the Maxwell-Ampère law,\n",
    "\n",
    "\\begin{equation}\n",
    "\\mathbf{\\nabla}\\times\\mathbf{H}=\\mathbf{J}_{\\mathrm{free}}+\\frac{\\partial\\mathbf{D}}{\\partial t}\n",
    "\\end{equation}\n",
    "\n",
    "and posit two solutions: E- and H-fields characterised  by the propagation vector $\\mathbf{k}=(2\\pi/\\lambda)\\hat{\\mathbf{k}}$, where $\\lambda$ is the wavelength,and oscillating harmonically in time with frequency $\\omega$.\n",
    "\n",
    "\\begin{align}\n",
    "\\mathbf{E(r},t)&=\\mathbf{E_0(r)}e^{i(\\mathbf{k\\cdot r}-\\omega t)}\\label{Eq-EfieldPlaneWave}\\\\[0.5ex]\n",
    "\\mathbf{H(r},t)&=\\mathbf{H_0}e^{i(\\mathbf{k\\cdot r}-\\omega t)}\\label{Eq-HfieldPlaneWave}\n",
    "\\end{align}\n",
    "\n",
    "Application of the curl operation leads to the following relations for TE polarisation,\n",
    "\n",
    "\\begin{align}\n",
    "\\frac{\\partial E_y}{\\partial z}&=-(i\\omega\\mu_0) H_x\\label{Eq-TE1}\\\\\n",
    "\\frac{\\partial H_x}{\\partial z}-\\frac{\\partial H_z}{\\partial x}&=-i(\\omega\\epsilon_0\\epsilon) E_y\\label{Eq-TE2}\\\\\n",
    "\\frac{\\partial E_y}{\\partial x}&=(i\\omega\\mu_0)H_z\\label{Eq-TE3}\n",
    "\\end{align}\n",
    "\n",
    "\n",
    "\n",
    "and the following for TM polarisation\n",
    "\n",
    "\n",
    "\\begin{align}\n",
    "\\frac{\\partial H_y}{\\partial z}&=(i\\omega\\epsilon_0\\epsilon) E_x\\label{Eq-TM1}\\\\\n",
    "\\frac{\\partial E_x}{\\partial z}-\\frac{\\partial E_z}{\\partial x}&=(i\\omega\\mu_0) H_y\\label{Eq-TM2}\\\\\n",
    "\\frac{\\partial H_y}{\\partial x}&=-(i\\omega\\epsilon_0\\epsilon)E_z\\label{Eq-TM3}\n",
    "\\end{align}\n",
    "\n",
    "The incident and reflected waves propagate in the dielectric medium characterised by the dielectric constant $\\epsilon_d$.  The propagation vector in free space is denoted $k_0$ and within the dielectric $k_d=k_0 n$ where $n$ is the index of refraction.  The dielectric constant and the index of refraction of any medium are related by $\\epsilon=n^2$.  Since the incident $k=k_i$ is in the $x-z$ plane we can write\n",
    "\n",
    "\\begin{align}\n",
    "k^2_i&=k_x^2+k_z^2\\\\\n",
    "&=\\epsilon_d k^2_0\\label{Eq-WaveVectorDielectric}\n",
    "\\end{align}\n",
    "\n",
    "Similarly on the metal side of the interface for the transmitted propagation vector $k^m$ we have\n",
    "\n",
    "\\begin{align}\n",
    "k_t^2&=k_x^2+k_z^2\\\\\n",
    "&=\\epsilon_m k_0^2\\label{Eq-WaveVectorMetal}\n",
    "\\end{align}\n"
   ]
  },
  {
   "cell_type": "markdown",
   "metadata": {},
   "source": [
    "# Surface Waves with TE Polarisation (do they exist?)\n",
    "In TE polarisation we find the wave solution for $E_y$ by applying the posited plane-wave expression.  The result (in the dielectric medium) is\n",
    "\n",
    "\\begin{equation}\n",
    "E_y^d(x,z)=E_{0y}^de^{i[(k^d_xx+k^d_zz)-\\omega t]}\n",
    "\\end{equation}\n",
    "\n",
    "From this E-field component the H-field components on the dielectric side of the interface are readily obtained.\n",
    "\n",
    "\\begin{align}\n",
    "H_x^d&=-\\frac{i}{\\omega\\mu_0}\\frac{\\partial E_y^d}{\\partial z}=\\frac{k^d_z}{\\omega\\mu_0}E_y^d\\\\\n",
    "H_z^d&=\\frac{i}{\\omega\\mu_0}\\frac{\\partial E_y^d}{\\partial x}=-\\frac{k^d_x}{\\omega\\mu_0}E_y^d\n",
    "\\end{align}\n",
    "\n",
    "The same analysis applies to the metal side of the interface with the result\n",
    "\n",
    "\\begin{align}\n",
    "E_y^m(x,z)=E_{0y}^me^{i[(k^m_xx+k^m_zz)-\\omega t]}\n",
    "\\end{align}\n",
    "\n",
    "and\n",
    "\n",
    "\\begin{align}\n",
    "H_x^m&=-\\frac{i}{\\omega\\mu_0}\\frac{\\partial E_y^m}{\\partial z}=\\frac{k^m_z}{\\omega\\mu_0}E_y^m\\\\\n",
    "H_z^m&=\\frac{i}{\\omega\\mu_0}\\frac{\\partial E_y^m}{\\partial x}=-\\frac{k^m_x}{\\omega\\mu_0}E_y^m\n",
    "\\end{align}\n",
    "\n",
    "At the interface, $z=0$, continuity conditions for $H_x$ and $E_y$ require that\n",
    "\n",
    "\\begin{align}\n",
    "H_x^d(z=0)&=H_x^m(z=0)\\\\[0.5ex]\n",
    "E_y^d(z=0)&=E_y^m(z=0)\n",
    "\\end{align}\n",
    "\n",
    "and therefore at the boundary\n",
    "\n",
    "\\begin{align}\n",
    "k_z^d&=k_z^m\\\\\n",
    "\\sqrt{\\epsilon_d}k_0&=\\sqrt{\\epsilon_m}k_0\n",
    "\\end{align}\n",
    "\n",
    "But this last equation can only be valid for $k_0=0$ since the dielectric constants on the two sides of the boundary can never be equal.  *Therefore there can be no wave solution at the boundary for TE polarisation.*\n"
   ]
  },
  {
   "cell_type": "markdown",
   "metadata": {},
   "source": [
    "# Surface Waves with TM Polarisation\n",
    "With TM polarisation we have three field components, $H_y,E_x,E_z$.  We find the wave solution for $H_y$ on the dielectric side of the interface\n",
    "\n",
    "\\begin{equation}\n",
    "H_y^d(x,z)=H^d_{y0}e^{i[(k_xx+k_zz)-\\omega t]}\n",
    "\\end{equation}\n",
    "\n",
    "Then we find expressions for $E_x^d$ and $E_z^d$.\n",
    "\n",
    "\\begin{align}\n",
    "E_x^d&=\\frac{k_z^d}{\\omega\\epsilon_0\\epsilon_d}H^d_y(x,z)\\\\[0.5ex]\n",
    "E_z^d&=-\\frac{k_x^d}{\\omega\\epsilon_0\\epsilon_d}H^d_y(x,z)\n",
    "\\end{align}\n",
    "\n",
    "On the metal side of the interface we have\n",
    "\n",
    "\\begin{align}\n",
    "E_x^m&=\\frac{k_z^m}{\\omega\\epsilon_0\\epsilon_m}H^m_y(x,z)\\\\[0.5ex]\n",
    "E_z^m&=-\\frac{k_x^m}{\\omega\\epsilon_0\\epsilon_m}H^m_y(x,z)\n",
    "\\end{align}\n",
    "\n",
    "Continuity conditions at the interface ($z=0$) are\n",
    "\n",
    "\\begin{align}\n",
    "E_x^d(x,0)&=E_x^m(x,0)\\\\\n",
    "H_y^d(x,0)&=H_y^m(x,0)\\\\\n",
    "\\epsilon_d E_z^d(x,0)&=\\epsilon_m E_z^m(x,0)\n",
    "\\end{align}\n",
    "\n",
    "Then we find that at the boundary\n",
    "\n",
    "\\begin{align}\n",
    "k_x^d&=k_x^m=k_x\\label{Eq-BoundaryConditionTM1}\\\\[0.5ex]\n",
    "\\frac{k_z^d}{\\epsilon_d}&=\\frac{k_z^m}{\\epsilon_m}\n",
    "\\end{align}\n",
    "\n",
    "The wave vector relations on the dielectric and metal sides of the interface, allow us to write\n",
    "\n",
    "\\begin{equation}\n",
    "\\frac{(k_z^m)^2}{(k_z^d)^2}=\\frac{\\epsilon_m k_0^2-(k_x^m)^2}{\\epsilon_d k_0^2-(k_x^d)^2}\n",
    "\\end{equation}\n",
    "\n",
    "Now, we can eliminate the $k_z$ components and obtain an expression for $k^s_x$, the magnitude of the surface wave vector propagating along the boundary, in terms of the free-space wave vector $k_0$ and the dielectric constants on each side of the interface.\n",
    "\n",
    "\\begin{equation}\n",
    "\\boxed{k^s_x=\\sqrt{\\frac{\\epsilon_d\\epsilon_m}{\\epsilon_d+\\epsilon_m}}k_0\\label{Eq-SurfaceWave_x}}\n",
    "\\end{equation}\n",
    "\n",
    "The $z$ components of the surface wave, on the dielectric and metallic sides of the boundary, can be easily obtained from\n",
    "\n",
    "\\begin{align}\n",
    "\\left(k_z^{s,d}\\right)^2&=\\epsilon_dk_0^2-\\left(k_x^s\\right)^2k_0^2=\\left(1-\\frac{\\epsilon_m}{\\epsilon_m+\\epsilon_d}\\right)\\epsilon_dk_0^2\\label{Eq-SurfaceWave_z1}\\\\[0.5ex]\n",
    "\\left(k_z^{s,m}\\right)^2&=\\epsilon_mk_0^2-\\left(k_x^s\\right)^2k_0^2=\\left(1-\\frac{\\epsilon_d}{\\epsilon_m+\\epsilon_d}\\right)\\epsilon_mk_0^2\\label{Eq-SurfaceWave_z2}\n",
    "\\end{align}\n",
    "\n",
    "\n",
    "\\begin{align}\n",
    "k_z^{s,d}&=\\pm\\frac{\\epsilon_d}{\\sqrt{\\epsilon_d+\\epsilon_m}}k_0\\\\[0.5ex]\n",
    "k_z^{s,m}&=\\pm\\frac{\\epsilon_m}{\\sqrt{\\epsilon_d+\\epsilon_m}}k_0\n",
    "\\end{align}\n",
    "\n",
    "Note that if the real part of the dielectric constant in the metal is negative and if $\\epsilon_d+\\epsilon_m<0$, then $k_z^m,k_z^d$ will be imaginary.  The $E_z$ component of the surface wave on both sides of the interface will then be *evanescent* (will be real and decrease exponentially with $z$).\n",
    "\n",
    "\\begin{align}\n",
    "k_z^{s,d}&\\rightarrow \\pm i\\kappa_s^d=\\pm i\\left|\\frac{\\epsilon_d}{\\sqrt{\\epsilon_d+\\epsilon_m}}\\right|k_0\\label{Eq-SurfaeWave-z1Im}\\\\[0.5ex]\n",
    "k_z^{s,m}&\\rightarrow \\pm i\\kappa_s^m=\\pm i\\left|\\frac{\\epsilon_m}{\\sqrt{\\epsilon_d+\\epsilon_m}}\\right|k_0\\label{Eq-SurfaceWave-z2Im}\n",
    "\\end{align}\n",
    "\n",
    "The choice of sign $(\\pm)$ ensures that the wave amplitude decreases exponentially with increasing distance $(\\pm z)$ from the interface.  With the proper choice,\n",
    "\n",
    "\\begin{align}\n",
    "k^{s,d}_z&\\rightarrow i\\kappa^d_s\\qquad z>0\\\\[0.5ex]\n",
    "k^{s,m}_z&\\rightarrow -i\\kappa^m_s\\qquad z<0\n",
    "\\end{align}\n",
    "\n",
    "and the components of the surface wave projecting onto the dielectric side take on the following forms,\n",
    "\n",
    "\\begin{align}\n",
    "H_y^{s,d}(x,z,t)&=H_{0y}e^{\\kappa_s^dz}e^{i(k_x^sx-\\omega t)}\\\\[0.5ex]\n",
    "E_x^{s,d}(x,z,t)&=-\\frac{i\\kappa_s^d}{\\omega\\epsilon_0\\epsilon_d}H_{0y}e^{\\kappa_s^dz}e^{i(k_x^sx-\\omega t)}\\\\[0.5ex]\n",
    "E_z^{s,d}(x,z,t)&=-\\frac{k_x^s}{\\omega\\epsilon_0\\epsilon_d}H_{0y}e^{\\kappa_s^dz}e^{i(k_x^sx-\\omega t)}\n",
    "\\end{align}\n",
    "\n",
    "Similar expressions obtain on the metallic side with the appropriate change of sign for $i\\kappa_s^m$.\n",
    "\n",
    "In addition to the exponential decrease in the $\\pm z$ direction the above figure, tracing $E_z$ and $D_z$, also show that the absolute magnitude of the dielectric constant on the metal side is typically much greater than on the dielectric side.  Therefore field penetration into the metal is limited to the *skin depth*.   For gold or silver in the optical interval ($350\\leq\\lambda_0\\leq850\\,$nm) of the electromagnetic frequency spectrum significant field penetration is of the order $20-30\\,$nm.  Furthermore, again as shown in the above figure, the E-field is *discontinuous* at the boundary, due to the presence of surface charge density, while the displacement field ($\\mathbf{D}=\\epsilon_0\\epsilon\\mathbf{E}$) takes into account the sign change in the dielectric constant across the boundary and is therefore continuous (although the *derivative* of the D-field with respect to the boundary normal is not continuous).\n",
    "\n",
    "We see that for a real, lossy metal $k^s_x$, the surface wave vector component along the interface, is complex since $\\epsilon_m$ is complex.  The three components of the surface wave $E^s_x,E^s_z,H^s_y$ propagate in the $x$ direction at the interface.  Taking $E_x^s$ as an example, \n",
    "\n",
    "\\begin{equation}\n",
    "E^s_x(x)=E^s_{0x}e^{ik^s_xx}=E^s_{0x}e^{ik_0n_sx}\n",
    "\\end{equation}\n",
    "\n",
    "and the argument of the exponential will have a real and imaginary term since $k^s_x=k_0n_s$ is complex.  The factor $n_s=\\eta_s+i\\kappa_s$ is the complex surface index of the refraction at the interface.  The imaginary term represents the exponential loss in amplitude due to dissipation in the metal as the wave propagates along the surface.  From the definition of the surface index of refraction, $n_s=k^s_x/k_0$, the complex dielectric constant of the metal,$\\epsilon_m=\\epsilon_m^{\\prime}+i\\epsilon_m^{\\prime\\prime}$ and, we can determine the corresponding complex index of refraction.\n",
    "\n",
    "\\begin{align}\n",
    "n_s=&\\sqrt{\\frac{\\epsilon_m\\epsilon_d}{\\epsilon_m+\\epsilon_d}}\\\\[0.5ex]\n",
    "n_s^2=&\\frac{\\epsilon_m^{\\prime}\\epsilon_d}{\\epsilon_m^{\\prime}+\\epsilon_d}\\cdot\\frac{1+i\\frac{\\epsilon_m^{\\prime\\prime}}{\\epsilon_m^{\\prime}}}{1+i\\frac{\\epsilon_m^{\\prime\\prime}}{\\epsilon_m^{\\prime}+\\epsilon_d}}\n",
    "\\end{align}\n",
    " \n",
    "For the two metals commonly used in plasmonic devices, silver and gold, $\\left|\\epsilon_m^{\\prime\\prime}/\\epsilon_m^{\\prime}\\right|<<1$ over the optical range of interest.  \n",
    "\n",
    "\n"
   ]
  },
  {
   "cell_type": "markdown",
   "metadata": {},
   "source": [
    "# FDTD Simulations of Waves at Dielectric-Metal Surfaces"
   ]
  },
  {
   "cell_type": "markdown",
   "metadata": {},
   "source": [
    "The first simulation is a movie of a line dipole above a 50nm thick slab of Ag metal. The dipole emits a pulse of light centered at a wavelength of 532nm and is aligned along $x$, parallel to the surface and about 1000 nm above it."
   ]
  },
  {
   "cell_type": "code",
   "execution_count": 1,
   "metadata": {},
   "outputs": [
    {
     "data": {
      "text/html": [
       "<div align=\"middle\">\n",
       "<video width=\"80%\" controls>\n",
       "      <source src=\"ref_slab-ref-hz.m4v\" type=\"video/mp4\">\n",
       "</video></div>\n"
      ],
      "text/plain": [
       "<IPython.core.display.HTML object>"
      ]
     },
     "metadata": {},
     "output_type": "display_data"
    }
   ],
   "source": [
    "%%HTML\n",
    "<div align=\"middle\">\n",
    "<video width=\"80%\" controls>\n",
    "      <source src=\"ref_slab-ref-hz.m4v\" type=\"video/mp4\">\n",
    "</video></div>"
   ]
  },
  {
   "cell_type": "markdown",
   "metadata": {},
   "source": [
    "Note that most of the light is reflected from the Ag surface, but a significant fraction transmitts through the slab with amplitude decreasing exponentially with slab thickness.  Note also that there is no evidence of surface waves propagating at the air/Ag boundary."
   ]
  },
  {
   "cell_type": "markdown",
   "metadata": {},
   "source": [
    "Now let us introduce a 50nm wide slit into the Ag slab and run the dipole emission simulation again."
   ]
  },
  {
   "cell_type": "code",
   "execution_count": 2,
   "metadata": {},
   "outputs": [
    {
     "data": {
      "text/html": [
       "<div align=\"middle\">\n",
       "<video width=\"80%\" controls>\n",
       "      <source src=\"ref+scat-ref+slit_hz.m4v\" type=\"video/mp4\">\n",
       "</video></div>\n"
      ],
      "text/plain": [
       "<IPython.core.display.HTML object>"
      ]
     },
     "metadata": {},
     "output_type": "display_data"
    }
   ],
   "source": [
    "%%HTML\n",
    "<div align=\"middle\">\n",
    "<video width=\"80%\" controls>\n",
    "      <source src=\"ref+scat-ref+slit_hz.m4v\" type=\"video/mp4\">\n",
    "</video></div>"
   ]
  },
  {
   "cell_type": "markdown",
   "metadata": {},
   "source": [
    "We can see that scattering from the slit has introduced something new into the field, but what we observe is the combined field from surface reflection plus scattering from the slit.  We can eliminate the surface reflection and observe only the scattering from the slit by subtracting the reflected field of the plane slab (first video above) from the combined field of reflection plus slit scattering (second video above).  The result will show on the field due to scattering from the slit."
   ]
  },
  {
   "cell_type": "code",
   "execution_count": 3,
   "metadata": {},
   "outputs": [
    {
     "data": {
      "text/html": [
       "<div align=\"middle\">\n",
       "<video width=\"80%\" controls>\n",
       "      <source src=\"hz_AgSlab.mp4\" type=\"video/mp4\">\n",
       "</video></div>\n"
      ],
      "text/plain": [
       "<IPython.core.display.HTML object>"
      ]
     },
     "metadata": {},
     "output_type": "display_data"
    }
   ],
   "source": [
    "%%HTML\n",
    "<div align=\"middle\">\n",
    "<video width=\"80%\" controls>\n",
    "      <source src=\"hz_AgSlab.mp4\" type=\"video/mp4\">\n",
    "</video></div>"
   ]
  },
  {
   "cell_type": "markdown",
   "metadata": {},
   "source": [
    "From this video of the net scattered field we can clearly see space-propagating and surface-propagating waves emanating from the slit origin.\n",
    "\n",
    "The figure below is taken from one of the frames of the scattered-wave video."
   ]
  },
  {
   "cell_type": "code",
   "execution_count": 8,
   "metadata": {},
   "outputs": [
    {
     "data": {
      "text/html": [
       "<div align=\"middle\">\n",
       "<img src=\"net_Ag_slab_slit_hz.t171.png\" alt=\"Hz_Ag_Slab.png\" style=\"width:800px;\"</></div>\n"
      ],
      "text/plain": [
       "<IPython.core.display.HTML object>"
      ]
     },
     "metadata": {},
     "output_type": "display_data"
    }
   ],
   "source": [
    "%%HTML \n",
    "<div align=\"middle\">\n",
    "<img src=\"net_Ag_slab_slit_hz.t171.png\" alt=\"Hz_Ag_Slab.png\" style=\"width:800px;\"</></div>"
   ]
  },
  {
   "cell_type": "markdown",
   "metadata": {},
   "source": [
    "Note the presence of both propagating and surface waves on both sides of the slit.  We will see later how the E-M field uses the slit as a waveguide to propagate both space and surface waves to the exit (lower) side of the slab."
   ]
  }
 ],
 "metadata": {
  "kernelspec": {
   "display_name": "Python 3",
   "language": "python",
   "name": "python3"
  },
  "language_info": {
   "codemirror_mode": {
    "name": "ipython",
    "version": 3
   },
   "file_extension": ".py",
   "mimetype": "text/x-python",
   "name": "python",
   "nbconvert_exporter": "python",
   "pygments_lexer": "ipython3",
   "version": "3.6.7"
  }
 },
 "nbformat": 4,
 "nbformat_minor": 2
}
