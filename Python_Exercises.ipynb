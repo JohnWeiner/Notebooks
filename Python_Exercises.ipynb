{
 "cells": [
  {
   "cell_type": "markdown",
   "metadata": {},
   "source": [
    "## Some Sample Python Scripts"
   ]
  },
  {
   "cell_type": "code",
   "execution_count": 2,
   "metadata": {},
   "outputs": [
    {
     "name": "stdout",
     "output_type": "stream",
     "text": [
      "Hello World\n"
     ]
    }
   ],
   "source": [
    "print('Hello World')"
   ]
  },
  {
   "cell_type": "markdown",
   "metadata": {},
   "source": [
    "### Recursion in python"
   ]
  },
  {
   "cell_type": "markdown",
   "metadata": {},
   "source": [
    "$x_{n+1}=x_n+x_{n-1}\\qquad n=1,2,3\\ldots\\qquad x_0=0,x_1=1$"
   ]
  },
  {
   "cell_type": "code",
   "execution_count": 5,
   "metadata": {
    "scrolled": false
   },
   "outputs": [
    {
     "name": "stdout",
     "output_type": "stream",
     "text": [
      "x =  0\n",
      "result = 0\n",
      "x =  1\n",
      "result = 1\n"
     ]
    },
    {
     "data": {
      "text/plain": [
       "1"
      ]
     },
     "execution_count": 5,
     "metadata": {},
     "output_type": "execute_result"
    }
   ],
   "source": [
    "\n",
    "def test_recur(x):\n",
    "    if(x)>0:\n",
    "        result = x + test_recur(x-1)\n",
    "        print('x = ',x)\n",
    "        print('result =',result)\n",
    "    else:\n",
    "        result = 0\n",
    "        print('x = ',x)\n",
    "        print('result =',result)\n",
    "    return result\n",
    "\n",
    "test_recur(1)"
   ]
  },
  {
   "cell_type": "markdown",
   "metadata": {},
   "source": [
    "### The factorial function as a recursion"
   ]
  },
  {
   "cell_type": "code",
   "execution_count": 4,
   "metadata": {},
   "outputs": [
    {
     "name": "stdout",
     "output_type": "stream",
     "text": [
      "n=  1\n",
      "result =  1\n",
      "n =  2\n",
      "result =  2\n",
      "n =  3\n",
      "result =  6\n",
      "n =  4\n",
      "result =  24\n",
      "n =  5\n",
      "result =  120\n"
     ]
    },
    {
     "data": {
      "text/plain": [
       "120"
      ]
     },
     "execution_count": 4,
     "metadata": {},
     "output_type": "execute_result"
    }
   ],
   "source": [
    "def factorial(n):\n",
    "    if n > 1:\n",
    "        result = n * factorial(n-1)\n",
    "        print('n = ',n)\n",
    "        print('result = ',result)\n",
    "    else:\n",
    "        result = 1\n",
    "        print('n= ',n)\n",
    "        print('result = ',result)\n",
    "    return result\n",
    "\n",
    "factorial(5)"
   ]
  },
  {
   "cell_type": "code",
   "execution_count": 3,
   "metadata": {},
   "outputs": [
    {
     "name": "stdout",
     "output_type": "stream",
     "text": [
      "n =  1\n",
      "result =  1\n",
      "n=  2\n",
      "result =  2\n",
      "n=  3\n",
      "result =  6\n"
     ]
    },
    {
     "data": {
      "text/plain": [
       "6"
      ]
     },
     "execution_count": 3,
     "metadata": {},
     "output_type": "execute_result"
    }
   ],
   "source": [
    "def factorial1(n):\n",
    "    if n == 0:\n",
    "        result = 1\n",
    "        print('n = ',n)\n",
    "        print('result = ',result)\n",
    "    elif n == 1:\n",
    "        result = 1\n",
    "        print('n = ',n)\n",
    "        print('result = ',result)\n",
    "    else:\n",
    "        result = n * factorial1(n-1)\n",
    "        print('n= ',n)\n",
    "        print('result = ',result)\n",
    "    return result\n",
    "\n",
    "factorial1(3)"
   ]
  },
  {
   "cell_type": "markdown",
   "metadata": {},
   "source": [
    "### Fibonacci Numbers"
   ]
  },
  {
   "cell_type": "markdown",
   "metadata": {},
   "source": [
    "#### Definition"
   ]
  },
  {
   "cell_type": "markdown",
   "metadata": {},
   "source": [
    "\n",
    "$F_n=F_{n-1}+F_{n-2}\\qquad n=2,3,4,\\ldots\\qquad F_0=0,F_1=1$\n"
   ]
  },
  {
   "cell_type": "code",
   "execution_count": 21,
   "metadata": {
    "scrolled": true
   },
   "outputs": [
    {
     "name": "stdout",
     "output_type": "stream",
     "text": [
      "fib(0)=  0\n",
      "fib(1)=  1\n",
      "fib(2)=  1\n",
      "fib(3)=  2\n",
      "fib(4)=  3\n",
      "fib(5)=  5\n",
      "fib(6)=  8\n",
      "fib(7)=  13\n",
      "fib(8)=  21\n",
      "fib(9)=  34\n",
      "fib(10)=  55\n"
     ]
    }
   ],
   "source": [
    "def fib(n):\n",
    "    if n == 0:\n",
    "        result = 0\n",
    "        return result\n",
    "    elif n == 1:\n",
    "        result = 1\n",
    "        return result\n",
    "    else:\n",
    "        result=fib(n-1)+fib(n-2)\n",
    "        return result\n",
    "\n",
    "for n in range(0,11):\n",
    "    a=fib(n)\n",
    "    print('fib('+ str(n)+')= ',a)\n"
   ]
  },
  {
   "cell_type": "code",
   "execution_count": 4,
   "metadata": {
    "scrolled": true
   },
   "outputs": [
    {
     "name": "stdout",
     "output_type": "stream",
     "text": [
      "fib(0)=  0\n",
      "fib(1)=  1\n",
      "fib(2)=  1\n",
      "fib(3)=  2\n",
      "fib(4)=  3\n",
      "fib(5)=  5\n",
      "fib(6)=  8\n",
      "fib(7)=  13\n",
      "fib(8)=  21\n",
      "fib(9)=  34\n",
      "fib(10)=  55\n"
     ]
    },
    {
     "data": {
      "image/png": "[encoded data removed]",
      "text/plain": [
       "<Figure size 432x288 with 1 Axes>"
      ]
     },
     "metadata": {
      "needs_background": "light"
     },
     "output_type": "display_data"
    }
   ],
   "source": [
    "def fib(n):\n",
    "    if n == 0:\n",
    "        result = 0\n",
    "        return result\n",
    "    elif n == 1:\n",
    "        result = 1\n",
    "        return result\n",
    "    else:\n",
    "        result=fib(n-1)+fib(n-2)\n",
    "        return result\n",
    "    \n",
    "from matplotlib import pyplot as plt\n",
    "%matplotlib inline\n",
    "import numpy as np\n",
    "\n",
    "c = list(range(0,11))\n",
    "for n in range(0,11):\n",
    "    b[n]=fib(n)\n",
    "    print('fib('+ str(n)+')= ',b[n])\n",
    "plt.step(c,b)\n",
    "plt.plot(c,b,'bs') #'bs' = blue squares\n",
    "plt.ylabel('Fibonacci numbers')\n",
    "plt.show()"
   ]
  },
  {
   "cell_type": "markdown",
   "metadata": {},
   "source": [
    "### Plotting with Matplotlib\n",
    "#### Simple example"
   ]
  },
  {
   "cell_type": "code",
   "execution_count": 17,
   "metadata": {
    "scrolled": false
   },
   "outputs": [
    {
     "data": {
      "image/png": "[encoded data removed]",
      "text/plain": [
       "<Figure size 432x288 with 1 Axes>"
      ]
     },
     "metadata": {
      "needs_background": "light"
     },
     "output_type": "display_data"
    }
   ],
   "source": [
    "%matplotlib inline\n",
    "from matplotlib import pyplot as plt\n",
    "plt.plot([[0,0],[1,1]]) #list of x,y points,[x,y] = [0,0] and [1,1]\n",
    "plt.show()"
   ]
  },
  {
   "cell_type": "markdown",
   "metadata": {},
   "source": [
    "#### A step plot using numpy 1-D arrays for element-wise array multiplication"
   ]
  },
  {
   "cell_type": "code",
   "execution_count": 43,
   "metadata": {
    "scrolled": true
   },
   "outputs": [
    {
     "data": {
      "image/png": "[encoded data removed]",
      "text/plain": [
       "<Figure size 432x288 with 1 Axes>"
      ]
     },
     "metadata": {
      "needs_background": "light"
     },
     "output_type": "display_data"
    }
   ],
   "source": [
    "%matplotlib inline\n",
    "from matplotlib import pyplot as plt\n",
    "import numpy as np\n",
    "x=list(np.arange(0,6))\n",
    "y=np.multiply(x,x) #multipy numpy array x by itself...element-wise multiplication\n",
    "plt.plot(x,y,'sg') #plot assumes the list is along y...determines x automatically\n",
    "plt.step(x,y)\n",
    "plt.show()"
   ]
  },
  {
   "cell_type": "markdown",
   "metadata": {},
   "source": [
    "This is an example of using $\\LaTeX$ for setting mathematical equations in text.\n",
    "\n",
    "\\begin{equation}\n",
    "\\nabla\\cdot\\mathbf{E}=\\rho\n",
    "\\end{equation}"
   ]
  },
  {
   "cell_type": "markdown",
   "metadata": {},
   "source": [
    "### Application to RLC series circuit"
   ]
  },
  {
   "cell_type": "markdown",
   "metadata": {},
   "source": [
    "RLC series circuit:   $V_{\\mathrm{out}}=\\frac{V_0R}{\\sqrt{R^2+\\left(\\omega L-\\frac{1}{\\omega C}\\right)^2}}$"
   ]
  },
  {
   "cell_type": "code",
   "execution_count": 5,
   "metadata": {
    "scrolled": true
   },
   "outputs": [
    {
     "name": "stdout",
     "output_type": "stream",
     "text": [
      "[0.001      0.00601795 0.01112166 0.01639124 0.0219154  0.02779674\n",
      " 0.03415866 0.04115503 0.04898419 0.05791022 0.06829653 0.08066117\n",
      " 0.09577224 0.11482221 0.13976757 0.17404661 0.22425287 0.30451876\n",
      " 0.44918695 0.73715414 0.99513426 0.6841558  0.44883027 0.3280818\n",
      " 0.25859365 0.21405151 0.18319081 0.16056861 0.14327042 0.12960483\n",
      " 0.11852616 0.10935433 0.10162843 0.0950252  0.0893113  0.08431409\n",
      " 0.07990313 0.07597803 0.07246022 0.06928737]\n"
     ]
    },
    {
     "data": {
      "image/png": "[encoded data removed]",
      "text/plain": [
       "<Figure size 432x288 with 1 Axes>"
      ]
     },
     "metadata": {
      "needs_background": "light"
     },
     "output_type": "display_data"
    }
   ],
   "source": [
    "# Calculate and plot Vout from Vin and a series RLC circuit\n",
    "# Use Numpy arrays.\n",
    "\n",
    "%matplotlib inline\n",
    "from matplotlib import pyplot as plt\n",
    "import numpy as np\n",
    "from matplotlib import pyplot as plt\n",
    "\n",
    "def RLC(R,L,C):\n",
    "    w=np.arange(0,20,0.5) #frequency range and resolution\n",
    "    Res=np.zeros(len(w)) #len(w) take into account length of w array\n",
    "    Res = R # add resistance values\n",
    "    Res2 = Res * Res \n",
    "    w=w*1000\n",
    "    wL=w*L\n",
    "    wC=w*C\n",
    "    wC=wC+0.00001\n",
    "    Z = wL + (-1/wC)\n",
    "    Z2 = Z*Z\n",
    "    Sum = Res2 + Z2\n",
    "    Vout=R/np.sqrt(Sum)\n",
    "    x=np.zeros(len(w))\n",
    "    x=w*0.01\n",
    "    print(Vout)\n",
    "    plt.plot(x,Vout,'sg')\n",
    "    plt.xlabel('Vin Frequncy(KHz)')\n",
    "    plt.ylabel('Vout(Volts)')\n",
    "    plt.title('RLC Series Circuit Frequency Reponse')\n",
    "    plt.show()\n",
    "\n",
    "\n",
    "\n",
    "        \n",
    "RLC(100,0.1,1e-7)"
   ]
  },
  {
   "cell_type": "code",
   "execution_count": null,
   "metadata": {},
   "outputs": [],
   "source": []
  }
 ],
 "metadata": {
  "kernelspec": {
   "display_name": "Python 3",
   "language": "python",
   "name": "python3"
  },
  "language_info": {
   "codemirror_mode": {
    "name": "ipython",
    "version": 3
   },
   "file_extension": ".py",
   "mimetype": "text/x-python",
   "name": "python",
   "nbconvert_exporter": "python",
   "pygments_lexer": "ipython3",
   "version": "3.6.7"
  }
 },
 "nbformat": 4,
 "nbformat_minor": 2
}
