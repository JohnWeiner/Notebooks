{
 "cells": [
  {
   "cell_type": "markdown",
   "metadata": {},
   "source": [
    "### Recursion in python"
   ]
  },
  {
   "cell_type": "code",
   "execution_count": 1,
   "metadata": {},
   "outputs": [
    {
     "name": "stdout",
     "output_type": "stream",
     "text": [
      "x =  0\n",
      "result = 0\n",
      "x =  1\n",
      "result = 1\n",
      "x =  2\n",
      "result = 3\n"
     ]
    },
    {
     "data": {
      "text/plain": [
       "3"
      ]
     },
     "execution_count": 1,
     "metadata": {},
     "output_type": "execute_result"
    }
   ],
   "source": [
    "\n",
    "def test_recur(x):\n",
    "    if(x)>0:\n",
    "        result=x+test_recur(x-1)\n",
    "        print('x = ',x)\n",
    "        print('result =',result)\n",
    "    else:\n",
    "        result=0\n",
    "        print('x = ',x)\n",
    "        print('result =',result)\n",
    "    return result\n",
    "\n",
    "test_recur(2)"
   ]
  },
  {
   "cell_type": "markdown",
   "metadata": {},
   "source": [
    "### The factorial function as a recursion"
   ]
  },
  {
   "cell_type": "code",
   "execution_count": 2,
   "metadata": {},
   "outputs": [
    {
     "name": "stdout",
     "output_type": "stream",
     "text": [
      "n=  1\n",
      "result =  1\n",
      "n =  2\n",
      "result =  2\n",
      "n =  3\n",
      "result =  6\n",
      "n =  4\n",
      "result =  24\n",
      "n =  5\n",
      "result =  120\n"
     ]
    },
    {
     "data": {
      "text/plain": [
       "120"
      ]
     },
     "execution_count": 2,
     "metadata": {},
     "output_type": "execute_result"
    }
   ],
   "source": [
    "def factorial(n):\n",
    "    if n > 1:\n",
    "        result = n*factorial(n-1)\n",
    "        print('n = ',n)\n",
    "        print('result = ',result)\n",
    "    else:\n",
    "        result=1\n",
    "        print('n= ',n)\n",
    "        print('result = ',result)\n",
    "    return result\n",
    "\n",
    "factorial(5)"
   ]
  },
  {
   "cell_type": "code",
   "execution_count": 3,
   "metadata": {},
   "outputs": [
    {
     "name": "stdout",
     "output_type": "stream",
     "text": [
      "n =  1\n",
      "result =  1\n",
      "n=  2\n",
      "result =  2\n",
      "n=  3\n",
      "result =  6\n"
     ]
    },
    {
     "data": {
      "text/plain": [
       "6"
      ]
     },
     "execution_count": 3,
     "metadata": {},
     "output_type": "execute_result"
    }
   ],
   "source": [
    "def factorial1(n):\n",
    "    if n == 0:\n",
    "        result = 1\n",
    "        print('n = ',n)\n",
    "        print('result = ',result)\n",
    "    elif n == 1:\n",
    "        result = 1\n",
    "        print('n = ',n)\n",
    "        print('result = ',result)\n",
    "    else:\n",
    "        result=n*factorial1(n-1)\n",
    "        print('n= ',n)\n",
    "        print('result = ',result)\n",
    "    return result\n",
    "\n",
    "factorial1(3)"
   ]
  },
  {
   "cell_type": "markdown",
   "metadata": {},
   "source": [
    "### Fibonacci Numbers"
   ]
  },
  {
   "cell_type": "markdown",
   "metadata": {},
   "source": [
    "#### Definition"
   ]
  },
  {
   "cell_type": "markdown",
   "metadata": {},
   "source": [
    "\\begin{equation}\n",
    "F_n=F_{n-1}+F_{n-2}\n",
    "\\end{equation}"
   ]
  },
  {
   "cell_type": "code",
   "execution_count": 4,
   "metadata": {
    "scrolled": true
   },
   "outputs": [
    {
     "name": "stdout",
     "output_type": "stream",
     "text": [
      "n =  1\n",
      "fib(1) =  1\n",
      "n =  0\n",
      "fib(0)  0\n",
      "n =  2\n",
      "fib(2) =  1\n",
      "n =  1\n",
      "fib(1) =  1\n",
      "n =  3\n",
      "fib(3) =  2\n",
      "n =  1\n",
      "fib(1) =  1\n",
      "n =  0\n",
      "fib(0)  0\n",
      "n =  2\n",
      "fib(2) =  1\n",
      "n =  4\n",
      "fib(4) =  3\n",
      "n =  1\n",
      "fib(1) =  1\n",
      "n =  0\n",
      "fib(0)  0\n",
      "n =  2\n",
      "fib(2) =  1\n",
      "n =  1\n",
      "fib(1) =  1\n",
      "n =  3\n",
      "fib(3) =  2\n",
      "n =  5\n",
      "fib(5) =  5\n"
     ]
    },
    {
     "data": {
      "text/plain": [
       "5"
      ]
     },
     "execution_count": 4,
     "metadata": {},
     "output_type": "execute_result"
    }
   ],
   "source": [
    "def fib(n):\n",
    "    if n == 1:\n",
    "        result = 1\n",
    "        print('n = ',n)\n",
    "        print('fib(1) = ',result)\n",
    "        return result\n",
    "    elif n == 0:\n",
    "        result = 0\n",
    "        print('n = ',n)\n",
    "        print('fib(0) ',result)\n",
    "        return result\n",
    "    else:\n",
    "        result=fib(n-1)+fib(n-2)\n",
    "        print('n = ',n)\n",
    "        print('fib'+'('+str(n)+')'+' = ',result)\n",
    "        return result\n",
    "fib(5)"
   ]
  },
  {
   "cell_type": "code",
   "execution_count": null,
   "metadata": {},
   "outputs": [],
   "source": []
  }
 ],
 "metadata": {
  "kernelspec": {
   "display_name": "Python 3",
   "language": "python",
   "name": "python3"
  },
  "language_info": {
   "codemirror_mode": {
    "name": "ipython",
    "version": 3
   },
   "file_extension": ".py",
   "mimetype": "text/x-python",
   "name": "python",
   "nbconvert_exporter": "python",
   "pygments_lexer": "ipython3",
   "version": "3.6.7"
  }
 },
 "nbformat": 4,
 "nbformat_minor": 2
}
