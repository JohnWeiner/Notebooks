{
 "cells": [
  {
   "cell_type": "markdown",
   "metadata": {},
   "source": [
    "# Light Matter Interaction: Physics and Engineering at the Nanoscale\n",
    "\n",
    "## The history of light: What is it?\n",
    "\n",
    "### Light in Antiquity"
   ]
  },
  {
   "cell_type": "code",
   "execution_count": 6,
   "metadata": {},
   "outputs": [
    {
     "data": {
      "text/html": [
       "('''<script>\n",
       "code_show=true; \n",
       "function code_toggle() {\n",
       " if (code_show){\n",
       " $('div.input').hide();\n",
       " } else {\n",
       " $('div.input').show();\n",
       " }\n",
       " code_show = !code_show\n",
       "} \n",
       "$( document ).ready(code_toggle);\n",
       "</script>\n",
       "The raw code for this IPython notebook is by default hidden for easier reading.\n",
       "To toggle on/off the raw code, click <a href=\"javascript:code_toggle()\">here</a>.''')\n"
      ],
      "text/plain": [
       "<IPython.core.display.HTML object>"
      ]
     },
     "metadata": {},
     "output_type": "display_data"
    }
   ],
   "source": [
    "%%HTML\n",
    "('''<script>\n",
    "code_show=true; \n",
    "function code_toggle() {\n",
    " if (code_show){\n",
    " $('div.input').hide();\n",
    " } else {\n",
    " $('div.input').show();\n",
    " }\n",
    " code_show = !code_show\n",
    "} \n",
    "$( document ).ready(code_toggle);\n",
    "</script>\n",
    "The raw code for this IPython notebook is by default hidden for easier reading.\n",
    "To toggle on/off the raw code, click <a href=\"javascript:code_toggle()\">here</a>.''')"
   ]
  },
  {
   "cell_type": "markdown",
   "metadata": {},
   "source": [
    "#### Leucippus"
   ]
  },
  {
   "cell_type": "markdown",
   "metadata": {},
   "source": [
    "Greek atomists:\n",
    "    Leucippus, a Greek phiosopher 5th century BC.\n",
    "    Democritus (460-370 BC) was Leucippus' best student."
   ]
  },
  {
   "cell_type": "markdown",
   "metadata": {},
   "source": [
    "<figure>\n",
    "<center>\n",
    "  <img src=\"./image_files/Leucippe_(portrait).jpg\" alt=\"Leucippe\" class=\"center\" style=\"width:35%\">\n",
    "  <figcaption>Fig 1. Greek philosopher Leucippus  </figcaption>\n",
    "</figure><center>"
   ]
  },
  {
   "cell_type": "markdown",
   "metadata": {},
   "source": [
    "Leucippus founded the school of _atomism_.  All things composed of tiny, irreducible, immutable objects (including light).  In between objects was nothing...just a void."
   ]
  },
  {
   "cell_type": "markdown",
   "metadata": {},
   "source": [
    "#### Lucretius"
   ]
  },
  {
   "cell_type": "markdown",
   "metadata": {},
   "source": [
    "Atomism was expounded and popularised by Lucretius (c. 99 BC - 55 BC) in an extened epic poem, _De Rerum Natura_ (The Nature of Things).  What we know about early atomists comes principally from this poem."
   ]
  },
  {
   "cell_type": "markdown",
   "metadata": {},
   "source": [
    "<figure>\n",
    "<center>\n",
    "  <img src=\"./image_files/Lucretius1.png\" alt=\"Lucretius\" class=\"center\" style=\"width:35%\">\n",
    "  <figcaption>Fig 2. Roman poet Lucretius  </figcaption>\n",
    "</figure><center>"
   ]
  },
  {
   "cell_type": "markdown",
   "metadata": {},
   "source": [
    "#### Empedocles"
   ]
  },
  {
   "cell_type": "markdown",
   "metadata": {},
   "source": [
    "Empedocles (490-430 BC) proposed that the cosmos wss composed of four elements: fire, air, water, earth. The diversity in nature was due to the interactions between the four elements. The two interactions were **love** (attractive) and **strife** (repulsive)"
   ]
  },
  {
   "cell_type": "markdown",
   "metadata": {},
   "source": [
    "<figure>\n",
    "<center>\n",
    "  <img src=\"./image_files/EmpedoclesCosmicCycle.png\" alt=\"Empedocles\" class=\"center\" style=\"width:75%\">\n",
    "  <figcaption>Fig 3. Empedocles cosmic cycle  </figcaption>\n",
    "</figure><center>"
   ]
  },
  {
   "cell_type": "markdown",
   "metadata": {},
   "source": [
    "Empedocles conjectured that light is a flux of particles that stream _out_ of our eyes in straight lines and scatter off objects.  The idea was close enough for Euclid's geometry and optics to explain simple observations.  Euclid's optics in turn influenced Claudius Ptolemy (90-168 AD) whose system of earth-centered geometric astronomh held sway until the European Renaissance."
   ]
  },
  {
   "cell_type": "markdown",
   "metadata": {},
   "source": [
    "#### Ibn al-Haytham"
   ]
  },
  {
   "cell_type": "markdown",
   "metadata": {},
   "source": [
    "Ibn al-Haytham (or Alhazen) was really the father of modern optics.  Contrary to Empedocles and Ptolemy, al-Haytham believed that the eye _detected_ light from an external source. Unlike the Greek tradition of pure speculation, Alhazen relied on experiments to test his speculative theories."
   ]
  },
  {
   "cell_type": "markdown",
   "metadata": {},
   "source": [
    "<figure>\n",
    "  <center>\n",
    "      <figure style=\"width:75%\">\n",
    "  <img src=\"./image_files/AlhazanOptics.png\" alt=\"Alhazen\" \n",
    "      <figcaption>\n",
    "          Fig 4. Front cover of Alhazen's treatise on optics.  Note the many effects of light: refraction, reflection, focusing, rainbow, and the use of optics in warfare (before lasers).  \n",
    "      </figcaption>\n",
    " </center>    \n",
    "</figure>"
   ]
  },
  {
   "cell_type": "markdown",
   "metadata": {},
   "source": [
    "## Fast Forward to the European Renaissance: Light and Matter begin to be distinguished"
   ]
  },
  {
   "cell_type": "markdown",
   "metadata": {},
   "source": [
    "#### Galileo"
   ]
  },
  {
   "cell_type": "markdown",
   "metadata": {},
   "source": [
    "Things begin to change during the European enlightenment of the 16th century. Copernicus proposes a sun-centered scheme for the solar system in 1543, challenging the accepted theory of Ptolemy.  Galileo, with his new optical instrument, the telescope, proves that the moons of Jupiter revolve around Jupiter; _not_ around the earth.  America is rediscovered 1492-1504.  The earth is no longer the center of the universe and Europe is no longer the center of the earth.  Galileo defended and poplularised the new Copernican solar system by writing a _Dialog_, the front cover of which is depicted below."
   ]
  },
  {
   "cell_type": "markdown",
   "metadata": {},
   "source": [
    "<figure>\n",
    "  <center>\n",
    "      <figure style=\"width:85%\">\n",
    "  <img src=\"./image_files/GalileoDialogue.png\" alt=\"GalileoDialogue\" \n",
    "      <figcaption>\n",
    "          Fig 5.  Galileo's Dialog between Salviati (left, smart scientist...resembles Galileo, explaining the new Copernican solar system), Sagredo (center, wise man, listening,taking notes, and acting as intermediary between Salviati and ...), Simplicio (right, simpleton...bears a striking remblance to Pope Urban VIII).\n",
    "      </figcaption>\n",
    " </center>    \n",
    "</figure>"
   ]
  },
  {
   "cell_type": "markdown",
   "metadata": {},
   "source": [
    "#### Descartes"
   ]
  },
  {
   "cell_type": "markdown",
   "metadata": {},
   "source": [
    "Descartes (1596-1650) proposed a new \"theory of everything\".  His theory consisted of three postulates: 1. The universe consists of matter and motion, 2. Force can only be transmitted by physical contact (no \"action at a distance\"), 3. The apparent void between bodies (e.g. the moon and the earth) is filled by a finely grained _plenum_ that would later play the role of the _lumeniferous ether_, the medium that carries light waves.  Light emission, reflection, refraction, and absorption were all explained in terms of material flux. "
   ]
  },
  {
   "cell_type": "markdown",
   "metadata": {},
   "source": [
    "<figure>\n",
    "  <center>\n",
    "      <figure style=\"width:50%\">\n",
    "  <img src=\"./image_files/Frans_Hals_-_Portret_van_René_Descartes.jpg\" alt=\"RenéDescartes\" \n",
    "      <figcaption>\n",
    "          Fig 6.  René Descartes\n",
    "      </figcaption>\n",
    " </center>    \n",
    "</figure>"
   ]
  },
  {
   "cell_type": "markdown",
   "metadata": {},
   "source": [
    "### After Descartes light and matter develop along separate paths:"
   ]
  },
  {
   "cell_type": "markdown",
   "metadata": {},
   "source": [
    "<figure>\n",
    "  <center>\n",
    "      <figure style=\"width:40%\">\n",
    "  <img src=\"./image_files/ScienceTimeLine.jpg\" alt=\"ScienceTimeLine\" \n",
    "      <figcaption>\n",
    "          Fig 7.  A diagram of the time-line in the development the understanding of light and matter.\n",
    "      </figcaption>\n",
    " </center>    \n",
    "</figure>"
   ]
  },
  {
   "cell_type": "markdown",
   "metadata": {},
   "source": [
    "### What is light?"
   ]
  },
  {
   "cell_type": "markdown",
   "metadata": {},
   "source": [
    "#### Pierre de Fermat"
   ]
  },
  {
   "cell_type": "markdown",
   "metadata": {},
   "source": [
    "Descarte's interpretation of refraction was challenged by Pierre de Fermat (1601-1655) who explained the deviation of light rays on the basis of the principle of _least time_.  That is, the path taken by a ray of light between two points is the path that can be traversed in the least time.  Applying this principle, Fermat derived that the sines of the incident and refracted angles are in a constant ratio, essentially equivalent to what we now term \"Snell's Law\".  Descartes was also able to deduce Snell's Law on the basis of the refraction of light \"particles\", but the velocity of light was required to _increase_ in the denser medium.  Fermat's principle of least time requres the apparent velociyty to _decrease_ (as it in fact does)."
   ]
  },
  {
   "cell_type": "markdown",
   "metadata": {},
   "source": [
    "<figure>\n",
    "  <center>\n",
    "      <figure style=\"width:80%\">\n",
    "  <img src=\"./image_files/Pierre_de_Fermat.jpg\" alt=\"Pierre de Fermat\" \n",
    "      <figcaption>\n",
    "          Fig 8.  Pierre de Fermat\n",
    "      </figcaption>\n",
    " </center>    \n",
    "</figure>"
   ]
  },
  {
   "cell_type": "markdown",
   "metadata": {},
   "source": [
    "#### Francesco Grimaldi"
   ]
  },
  {
   "cell_type": "markdown",
   "metadata": {},
   "source": [
    "The next significant observation was light _diffraction_, a term coined by Grimaldi (1618-1663) to describe the appearance of light beyond the geometrical shadow boundary defined by the supposed rectilinear motion of light-particle flux."
   ]
  },
  {
   "cell_type": "markdown",
   "metadata": {},
   "source": [
    "<figure>\n",
    "  <center>\n",
    "      <figure style=\"width:75%\">\n",
    "  <img src=\"./image_files/GramaldiPortrait_Diagram.png\" alt=\"Francesco Grimaldi\" \n",
    "      <figcaption>\n",
    "          Fig 9.  Francesco Grimaldi and his diagram showing how light should cast shadows based on the rays traveling in straight lines.  The light at positions I,K cannot be explained by geometric optics.\n",
    "      </figcaption>\n",
    " </center>    \n",
    "</figure>"
   ]
  },
  {
   "cell_type": "markdown",
   "metadata": {},
   "source": [
    "#### Robert Hooke"
   ]
  },
  {
   "cell_type": "markdown",
   "metadata": {},
   "source": [
    "Diffraction was also observed by Robert Hooke (1635-1703) who conjectured that light was due to rapid vibratory motion of very small particles of which ordinary matter is composed.  Hooke had the brilliant insight that light (still considered a kind of matter flux) propagated outward from the center of tiny vibrating points and that light \"rays\" were trajectories at right angles to these circular figures.  This view of light propagation laid the foundation for the construction of wave fronts with which Hooke was able to explain diffraction."
   ]
  },
  {
   "cell_type": "markdown",
   "metadata": {},
   "source": [
    "<figure>\n",
    "  <center>\n",
    "      <figure style=\"width:35%\">\n",
    "  <img src=\"./image_files/Portrait_of_Robert_Hooke.jpg\" alt=\"Robert Hooke\" \n",
    "      <figcaption>\n",
    "          Fig 10.  Robert Hooke\n",
    "      </figcaption>\n",
    " </center>    \n",
    "</figure>"
   ]
  },
  {
   "cell_type": "markdown",
   "metadata": {},
   "source": [
    "#### Christiaan Huygens"
   ]
  },
  {
   "cell_type": "markdown",
   "metadata": {},
   "source": [
    "Although Hooke took the first steps toward a wave theory of light, it was Christiaan Huygens (1629-1695) who put it on a firmer foundation by expressing refraction in terms of the principle that each element of a wave front may be regarded as the center of a secondary disturbance, giving rise to spherical waves.  The wavefront at any later time is the envelope of all such secondary wavelets."
   ]
  },
  {
   "cell_type": "markdown",
   "metadata": {},
   "source": [
    "<center>\n",
    "    <figure>\n",
    "      <figure style=\"width:80%\">\n",
    "          <img src=\"./image_files/Christiaan_Huygens-painting.jpg\" alt=\"Christiaan Huygens\" style=\"width:50%\">\n",
    "          <img src=\"./image_files/Refraction_on_an_aperture_-_Huygens-Fresnel_principle.svg\" alt=\"Huygens-Fresnel\" style=\"width:50%\">\n",
    "    <figcaption>\n",
    "          Fig 11.  Christiaan Huygens and a diagram showing the Huygens_Fresnel principle of wavefront construction from secondary wavelets.\n",
    "     </figcaption>\n",
    "    </figure>\n",
    "</center>"
   ]
  },
  {
   "cell_type": "markdown",
   "metadata": {},
   "source": [
    "#### Isaac Newton"
   ]
  },
  {
   "cell_type": "markdown",
   "metadata": {},
   "source": [
    "Isaac Newton (1642-1727) showed that the idea that light consisted of **longitudinal compressive** waves, radiating from points could **not** explain double diffraction or the general phenomena of polarisation.  Newton was convinced tat all was \"mass and motion\" (à la Descartes) and that light was a flux of bodies (corpuscles) moving in straight-line trajectories.  Newton's polarisation arguments were considered fatal for the wave interpretation of light until the double-slit experiments of Thomas Young (1773-1829)."
   ]
  },
  {
   "cell_type": "markdown",
   "metadata": {},
   "source": [
    "<figure>\n",
    "  <center>\n",
    "      <figure style=\"width:35%\">\n",
    "  <img src=\"./image_files/GodfreyKneller-IsaacNewton-1689.jpg\" alt=\"IsaacNewtonPic\" \n",
    "      <figcaption>\n",
    "          Fig 12.  Isaac Newton\n",
    "      </figcaption>\n",
    " </center>    \n",
    "</figure>"
   ]
  },
  {
   "cell_type": "markdown",
   "metadata": {},
   "source": [
    "#### Thomas Young"
   ]
  },
  {
   "cell_type": "markdown",
   "metadata": {},
   "source": [
    "##### Is light a vibrating flux of particles? The Young's double slit experiment."
   ]
  },
  {
   "cell_type": "markdown",
   "metadata": {},
   "source": [
    "Thomas Young, born in 1773 in England, was a child prodigy, learning to read by the age of two yers old and teaching himself latin at the age of six.  jWhen he was seventeen, he studied Newton's work on optics and noticed difficulties of the corpuscular theory to explain reflection and refraction at the interface between two dielectrics (say, air and water) and the known phenomenon of diffraction.  In 1801 he gave a series of lectures at the Royal Institution in London where he demonstrated an early, single-slit variant of his famous later two-slit setup shown below on the left.  On the basis of his experimental results he proposed a wave theory of light, analogous to sound waves, in which the oscillating amplitude was in the same diretion as the wave propagation.  Young thought of light waves as _longitudinal oscillations_.  However, Newton pointed out that Young's wave theory could not explain polarisation phenomena or certain aspects of diffraction involving crystals exhibiting two refractive indices.  Although Young's experiments were suggestive, they did not by themselves decide the issue."
   ]
  },
  {
   "cell_type": "markdown",
   "metadata": {},
   "source": [
    "<figure>\n",
    "  <center>\n",
    "      <figure style=\"width:80%\">\n",
    "  <img src=\"./image_files/ThomasYoung.png\" alt=\"Thomas Young\" \n",
    "      <figcaption>\n",
    "          Fig 13.  A diagram of the two-slit experiment and a portrait of Thomas Young\n",
    "      </figcaption>\n",
    " </center>    \n",
    "</figure>"
   ]
  },
  {
   "cell_type": "markdown",
   "metadata": {},
   "source": [
    "#### The Scientific Revolution Begins to Accelerate\n",
    "##### Augustin-Jean Fresnel, François Arago, Siméon Denis Poisson"
   ]
  },
  {
   "cell_type": "markdown",
   "metadata": {},
   "source": [
    "At the beginning of the 18th century the nature of light was still very much in doubt.  The notion, commonly attributed to Newton, that light consisted of beams of particles, or \"corpuscles,\" traveling in straight lines through homogenous media, held sway.  But from 1801 to 1803 Thomas Young carried out well-designed diffraction experiments that put the wave theory of light back in the race.  Although Young's experiments (expecially the double-slit experiment published in 1807) severely challenged the corpuscular theory, light waves were still considered to be vibratory motion in the _longitudinal_ direction, _i.e._ along the direction of propagation.  As such they could not account for polarisation.\n",
    "\n",
    "However, in 1821 the French engineer Augustin_Jean Fresnel (1799-1827) showed that polarisation was consistent with the wave picture if the periodic vibration was _transverse_ to the direction of propagation.  this finding removed the principal remaining objection to the wave picture of light.  The dramatic Poisson (or Arago) spot demonstration, in which a bright central spot can be observed in the geometric shadow of an opaque circular screen, laid to trest the corpuscular model forever (or so it seemed at the time)."
   ]
  },
  {
   "cell_type": "code",
   "execution_count": 9,
   "metadata": {},
   "outputs": [],
   "source": [
    "#### Fresenl Diffraction and the Poisson (or Arago) Spot"
   ]
  },
  {
   "cell_type": "code",
   "execution_count": 53,
   "metadata": {
    "scrolled": false
   },
   "outputs": [
    {
     "data": {
      "text/html": [
       "<!DOCTYPE html>\n",
       "<html>\n",
       "<head>\n",
       "<style>\n",
       ".flex-container {\n",
       "  display: flex;\n",
       "  flex-direction: row;\n",
       "  justify-content: center;  \n",
       "  background-color: #f1f1f;\n",
       "}\n",
       "\n",
       ".flex-container > div {\n",
       "  background-color: #f1f1f1;\n",
       "  justify-content: center;  \n",
       "  margin: 10px;\n",
       "  padding: 20px;\n",
       "  font-size: 30px;\n",
       "}\n",
       "</style>\n",
       "</head>\n",
       "<body>\n",
       "\n",
       "<div class=\"flex-container\">\n",
       "    <div><img src=\"./image_files/Augustin_Fresnel.jpg\" alt=\"Fresnel\" style=\"width:100%\">\n",
       "     </div>\n",
       "    <div><img src=\"./image_files/Arago_Francois_portrait.jpg\" alt=\"Arago\" style=\"width:100%\">\n",
       "     </div>\n",
       "    <div><img src=\"./image_files/SiméonDenisPoisson.jpg\" alt=\"Poisson\" style=\"width:100%\">\n",
       "     </div> \n",
       "</div>\n",
       "<div class=\"caption\">\n",
       "    Fig. 14\n",
       "    <center>\n",
       "    From left to right: Augustin Fresenel, François Arago, Siméon Denis Poisson\n",
       "    </center>\n",
       "    </div>\n",
       "</div>\n",
       "</body>\n",
       "</html>\n"
      ],
      "text/plain": [
       "<IPython.core.display.HTML object>"
      ]
     },
     "metadata": {},
     "output_type": "display_data"
    }
   ],
   "source": [
    "%%HTML\n",
    "<!DOCTYPE html>\n",
    "<html>\n",
    "<head>\n",
    "<style>\n",
    ".flex-container {\n",
    "  display: flex;\n",
    "  flex-direction: row;\n",
    "  justify-content: center;  \n",
    "  background-color: #f1f1f;\n",
    "}\n",
    "\n",
    ".flex-container > div {\n",
    "  background-color: #f1f1f1;\n",
    "  justify-content: center;  \n",
    "  margin: 10px;\n",
    "  padding: 20px;\n",
    "  font-size: 30px;\n",
    "}\n",
    "</style>\n",
    "</head>\n",
    "<body>\n",
    "\n",
    "<div class=\"flex-container\">\n",
    "    <div><img src=\"./image_files/Augustin_Fresnel.jpg\" alt=\"Fresnel\" style=\"width:100%\">\n",
    "     </div>\n",
    "    <div><img src=\"./image_files/Arago_Francois_portrait.jpg\" alt=\"Arago\" style=\"width:100%\">\n",
    "     </div>\n",
    "    <div><img src=\"./image_files/SiméonDenisPoisson.jpg\" alt=\"Poisson\" style=\"width:100%\">\n",
    "     </div> \n",
    "</div>\n",
    "<div class=\"caption\">\n",
    "    Fig. 14\n",
    "    <center>\n",
    "    From left to right: Augustin Fresenel, François Arago, Siméon Denis Poisson\n",
    "    </center>\n",
    "    </div>\n",
    "</div>\n",
    "</body>\n",
    "</html>\n"
   ]
  },
  {
   "cell_type": "markdown",
   "metadata": {},
   "source": [
    "##### The Poisson Spot Experiment"
   ]
  },
  {
   "cell_type": "markdown",
   "metadata": {},
   "source": [
    "At the beginning of the 19th century, the consensus view of the nature of light was strongly influenced by the \"corpuscular\" theory of Newton and the \"plenum\" theory of Descartes.  Light consisted of a stream of particles that moved in straight lines through a medium, the plenum, that was everywhere present in space.  This plenum was later to be termed the \"luminiferous ether\".  After the experiments of Thomas Young, the most famous of which is the double-slit experiment, the wave nature of light enjoyed a growing renaissance, but the question was far from settled.\n",
    "\n",
    "The French Academy organised a competition in 1818 for proposals to finally decide the issue.  Augustin-Jean Fresnel, a young civil engineer, submitted a proposal for a detailed wave theory of light to explain the Young's double-slit experiment.  Siméon Denis Poisson, a celebrated French mathematician, was on the jury judging the entries; and François Arago, who was to be later a _Président de la République_, was president of the jury.  Poisson favored Newton's corpuscular theory and tried to disprove the Fresnel approach by showing that if Fresnel's idea were true, then a bright spot (due to Fresenel diffraction) should appear in the center of a circular shadow cast by an object, illuminated by a point source, on a distant screen.  The setup is shown below on the left.  Poisson thought that his analysis led to an absurdity, proving that Fresnel could not possibly be correct, because it was common knowledge that shadows do not show bright spots, but they do obey the predictions of straight0-line geometric optics, in accordance with the corpuscular theory of light.  However, Arago was an experimentalist and in his laboratory performed a careful experiment, the results of which were similar to those shown on the right below.  Arago indeed observed a bright spot in the center of the shadow!  Needeless to say, Fresenl was accorded the prize for the competition."
   ]
  },
  {
   "cell_type": "markdown",
   "metadata": {},
   "source": [
    "<figure>\n",
    "  <center>\n",
    "      <figure style=\"width:80%\">\n",
    "  <img src=\"./image_files/FresnelDiffraction.png\" alt=\"Fresenl\" \n",
    "      <figcaption>\n",
    "          Fig 15.  Fresenl diffraction and the Poisson spot experiment.\n",
    "      </figcaption>\n",
    " </center>    \n",
    "</figure>"
   ]
  },
  {
   "cell_type": "markdown",
   "metadata": {},
   "source": [
    "#### Fizau, Foucault and the speed of light"
   ]
  },
  {
   "cell_type": "markdown",
   "metadata": {},
   "source": [
    "Hippolyte Fizeau (1819-1896) and Léon Foucault (1819-1868) carried out experiments to measure the absolute speed of light in air.  Fizeau used a rotating cog-wheel apparatus (see below) and Foucault used a rotating mirror apparatus.  The use of the rotating mirror idea was a suggestion from François Arago.  Fizeau was able to determine the speed of light to within 5% of the modern value."
   ]
  },
  {
   "cell_type": "code",
   "execution_count": 3,
   "metadata": {},
   "outputs": [
    {
     "data": {
      "text/html": [
       "{\n",
       "    \"tags\": [\n",
       "        \"hidecode\",\n",
       "    ]\n",
       "}\n",
       "<style>\n",
       "* {\n",
       "  box-sizing: border-box;\n",
       "}\n",
       "\n",
       ".column {\n",
       "  float: left;\n",
       "  width: 50%;\n",
       "  padding: 5px;\n",
       "}\n",
       "\n",
       ".row::after {\n",
       "  content: \"\";\n",
       "  clear: both;\n",
       "  display: table;\n",
       "}\n",
       "\n",
       "</style>\n",
       "<div class=\"row\">\n",
       "  <div class=\"column\">\n",
       "  <img src=\"./image_files/Hippolyte_Fizeau.jpg\" alt=\"FizeauPic\" style=\"width:75%;\">\n",
       "  </div>\n",
       "  <div class=\"column\">\n",
       "  <img src=\"./image_files/Foucault.jpg\" alt=\"FoucaultPic\" style=\"width:75%;\">\n",
       "</div>\n",
       "<center>\n",
       "<figcaption>\n",
       "          Fig 16. Hippolyte Fizeau (left) and Léon Foucault (right).\n",
       "</figcaption>\n",
       "</center?\n"
      ],
      "text/plain": [
       "<IPython.core.display.HTML object>"
      ]
     },
     "metadata": {},
     "output_type": "display_data"
    }
   ],
   "source": [
    "%%HTML\n",
    "<style>\n",
    "* {\n",
    "  box-sizing: border-box;\n",
    "}\n",
    "\n",
    ".column {\n",
    "  float: left;\n",
    "  width: 50%;\n",
    "  padding: 5px;\n",
    "}\n",
    "\n",
    ".row::after {\n",
    "  content: \"\";\n",
    "  clear: both;\n",
    "  display: table;\n",
    "}\n",
    "\n",
    "</style>\n",
    "<div class=\"row\">\n",
    "  <div class=\"column\">\n",
    "  <img src=\"./image_files/Hippolyte_Fizeau.jpg\" alt=\"FizeauPic\" style=\"width:75%;\">\n",
    "  </div>\n",
    "  <div class=\"column\">\n",
    "  <img src=\"./image_files/Foucault.jpg\" alt=\"FoucaultPic\" style=\"width:75%;\">\n",
    "</div>\n",
    "<center>\n",
    "<figcaption>\n",
    "          Fig 16. Hippolyte Fizeau (left) and Léon Foucault (right).\n",
    "</figcaption>\n",
    "</center?"
   ]
  },
  {
   "cell_type": "markdown",
   "metadata": {},
   "source": [
    "#### Michael Faraday and lines of force"
   ]
  },
  {
   "cell_type": "markdown",
   "metadata": {},
   "source": [
    "At the same time that Young and Fresnel were correctly characterising the wave nature of light, Michael Faraday (1791-1867) was carrying out experiments in electricity and magnetism."
   ]
  },
  {
   "cell_type": "markdown",
   "metadata": {
    "scrolled": true
   },
   "source": [
    "%%HTML\n",
    "<style>\n",
    "* {\n",
    "  box-sizing: border-box;\n",
    "}\n",
    "\n",
    ".img-container {\n",
    "  float: left;\n",
    "  width: 50%;\n",
    "  padding: 5px;\n",
    "}\n",
    "\n",
    ".clearfix::after {\n",
    "  content: \"\";\n",
    "  clear: both;\n",
    "  display: table;\n",
    "}\n",
    "</style>\n",
    "\n",
    "<figure>\n",
    "<div class=\"clearfix\">\n",
    "  <div class=\"img-container\">\n",
    "  <img src=\"./image_files/Michael_Faraday.jpg\" alt=\"FaradayPic\" style=\"width:50%;\">\n",
    "  </div>\n",
    "  <div class=\"img-container\">\n",
    "  <img src=\"./image_files/MagneticLinesForce.gif\" alt=\"LinesForce\" style=\"width:50%;\">\n",
    "</div>\n",
    "<figcaption>\n",
    "          Fig 17. David Faraday (left) and a bar magnet showing the magnetic lines of force (right).\n",
    "</figcaption>\n",
    "</figure>"
   ]
  },
  {
   "cell_type": "markdown",
   "metadata": {},
   "source": [
    "#### James Clerk Maxwell and the unification of electricity and magnetism"
   ]
  },
  {
   "cell_type": "markdown",
   "metadata": {},
   "source": [
    "The next step was the great unification of electric, magnetic, and optical phenomena effected by James Clerk Maxwell (1831-1879). In 1865 Maxwell published _A Dynamical Theory of the Electromagnetic Field_ in which he set forth the proposition that light was in fact a transverse electromagnetic wave."
   ]
  },
  {
   "cell_type": "markdown",
   "metadata": {},
   "source": [
    "<figure>\n",
    "  <center>\n",
    "      <figure style=\"width:75%\">\n",
    "  <img src=\"./image_files/James_Clerk_Maxwell.png\" alt=\"JamesClerkMaxwellPic\" \n",
    "      <figcaption>\n",
    "          Fig 18.  James Clerk Maxwell\n",
    "      </figcaption>\n",
    " </center>    \n",
    "</figure>"
   ]
  },
  {
   "cell_type": "markdown",
   "metadata": {},
   "source": [
    "## Matter: What is it?"
   ]
  },
  {
   "cell_type": "markdown",
   "metadata": {},
   "source": [
    "#### Joseph Priestly"
   ]
  },
  {
   "cell_type": "markdown",
   "metadata": {},
   "source": [
    "Joseph Priestly (1733-1804) was the first to isolate \"airs\" (gases) and to identify and characterise them chemically.  He is credited with the discovery of oxygen (O<sub>2</sub>), which he called \"dephlogisticated air\" because he still believed that combustion was due to materials releasing a property called \"phlogiston\".  Priestly also isolated nitric oxide (NO), nitrous oxide (N<sub>2</sub>O),hydrogen chloride (HCl), and ammonia (NH<sub>3</sub>)."
   ]
  },
  {
   "cell_type": "markdown",
   "metadata": {},
   "source": [
    "<figure>\n",
    "  <center>\n",
    "      <figure style=\"width:30%\">\n",
    "  <img src=\"./image_files/Priestley.jpg\" alt=\"JosephPriestlyPic\" \n",
    "      <figcaption>\n",
    "          Fig 19. John Dalton\n",
    "      </figcaption>\n",
    "  </center>    \n",
    "</figure>"
   ]
  },
  {
   "cell_type": "markdown",
   "metadata": {},
   "source": [
    "#### John Dalton"
   ]
  },
  {
   "cell_type": "markdown",
   "metadata": {},
   "source": [
    "John Dalton (1766-1844) was the first to recognise that matter might be composed of atoms bound together in fixed numbers.  The main points of Dalton's atomic theory, as it eventually developed, are:\n",
    "(1) Elements are made of extremely small particles called atoms.\n",
    "(2) Atoms of a given element are identical in size, mass and other properties; atoms of different elements differ in size, mass and other properties.\n",
    "(3) Atoms cannot be subdivided, created or destroyed.\n",
    "(4) Atoms of different elements combine in simple whole-number ratios to form chemical compounds.\n",
    "(5) In chemical reactions, atoms are combined, separated or rearranged."
   ]
  },
  {
   "cell_type": "markdown",
   "metadata": {},
   "source": [
    "<figure>\n",
    "  <center>\n",
    "      <figure style=\"width:30%\">\n",
    "  <img src=\"./image_files/John_Dalton_by_Charles_Turner.jpg\" alt=\"JohnDaltonPic\" \n",
    "      <figcaption>\n",
    "          Fig 20. John Dalton\n",
    "      </figcaption>\n",
    "  </center>    \n",
    "</figure>"
   ]
  },
  {
   "cell_type": "markdown",
   "metadata": {},
   "source": [
    "#### Antoine Lavoisier"
   ]
  },
  {
   "cell_type": "markdown",
   "metadata": {},
   "source": [
    "Antoine Lavoisier (1743-1794) is known as the father of the modern science of chemistry.  He was the first to apply very careful, quantitative measurement to show that mass is conserved in chemical reactions.  He gave oxygen its modern name, established stoichiometry in chemical reactions, and disproved definitively the phlogiston theory of combustion."
   ]
  },
  {
   "cell_type": "markdown",
   "metadata": {},
   "source": [
    "<figure>\n",
    "  <center>\n",
    "      <figure style=\"width:50%\">\n",
    "  <img src=\"./image_files/AntoineLavoisier.jpg\" alt=\"LavoisierPic\" \n",
    "      <figcaption>\n",
    "          Fig 21.  Antoine Lavoisier\n",
    "      </figcaption>\n",
    "  </center>    \n",
    "</figure>"
   ]
  },
  {
   "cell_type": "markdown",
   "metadata": {},
   "source": [
    "#### Dimitri Mendeleev"
   ]
  },
  {
   "cell_type": "markdown",
   "metadata": {},
   "source": [
    "Dimitri Mendeleev (1834-1907) formulated the periodic law of the elements of matter and constructed the first periodic table.  Using the periodic table, he was able to predict the properties of new elements prior to their discovery and correct some of the properties of elements priviously established.  The periodic table of the elements summarises our modern understanding of chemical matter, how it is composed of atoms, and how molecules are built up from the elemental atoms.  Of course atoms themselves are constructed from electrons and nuclei, and within the nuclei we have netrons and protons (bound together by the strong force), and within protons are the quarks.  But these constituents of matter, at length scales far below those of atoms and molecules, are not pertinent to the light-mater interactions of interest to us, where the wavelengths of light are on the order of several hundred nanometres."
   ]
  },
  {
   "cell_type": "markdown",
   "metadata": {},
   "source": [
    "<figure>\n",
    "  <center>\n",
    "      <figure style=\"width:80%\">\n",
    "  <img src=\"./image_files/Mendeleev.png\" alt=\"Mendeleev\" \n",
    "      <figcaption>\n",
    "          Fig 22.  Dimitri Mendeleev, who established the periodic table of the elements.  The periodic table was the first insight into atomic structure, and led to predictions of missing elements that had not yet been discovered.\n",
    "      </figcaption>\n",
    "  </center>    \n",
    "</figure>"
   ]
  },
  {
   "cell_type": "markdown",
   "metadata": {},
   "source": [
    "## The End of History...or not"
   ]
  },
  {
   "cell_type": "markdown",
   "metadata": {},
   "source": [
    "With the unification of electric and magnetic phenomena in the electronmagnetic theory of Maxwell and the establishment of the modern periodic table of the elements, it appeared that our understanding of the physical universe was nearing completion.  Only two, seemingly very minor, questions remained: (1) Why does the classical mechanical principle of equipartition of energy fail to predict the spectral distribution of blackbody radiation and (2) Why do measurements of the variation of the speed of light through the \"luminiferous ether\" always yield a null result?"
   ]
  },
  {
   "cell_type": "markdown",
   "metadata": {},
   "source": [
    "#### Energy Distribution from Blackbody Radiation"
   ]
  },
  {
   "cell_type": "markdown",
   "metadata": {},
   "source": [
    "<figure>\n",
    "  <center>\n",
    "      <figure style=\"width:100%\">\n",
    "  <img src=\"./image_files/BlackbodyDistributions.png\" alt=\"Black b B lody distributions\" \n",
    "      <figcaption>\n",
    "          Fig 23. Blackbody distributions: Left: Classical pectral distribution of the Rayleigh-Jeans formulation.  It leads to the \"ultraviolet catastrophe\" in which spectral density becomes infinite as a function of frequency. Right: The Planck pectral distribution obtained by quantising energy packets and setting the size of the packet proportional to the frequency.  The Planck distribution agrees with experiment but at the price of energy quantisation.  When first proposed, Planck had no theoretical justification for energy quantisation which had to await the invention of quantum mechanics.\n",
    "      </figcaption>\n",
    " </center>    \n",
    "</figure>"
   ]
  },
  {
   "cell_type": "markdown",
   "metadata": {},
   "source": [
    "#### The Michelson-Morely Experiment"
   ]
  },
  {
   "cell_type": "markdown",
   "metadata": {},
   "source": [
    "In the spring of 1887 Albert A. Michelson and Edward W. Morley performed an experiment to detect the luminiferous ether (the medium that supposely carried light waves through space) at a university in Cleveland, Ohio.  As the earth moves through the ether, both in the yearly orbital motion around the sun and in the 24-hour rotation around the polar axis, light detected in the interferometer from the sun should at different times be perpendicular and parallel to the ether lines. The idea is shown below in the diagram to the left.  When light propagates along the ether lines, it should either increase or decrease velocity, depending on its orientation with respect to the propagation velocity of the ether \"wind\".  The difference in effective light velocity would be detected in the two arms of the interferometer as shift in the fringe pattern (see diagrams at the right in the figure below).  The shift in fringe pattern should show a 24-hour variation and a yearly variation.  After decades of improvements in the instrumentation and sensitivity to phase differences in the two arms, _no difference in phase or velocity of light was ever detected_.  This experiment provided the impetus for the development of **the special theory of relativity** that does not require a luminiferous ether to account for the constancy of the speed of light."
   ]
  },
  {
   "cell_type": "markdown",
   "metadata": {},
   "source": [
    "<figure>\n",
    "  <center>\n",
    "      <figure style=\"width:75%\">\n",
    "  <img src=\"./image_files/MichelsonMorley.png\" alt=\"MichelsonMorley\" \n",
    "      <figcaption>\n",
    "          Fig 24.  The Michelson-Morley Experiment.  Motion of the earth through the luminiferous ether should have produced a fringe shift (phase shift) in the light propagation along the two arms of the interferometer.  No fringe shift was ever detected by Michelson or anyone else.\n",
    "      </figcaption>\n",
    " </center>    \n",
    "</figure>"
   ]
  },
  {
   "cell_type": "markdown",
   "metadata": {},
   "source": [
    "### Timeline of the History of our Ideas of Light and Matter:"
   ]
  },
  {
   "cell_type": "markdown",
   "metadata": {},
   "source": [
    "<figure>\n",
    "  <center>\n",
    "      <figure style=\"width:40%\">\n",
    "  <img src=\"./image_files/ScienceTimeLine.jpg\" alt=\"ScienceTimeLine\" \n",
    "      <figcaption>\n",
    "          Fig 25.  A diagram of the time-line in the development the understanding of light and matter.  Note that light and matter are equivalent (proportional to universal constants) only within a quantum context (quantum mechanics and quantum electrodynamics).\n",
    "      </figcaption>\n",
    " </center>    \n",
    "</figure>"
   ]
  },
  {
   "cell_type": "code",
   "execution_count": null,
   "metadata": {},
   "outputs": [],
   "source": []
  }
 ],
 "metadata": {
  "kernelspec": {
   "display_name": "Python 3",
   "language": "python",
   "name": "python3"
  },
  "language_info": {
   "codemirror_mode": {
    "name": "ipython",
    "version": 3
   },
   "file_extension": ".py",
   "mimetype": "text/x-python",
   "name": "python",
   "nbconvert_exporter": "python",
   "pygments_lexer": "ipython3",
   "version": "3.6.7"
  }
 },
 "nbformat": 4,
 "nbformat_minor": 2
}
