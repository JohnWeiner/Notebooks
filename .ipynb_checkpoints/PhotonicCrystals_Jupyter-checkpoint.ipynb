{
 "cells": [
  {
   "cell_type": "code",
   "execution_count": 33,
   "metadata": {},
   "outputs": [
    {
     "data": {
      "text/html": [
       "('''<script>\n",
       "code_show=true; \n",
       "function code_toggle() {\n",
       " if (code_show){\n",
       " $('div.input').hide();\n",
       " } else {\n",
       " $('div.input').show();\n",
       " }\n",
       " code_show = !code_show\n",
       "} \n",
       "$( document ).ready(code_toggle);\n",
       "</script>\n",
       "The raw code for this IPython notebook is by default hidden for easier reading.\n",
       "To toggle on/off the raw code, click <a href=\"javascript:code_toggle()\">here</a>.''')\n"
      ],
      "text/plain": [
       "<IPython.core.display.HTML object>"
      ]
     },
     "metadata": {},
     "output_type": "display_data"
    }
   ],
   "source": [
    "%%HTML\n",
    "('''<script>\n",
    "code_show=true; \n",
    "function code_toggle() {\n",
    " if (code_show){\n",
    " $('div.input').hide();\n",
    " } else {\n",
    " $('div.input').show();\n",
    " }\n",
    " code_show = !code_show\n",
    "} \n",
    "$( document ).ready(code_toggle);\n",
    "</script>\n",
    "The raw code for this IPython notebook is by default hidden for easier reading.\n",
    "To toggle on/off the raw code, click <a href=\"javascript:code_toggle()\">here</a>.''')"
   ]
  },
  {
   "cell_type": "markdown",
   "metadata": {},
   "source": [
    "# Photonic Crystals\n",
    "## Introduction\n",
    "Up to now we have studied plane waves propagation in isotropic media subjet to limiting boundary conditions.  Now we are going to study wave propagation in dielectric isotropic media, but subject to *periodic* boundary conditions as the wave propagates.  If you have studied condensed matter physics, much of the formalism developed here will look familiar.  The electron \"matter wave\" traveling in a crystal also describes wave motion subject to periodic boundary conditions.  The electron matter wave is governed by the Hamiltonian wave equation of quantum mechanics whereas here the electronmagnetic waves is governed by the Helmholtz wave equation.\n",
    "\n",
    "We begin by again restating Maxwell's equations.\n",
    "\n",
    "### Revisit Maxwell Equations\n"
   ]
  },
  {
   "cell_type": "markdown",
   "metadata": {},
   "source": [
    "In general:\n",
    "\n",
    "\\begin{align}\n",
    "\\nabla\\cdot\\mathbf{B}&=0\\\\\n",
    "\\nabla\\cdot\\mathbf{D}&=\\rho\\\\\n",
    "\\nabla\\times\\mathbf{E}+\\frac{\\partial\\mathbf{B}}{\\partial t}&=0\\\\\n",
    "\\nabla\\times\\mathbf{H}-\\frac{\\partial\\mathbf{D}}{\\partial t}&=\\mathbf{J}\n",
    "\\end{align}\n",
    "\n",
    "For the case of no charge source; no current sources:\n",
    "\n",
    "\\begin{align}\n",
    "\\mathbf{\\nabla}\\cdot\\mathbf{D}&=0\\\\\n",
    "\\mathbf{\\nabla}\\times\\mathbf{H}-\\frac{\\partial\\mathbf{D}}{\\partial t}&=0\n",
    "\\end{align}\n",
    "\n",
    "Constitutive relations:\n",
    "\n",
    "\\begin{align}\n",
    "\\mathbf{D}&=\\epsilon_0\\epsilon\\mathbf{E}\\\\\n",
    "\\mathbf{B}&=\\mu_0\\mu\\mathbf{H}\n",
    "\\end{align}\n",
    "\n",
    "\\begin{equation}\n",
    "\\epsilon_0\\rightarrow\\text{ permittivity of free space}\n",
    "\\end{equation}\n",
    "\\begin{equation}\n",
    "\\mu_0\\rightarrow\\text{ permeability of free space}\n",
    "\\end{equation}\n",
    "\n",
    "In S.I. units:\n",
    "\\begin{align}\n",
    "\\epsilon_0&=8.85418782\\times 10^{-12}\\text{ Farad}\\cdot\\text{m}^{-1}\\\\\n",
    "\\mu_0&=4\\pi\\times 10^{-7}\\text{ Henry}\\cdot\\text{m}^{-1}\\\\\n",
    "\\epsilon&\\rightarrow\\text{ dielectric constant,}\\text{ (unitless)}\\\\\n",
    "\\mu&\\rightarrow\\text{ relative permeability, }\\simeq 1\\text{ for nonmagnetic matierals}\n",
    "\\end{align}\n"
   ]
  },
  {
   "cell_type": "markdown",
   "metadata": {},
   "source": [
    "### Harmonic Field Solutions in Isotropic, Dielectric, Nonmagnetic Materials\n",
    "\n",
    "The two dynamic Maxwell equations describe the time and space dependence of harmonic waves:\n",
    "\n",
    "\\begin{align}\n",
    "\\nabla\\times\\mathbf{E}(\\mathbf{r},t)+\\mu_0\\frac{\\partial\\mathbf{H}(\\mathbf{r},t)}{\\partial t}&=0\\\\\n",
    "\\nabla\\times\\mathbf{H}(\\mathbf{r},t)-\\epsilon_0\\epsilon\\frac{\\partial\\mathbf{E}(\\mathbf{r},t)}{\\partial t}&=0\n",
    "\\end{align}\n",
    "\n",
    "Propagating harmonic wave solutions:\n",
    "\n",
    "\\begin{align}\n",
    "\\mathbf{H}(\\mathbf{r},t)&=\\mathbf{H}(\\mathbf{r})e^{-i\\omega t}\\\\\n",
    "\\mathbf{E}(\\mathbf{r},t)&=\\mathbf{E}(\\mathbf{r})e^{-i\\omega t}\n",
    "\\end{align}\n",
    "\n",
    "Condition on the spatial part:\n",
    "\n",
    "\\begin{align}\n",
    "\\nabla\\cdot\\mathbf{H}(\\mathbf{r})&=0\\\\\n",
    "\\nabla\\cdot\\left[\\epsilon(\\mathbf{r})\\mathbf{E}(\\mathbf{r})\\right]&=0\n",
    "\\end{align}\n",
    "\n",
    "Substitute the formal solutions into the dynamic equations:\n",
    "\n",
    "\\begin{align}\n",
    "\\nabla\\times\\mathbf{E}(\\mathbf{r})-i\\omega\\mu_0\\mathbf{H}(\\mathbf{r})&=0\\\\\n",
    "\\nabla\\times\\mathbf{H}(\\mathbf{r})+i\\omega\\epsilon_0\\epsilon(\\mathbf{r})\\mathbf{E}(\\mathbf{r})&=0\n",
    "\\end{align}\n",
    "\n",
    "Decouple two curl equations to obtain two separate equations in $\\mathbf{E}$ and $\\mathbf{H}$.\n",
    "\n",
    "\\begin{align}\n",
    "\\frac{1}{\\epsilon(\\mathbf{r})}\\nabla\\times\\nabla\\times\\frac{1}{\\epsilon(\\mathbf{r})}\\mathbf{D}(\\mathbf{r})&=\\left(\\frac{\\omega}{c}\\right)^2\\frac{1}{\\epsilon(\\mathbf{r})}\\mathbf{D}(\\mathbf{r})\\\\[1.0ex]\n",
    "\\nabla\\times\\left(\\frac{1}{\\epsilon(\\mathbf{r})}\\nabla\\times\\mathbf{H}(\\mathbf{r})\\right)&=\\left(\\frac{\\omega}{c}\\right)^2\\mathbf{H}(\\mathbf{r})\n",
    "\\end{align}"
   ]
  },
  {
   "cell_type": "markdown",
   "metadata": {},
   "source": [
    "#### The Fundamental Equation for Photonic Crystal Calculations\n",
    "\n",
    "\\begin{equation}\n",
    "\\nabla\\times\\left(\\frac{1}{\\epsilon(\\mathbf{r})}\\nabla\\times\\mathbf{H}(\\mathbf{r})\\right)=\\left(\\frac{\\omega}{c}\\right)^2\\mathbf{H}(\\mathbf{r})\n",
    "\\end{equation}"
   ]
  },
  {
   "cell_type": "markdown",
   "metadata": {},
   "source": [
    "The Fundamental Equation is an eigenfunction-eigenvalue relation.\n",
    "\n",
    "\\begin{equation}\n",
    "\\nabla\\times\\left(\\frac{1}{\\epsilon(\\mathbf{r})}\\nabla\\times\\right)\\rightarrow\\hat\\Theta;\\text{    where }\\hat\\Theta\\text{ denotes the \"fundamental\" operator}\n",
    "\\end{equation}\n",
    "\n",
    "In *Photonic Crystals*, 2nd edition, by J.D. Joannopoulos, S.G. Johnson, J.N. Winn, and R.D. Meade (Princeton University Press (2008), the above equation is called the \"Master equation\" and the operator $\\hat\\Theta$ is called the \"Master operator\".  We avoid this term in these notes, using \"fundamental\" instead of \"master\", because a master equation in physics usually refers to a set of first-order differenctial equations that describe the time evolution of the probability of finding a system in one of a possible set of states.\n",
    "\n",
    "\\begin{equation}\n",
    "\\hat\\Theta\\mathbf{H}(\\mathbf{r})=\\left(\\frac{\\omega}{c}\\right)^2\\mathbf{H}(\\mathbf{r})\n",
    "\\end{equation}\n",
    "\n",
    "\\begin{align}\n",
    "\\mathbf{H}(\\mathbf{r})&\\rightarrow\\text{  eignenfunctions of operator, }\\hat\\Theta\\\\\n",
    "\\left(\\frac{\\omega}{c}\\right)^2&\\rightarrow\\text{  eigenvalues}\n",
    "\\end{align}\n",
    "\n",
    "If $\\hat\\Theta$ has \"hermitian\" properties, then the eigenvalues will be real and positive."
   ]
  },
  {
   "cell_type": "markdown",
   "metadata": {},
   "source": [
    "### Hermitian operators"
   ]
  },
  {
   "cell_type": "markdown",
   "metadata": {},
   "source": [
    "The requirement for \"hermiticity\" of operators that represent physical observables is well known in quantum mechanics.  The conventional way of expressing the hermitian property is\n",
    "\n",
    "\\begin{equation}\n",
    "\\int{f^*\\hat\\Theta g}d\\mathbf{r}=\\int{g^*\\hat\\Theta f}d\\mathbf{r}\\text{;   for any two wave functions, }g,f.\n",
    "\\end{equation}\n",
    "\n",
    "For a matrix representation of an operator, we that a Hermitian operator matrix is equal to the complex conjugate of its transpose (the interchange of rows and columns).\n",
    "\n",
    "In electromagnatism, $\\hat\\Theta$ is said to be a Hermitian operator on EM *vector fields*, $\\mathbf{f,g}$, if\n",
    "\n",
    "\\begin{equation}\n",
    "\\int{\\mathbf{f}^*\\left(\\hat\\Theta \\mathbf{g}\\right)}d\\mathbf{r}=\\int{\\left(\\hat\\Theta\\mathbf{f}\\right)^*\\mathbf{g}}\\,d\\mathbf{r}\n",
    "\\end{equation}\n",
    "\n",
    "Now we make a notational simplification so that we do not have to carry integral symbols along with every statement of the hermitian or other property of opertors and functions.\n",
    "\n",
    "\\begin{equation}\n",
    "\\left(\\mathbf{f},\\mathbf{g}\\right)\\equiv\\int{\\mathbf{f}^*(\\mathbf{r})\\cdot\\mathbf{g}(\\mathbf{r})}d\\mathbf{r}\n",
    "\\end{equation}\n",
    "\n",
    "Now we can write the Hermitian property as\n",
    "\n",
    "\\begin{equation}\n",
    "\\left(\\mathbf{f},\\hat\\Theta\\mathbf{g}\\right)=\\left(\\hat\\Theta\\mathbf{f},\\mathbf{g}\\right)\n",
    "\\end{equation}\n",
    "\n",
    "We also note the commutative property of the *inner product* for any operator, $\\hat\\Theta$, operating on vector fields,\n",
    "\n",
    "\\begin{equation}\n",
    "\\left(\\int{\\mathbf{H}^*\\hat\\Theta\\mathbf{H}}d\\mathbf{r}\\right)=\\left(\\int{\\left(\\hat\\Theta\\mathbf{H}\\right)^*\\mathbf{H}}d\\mathbf{r}\\right)^*\n",
    "\\end{equation}\n",
    "\n",
    "Or, with our new notation,\n",
    "\n",
    "\\begin{equation}\n",
    "\\left(\\mathbf{H},\\hat\\Theta\\mathbf{H}\\right)=\\left(\\hat\\Theta\\mathbf{H},\\mathbf{H}\\right)^*\n",
    "\\end{equation}\n",
    "\n",
    "Now recalling our eigenfunction-eigenvalue equation for the H-field solution to Maxwell's equations,\n",
    "\n",
    "\\begin{equation}\n",
    "\\hat\\Theta\\mathbf{H}=\\left(\\nabla\\times\\frac{1}{\\epsilon(\\mathbf{r})}\\nabla\\times\\right)\\mathbf{H}(\\mathbf{r})=\\left(\\frac{\\omega}{c}\\right)^2\\mathbf{H}(\\mathbf{r})\n",
    "\\end{equation}\n",
    "\n",
    "and applying the Hermitian property, we have\n",
    "\n",
    "\\begin{equation}\n",
    "\\left(\\mathbf{H},\\hat\\Theta\\mathbf{H}\\right)=\\left(\\frac{\\omega}{c}\\right)^2\\left(\\mathbf{H},\\mathbf{H}\\right)=\\left(\\hat\\Theta\\mathbf{H},\\mathbf{H}\\right)=\\left(\\frac{\\omega^2}{c^2}\\right)^*\\left(\\mathbf{H},\\mathbf{H}\\right)\n",
    "\\end{equation}\n",
    "\n",
    "Therefore $\\omega$ must be real, $\\omega=\\omega^*$.  The eigen value $\\omega$ can also be shown to be positive.\n",
    "\n",
    "The eigenfunctions are also \"normal\" or can be made so,\n",
    "\n",
    "\\begin{equation}\n",
    "\\int{\\mathbf{H}^*\\mathbf{H}}d\\mathbf{r}=\\left(\\mathbf{H},\\mathbf{H}\\right)=1\n",
    "\\end{equation}\n",
    "\n",
    "Eignefunctions (vector fields) with different eigenvalues (frequencies) are called *modes*.  We can say that two different modes of $\\mathbf{H}$ are *orthogonal*,\n",
    "\n",
    "\\begin{equation}\n",
    "\\int{\\mathbf{H}_1^*\\mathbf{H}_2}d\\mathbf{r}=\\left(\\mathbf{H}_1,\\mathbf{H_2}\\right)=0\n",
    "\\end{equation}\n",
    "\n",
    "Here is a plausibility proof...\n",
    "Suppose we have $\\mathbf{H}_1$ with eigenvalue $\\omega_1$ and $\\mathbf{H}_2$ with eigenvalue $\\omega_2$.  Then we have from the Hermitian property,\n",
    "\n",
    "\\begin{equation}\n",
    "\\left(\\mathbf{H}_2,\\hat\\Theta\\mathbf{H}_1\\right)=\\left(\\frac{\\omega_1^2}{c^2}\\right)\\left(\\mathbf{H}_2,\\mathbf{H}_1\\right)=\\left(\\hat\\Theta\\mathbf{H}_2,\\mathbf{H}_1\\right)=\\left(\\frac{\\omega_2^2}{c^2}\\right)\\left(\\mathbf{H}_2,\\mathbf{H}_1\\right)\n",
    "\\end{equation}\n",
    "\n",
    "Therefore,\n",
    "\n",
    "\\begin{equation}\n",
    "\\left(\\omega_1^2-\\omega_2^2\\right)\\left(\\mathbf{H}_2,\\mathbf{H}_1\\right)=0\n",
    "\\end{equation}\n",
    "\n",
    "But since $\\omega_1\\neq\\omega_2$, then only way this can be true is that $\\left(\\mathbf{H}_2,\\mathbf{H}_1\\right)=\\left(\\mathbf{H}_1,\\mathbf{H}_2\\right)=0$."
   ]
  },
  {
   "cell_type": "markdown",
   "metadata": {},
   "source": [
    "### The Variational Principle\n",
    "\n",
    "The lowest-energy eigenvalues $\\frac{\\omega^2}{c^2}$ correspond to field distributions that minimise the energy *functional*,\n",
    "\n",
    "\\begin{equation}\n",
    "U(\\mathbf{H})\\triangleq\\frac{\\left(\\mathbf{H},\\hat\\Theta\\mathbf{H}\\right)}{\\left(\\mathbf{H},\\mathbf{H}\\right)}\n",
    "\\end{equation}\n",
    "\n",
    "This *variational principle* in vector fields is analogous to that in quantum mechanics between energy eigenvalues and the variation of wavefunctions.\n",
    "\n",
    "We can recast it in terms of E-fields by using the following relations,\n",
    "\n",
    "\\begin{equation}\n",
    "\\hat\\Theta\\mathbf{H}(\\mathbf{r})\\triangleq\\nabla\\times\\left(\\frac{1}{\\epsilon(\\mathbf{r})}\\nabla\\times\\mathbf{H}(\\mathbf{r})\\right)\n",
    "\\end{equation}\n",
    "\n",
    "\\begin{equation}\n",
    "\\mathbf{H}(\\mathbf{r})=-\\frac{i}{\\omega\\mu_0}\\nabla\\times\\mathbf{E}(\\mathbf{r})\n",
    "\\end{equation}\n",
    "\n",
    "\\begin{equation}\n",
    "\\mathbf{E}(\\mathbf{r})=\\frac{i}{\\omega\\epsilon_0\\epsilon(\\mathbf{r})}\\nabla\\times\\mathbf{H}(\\mathbf{r})\n",
    "\\end{equation}\n",
    "\n",
    "The result is,\n",
    "\n",
    "\\begin{equation}\n",
    "U(\\mathbf{H})=\\frac{\\left(\\nabla\\times\\mathbf{E},\\nabla\\times\\mathbf{E}\\right)}{\\left(\\mathbf{E},\\epsilon(\\mathbf{r})\\mathbf{E}\\right)}\n",
    "\\end{equation}\n",
    "\n",
    "which shows that the lowest energy eigenvalues tend to be in regions of highest dielectric constant where the E-field is concentrated.\n",
    "\n",
    "#### Difference between energy functional and field energy\n",
    "\n",
    "Note that the energy functional is not the same thing as the field energy, averaged over an optical cycles, which is defined as\n",
    "\n",
    "\\begin{equation}\n",
    "U_E\\triangleq\\frac{\\epsilon_0}{4}\\int{|\\mathbf{E}|^2\\epsilon(\\mathbf{r})}d\\mathbf{r}\n",
    "\\end{equation}\n",
    "\n",
    "Regions of higher dielectric constant *minimise* the energy functional (the spatial variation of the energy) but *maximise* the field energy density and hence the energy itself.\n",
    "\n",
    "### The Poynting Vector\n",
    "\n",
    "The *energy flux* or *power density* is defined by\n",
    "\n",
    "\\begin{equation}\n",
    "\\mathbf{S}\\triangleq\\frac{1}{2}\\mathrm{Re}\\left[\\mathbf{E}^*\\times\\mathbf{H}\\right]\n",
    "\\end{equation}\n",
    "\n",
    "The units of energy flux (in the SI system) are $Js^{-1}m^{-2}$ or $Wm^{-2}$."
   ]
  },
  {
   "cell_type": "markdown",
   "metadata": {},
   "source": [
    "## Symmetry Properties of the Vector Fields\n",
    "\n",
    "We can use symmetry to classify electromagnetic (EM) modes:\n",
    "\n",
    "Inversion symmetry: we posit an inversion operator, $\\hat\\alpha$\n",
    "\n",
    "\\begin{align}\n",
    "\\hat\\alpha\\mathbf{H}(\\mathbf{r})&=\\mathbf{H}(-\\mathbf{r})\\\\\n",
    "\\hat\\alpha^2\\mathbf{H}(\\mathbf{r})&=\\mathbf{H}(\\mathbf{r})\\\\\n",
    "\\hat\\alpha&=\\pm 1\n",
    "\\end{align}\n",
    "\n",
    "The eigenvalues of the inversion operator are $\\pm 1$.\n",
    "\n",
    "Inversion operation on a vector $\\mathbf{r}$,\n",
    "\n",
    "\\begin{equation}\n",
    "\\hat{I}\\left(\n",
    "\\begin{matrix}\n",
    "x\\\\\n",
    "y\\\\\n",
    "z\n",
    "\\end{matrix}\\right)\n",
    "\\rightarrow\n",
    "\\left(\n",
    "\\begin{matrix}\n",
    "-x\\\\\n",
    "-y\\\\\n",
    "-z\n",
    "\\end{matrix}\\right)\n",
    "\\end{equation}"
   ]
  },
  {
   "cell_type": "code",
   "execution_count": 34,
   "metadata": {},
   "outputs": [
    {
     "data": {
      "text/html": [
       "<figure>\n",
       "<center>\n",
       "  <img src =\"./image_files/Fig1Chap3.pdf\", alt=\"inversion symmetry\", style=\"width: 90%;\"/>\n",
       "</center>\n",
       "<caption>\n",
       "  Illustration of an arbitrary vector field exhibiting inversion symmetry: left panel, eigenvalue of \n",
       "        $\\hat\\alpha=1$; right panel, eigenvalue of $\\hat\\alpha=-1$. \n",
       "</caption>\n",
       "</figure>\n"
      ],
      "text/plain": [
       "<IPython.core.display.HTML object>"
      ]
     },
     "metadata": {},
     "output_type": "display_data"
    }
   ],
   "source": [
    "%%HTML\n",
    "<figure>\n",
    "<center>\n",
    "  <img src =\"./image_files/Fig1Chap3.pdf\", alt=\"inversion symmetry\", style=\"width: 90%;\"/>\n",
    "</center>\n",
    "<caption>\n",
    "  Illustration of an arbitrary vector field exhibiting inversion symmetry: left panel, eigenvalue of \n",
    "        $\\hat\\alpha=1$; right panel, eigenvalue of $\\hat\\alpha=-1$. \n",
    "</caption>\n",
    "</figure>"
   ]
  },
  {
   "cell_type": "markdown",
   "metadata": {},
   "source": [
    "Inversion operation on a vector field, $\\mathbf{f}(\\mathbf{r})$:\n",
    "Invert the field coordinates *and* the field components:\n",
    "\\begin{equation}\n",
    "\\hat{O}_I\\mathbf{f}(\\mathbf{r})=\\hat I\\mathbf{f}(\\hat I\\mathbf{r})=-\\mathbf{f}(-\\mathbf{r})\n",
    "\\end{equation}"
   ]
  },
  {
   "cell_type": "code",
   "execution_count": 35,
   "metadata": {},
   "outputs": [
    {
     "data": {
      "text/html": [
       "<figure>\n",
       "<center>\n",
       "  <img src =\"./image_files/InversionVectorField.png\", alt=\"InversionVectorField\", \n",
       "    style=\"width: 100%\"\"\n",
       "0%;\"/>\n",
       "</center>\n",
       "<caption>\n",
       "   Inversion of a vector field, illustrating why inversion of the vector *and* inversion\n",
       "    of the coordinates are necessary for a true inversion operation.\n",
       "</caption>\n",
       "</figure>\n"
      ],
      "text/plain": [
       "<IPython.core.display.HTML object>"
      ]
     },
     "metadata": {},
     "output_type": "display_data"
    }
   ],
   "source": [
    "%%HTML\n",
    "<figure>\n",
    "<center>\n",
    "  <img src =\"./image_files/InversionVectorField.png\", alt=\"InversionVectorField\", \n",
    "    style=\"width: 100%\"\"\n",
    "0%;\"/>\n",
    "</center>\n",
    "<caption>\n",
    "   Inversion of a vector field, illustrating why inversion of the vector *and* inversion\n",
    "    of the coordinates are necessary for a true inversion operation.\n",
    "</caption>\n",
    "</figure>"
   ]
  },
  {
   "cell_type": "markdown",
   "metadata": {},
   "source": [
    "An E-M field with inversion symmetry remains invariant or changes sign on inversion.  Therefore, for a vector field that has inversion symmetry *and* is an eigenfield (a mode with eigen value $\\frac{\\omega^2}{c^2}$) of the fundamental operator, $\\hat\\Theta$.\n",
    "\n",
    "\\begin{align}\n",
    "\\hat\\Theta\\mathbf{f}&=\\hat{O}_I\\hat{O}_I\\hat\\Theta\\mathbf{f}\\\\\n",
    "\\hat\\Theta\\mathbf{f}&=\\hat{O}_I\\hat\\Theta\\hat{O}_I\\mathbf{f}\n",
    "\\end{align}\n",
    "\n",
    "but\n",
    "\n",
    "\\begin{equation}\n",
    "\\hat{O}_I^2=1\n",
    "\\end{equation}\n",
    "\n",
    "and therefore\n",
    "\n",
    "\\begin{equation}\n",
    "\\hat{O}_I=\\hat{O}_I^{-1}\n",
    "\\end{equation}\n",
    "\n",
    "so\n",
    "\n",
    "\\begin{equation}\n",
    "\\hat\\Theta=\\hat{O}_I^{-1}\\hat\\Theta\\hat{O}_I\n",
    "\\end{equation}\n",
    "\n",
    "Now multiply both sides by $\\hat{O}_I$ and collect terms on one side:\n",
    "\n",
    "\\begin{equation}\n",
    "\\hat{O}_I\\hat\\Theta-\\hat\\Theta\\hat{O}_I=0\n",
    "\\end{equation}\n",
    "\n",
    "The two operators $\\hat{O}_I$ and $\\hat\\Theta$ are said to \"commute\"(switch)...which they do, in the sense that the result of the successive operations on an eigenfunction vector field is independent of the order of operation.\n",
    "\n",
    "The product of operators is also an operator, and we can write the \"commutation operator\" as\n",
    "\n",
    "\\begin{equation}\n",
    "\\left[\\hat{O}_I,\\hat\\Theta\\right]=\\hat{O}_I\\left(\\hat\\Theta\\mathbf{H}\\right)-\\hat\\Theta\\left(\\hat{O}_I\\mathbf{H}\\right)=0\n",
    "\\end{equation}\n",
    "\n",
    "and\n",
    "\n",
    "\\begin{equation}\n",
    "\\hat\\Theta\\left(\\hat{O}_I\\mathbf{H}\\right)=\\hat{O}_I\\left(\\hat\\Theta\\mathbf{H}\\right)=\\frac{\\omega^2}{c^2}\\left(\\hat{O}_I\\mathbf{H}\\right)\n",
    "\\end{equation}\n",
    "\n",
    "Notice something important...but easy to overlook,\n",
    "\n",
    "\\begin{align}\n",
    "\\hat{O}_I\\mathbf{E}&=-\\mathbf{E}\\text{ ; The E-field is antisymmetric on inversion.}\\\\\n",
    "\\hat{O}_I\\mathbf{H}&=\\mathbf{H}\\text{ ; The H-field is symmetric on inversion.}\n",
    "\\end{align}\n",
    "\n",
    "The E-field therefore is a true vector field, but the H-field is a pseudovector field.  Thus, the E-field changes sign when reflected while the H-field does not."
   ]
  },
  {
   "cell_type": "markdown",
   "metadata": {},
   "source": [
    "### Continuous Translational Symmetry"
   ]
  },
  {
   "cell_type": "code",
   "execution_count": 36,
   "metadata": {},
   "outputs": [
    {
     "data": {
      "text/html": [
       "<figure>\n",
       "<center>\n",
       "  <img src =\"./image_files/Fig2Chap3.pdf\", alt=\"Uniform Slab\", style=\"width: 90%\"/>\n",
       "</center>\n",
       "<caption>\n",
       "   A uniform slab of glass  of thickness $\\Delta z=a$ shows continuous translational symmetry in the $x-y$ plane, but not along\n",
       "    the $z$ axis.\n",
       "</caption>\n",
       "</figure>\n"
      ],
      "text/plain": [
       "<IPython.core.display.HTML object>"
      ]
     },
     "metadata": {},
     "output_type": "display_data"
    }
   ],
   "source": [
    "%%HTML\n",
    "<figure>\n",
    "<center>\n",
    "  <img src =\"./image_files/Fig2Chap3.pdf\", alt=\"Uniform Slab\", style=\"width: 90%\"/>\n",
    "</center>\n",
    "<caption>\n",
    "   A uniform slab of glass  of thickness $\\Delta z=a$ shows continuous translational symmetry in the $x-y$ plane, but not along\n",
    "    the $z$ axis.\n",
    "</caption>\n",
    "</figure>"
   ]
  },
  {
   "cell_type": "markdown",
   "metadata": {},
   "source": [
    "We introduce the translational symmetry operator $\\hat{T}_{dx}\\rightarrow$ along $x$ and of length $d$.\n",
    "\n",
    "\\begin{equation}\n",
    "\\hat{T}_{dx}e^{ikx}=e^{ik(x-d)}=e^{-ikd}e^{ikx}\n",
    "\\end{equation}\n",
    "\n",
    "where $e^{ikx}$ represents wave propagation along $x$ with propagation parameter $k=\\frac{2\\pi}{\\lambda}$, and $\\lambda$ the wavelength of the propagating wave.\n",
    "\n",
    "Here are some useful relations:\n",
    "\n",
    "We can represent eigenvector H-fields propagating in the $x-y$ plane as\n",
    "\n",
    "\\begin{equation}\n",
    "\\mathbf{H}_{\\mathbf{k},\\mathbf{\\rho}}=\\mathbf{H}_0e^{i\\mathbf{k}\\cdot\\mathbf{\\rho}}=\\mathbf{H}_0e^{ik_xx+ik_yy}=\\mathbf{H}_0e^{ik_xx}e^{ik_yy}\n",
    "\\end{equation}\n",
    "\n",
    "or, if the material is uniform in all three spatial dimensions,\n",
    "\n",
    "\\begin{equation}\n",
    "\\mathbf{H}_{\\mathbf{k}}(\\mathbf{r})=\\mathbf{H}_0e^{i\\mathbf{k}\\cdot\\mathbf{r}}\n",
    "\\end{equation}\n",
    "\n",
    "If $\\mathbf{k}\\cdot\\mathbf{H}_0=0, then we have *transverse* plane waves...the H-field is transverse to the direction of propagation.\n",
    "\n",
    "Also it is still true that\n",
    "\n",
    "\\begin{equation}\n",
    "\\hat\\Theta\\mathbf{H}=\\frac{\\omega^2}{c^2}\n",
    "\\end{equation}\n",
    "\n",
    "because\n",
    "\n",
    "\\begin{equation}\n",
    "\\hat\\Theta\\mathbf{H}_0e^{i\\mathbf{k}\\cdot\\mathbf{r}}=\\nabla\\times\\left(\\frac{1}{\\epsilon}\\nabla\\times\\right)\\mathbf{H}_0e^{i\\mathbf{k}\\cdot\\mathbf{r}}=\\frac{-\\mathbf{k}\\cdot -\\mathbf{k}}{\\epsilon}\\mathbf{H}_0e^{i\\mathbf{k}\\cdot\\mathbf{r}}=\\frac{k^2}{\\epsilon}\\mathbf{H}_0e^{i\\mathbf{k}\\cdot\\mathbf{r}}=\\frac{\\omega^2}{c^2}\\mathbf{H}_0e^{i\\mathbf{k}\\cdot\\mathbf{r}}\n",
    "\\end{equation}\n",
    "\n",
    "with\n",
    "\n",
    "\\begin{equation}\n",
    "\\omega=\\frac{c}{\\sqrt{\\epsilon}}|\\mathbf{k}|\n",
    "\\end{equation}\n",
    "\n",
    "and\n",
    "\n",
    "\\begin{equation}\n",
    "n=\\sqrt{\\epsilon}\\text{ ; where } n \\text{ is the index of refraction.}\n",
    "\\end{equation}\n",
    "\n",
    "This last relation assumes, of course, that the material is nonmagnetic, $\\mu=1$."
   ]
  },
  {
   "cell_type": "markdown",
   "metadata": {},
   "source": [
    "### Dispersion Diagram of Light Propagating in a Glass Slab"
   ]
  },
  {
   "cell_type": "code",
   "execution_count": 37,
   "metadata": {},
   "outputs": [
    {
     "data": {
      "text/html": [
       "<figure>\n",
       "<center>\n",
       "  <img src =\"./image_files/Fig3Chap3.pdf\", alt=\"DispersionDiagramGlassSlab\", style=\"width: 80%\"/>\n",
       "</center>\n",
       "<caption>\n",
       "   Dispersion diagram ($\\omega$ vs. $k_{\\parallel}$ normalised to a unitless quantity).  Blue triangle is\n",
       "    called the \"light cone\" and represents propagating modes in air and glass.  Diagonal red line\n",
       "    is the \"light line\", $\\omega=ck_{\\parallel}$, the dispersion relation of a light wave traveling in free\n",
       "    space.  Blue lines to the right of the light line indicate propagating modes in glass that\n",
       "    <em>do not</em> propagate in air...they are \"index-guided modes\".    \n",
       "</caption>\n",
       "</figure>\n"
      ],
      "text/plain": [
       "<IPython.core.display.HTML object>"
      ]
     },
     "metadata": {},
     "output_type": "display_data"
    }
   ],
   "source": [
    "%%HTML\n",
    "<figure>\n",
    "<center>\n",
    "  <img src =\"./image_files/Fig3Chap3.pdf\", alt=\"DispersionDiagramGlassSlab\", style=\"width: 80%\"/>\n",
    "</center>\n",
    "<caption>\n",
    "   Dispersion diagram ($\\omega$ vs. $k_{\\parallel}$ normalised to a unitless quantity).  Blue triangle is\n",
    "    called the \"light cone\" and represents propagating modes in air and glass.  Diagonal red line\n",
    "    is the \"light line\", $\\omega=ck_{\\parallel}$, the dispersion relation of a light wave traveling in free\n",
    "    space.  Blue lines to the right of the light line indicate propagating modes in glass that\n",
    "    <em>do not</em> propagate in air...they are \"index-guided modes\".    \n",
    "</caption>\n",
    "</figure>"
   ]
  },
  {
   "cell_type": "markdown",
   "metadata": {},
   "source": [
    "The above figure shows a dispersion diagram ($\\omega$ vs. $k_{\\parallel}$ in normalised units) for light propagating inside and outside a uniform glass slab of infinite extent in the $x-y$ plane and of finite thickness in along $z$.  The glass slab has a dielectric constant $\\epsilon=11.4$ and a thickness $\\Delta z=a$.  The blue triangle to the left of the diagonal straight red line is called the \"light cone\".  It is the region where light, with a continuous range of frequencies can propagate inside and outside the glass slab.  The straight red line is called the \"light line\", $\\omega=ck_{\\parallel}$.  To the right of the light line we see individual blue lines that correspond to modes, numbered sequentially in increasing frequency, that propagate in the $x-y$ plane within the glass but are \"evanescent\" (decrease exponentially) in air.  These modes are confined to the glass and are said to be \"index-guided\".\n",
    "\n",
    "The component of the propagation vector $k$ parallel to the $x-y$ plane of the glass slab, $k_{\\parallel}$, is expressed as a unitless quantity, \"normalised\" by the slab thickness $a$, using the following relations:\n",
    "\n",
    "\\begin{equation}\n",
    "k=\\frac{2\\pi}{\\lambda}\\text{ ; where }\\lambda\\text{ is the wavelength of the mode.}\n",
    "\\end{equation}\n",
    "\n",
    "\\begin{equation}\n",
    "k_{\\mathrm{norm}}=\\frac{k}{2\\pi/a}=\\frac{ka}{2\\pi}=\\frac{a}{\\lambda}\n",
    "\\end{equation}\n",
    "\n",
    "The unitless frequncy $\\omega_{\\mathrm{norm}}$ is expressed in terms of the unitless wave vector $k_{\\mathrm{norm}}$ starting from\n",
    "\n",
    "\\begin{equation}\n",
    "\\omega=ck\n",
    "\\end{equation}\n",
    "\n",
    "\\begin{equation}\n",
    "\\omega_{\\mathrm{norm}}=k_{\\mathrm{norm}}\\frac{c}{c}=\\frac{kc}{c2\\pi/a}=\\frac{\\omega a}{2\\pi c}\n",
    "\\end{equation}"
   ]
  },
  {
   "cell_type": "markdown",
   "metadata": {},
   "source": [
    "### Index Guiding"
   ]
  },
  {
   "cell_type": "code",
   "execution_count": 38,
   "metadata": {},
   "outputs": [
    {
     "data": {
      "text/html": [
       "<figure>\n",
       "<center>\n",
       "  <img src =\"./image_files/Fig4Chap3.pdf\", alt=\"IndexGuiding\", style=\"width: 80%\"/>\n",
       "</center>\n",
       "<caption>\n",
       "      Diagram shows an incident $\\mathbf{k}$ propagating in a medium 1 with dielectric constant\n",
       "    $\\epsilon_1$ and impinging on the interface with medium 2, $\\epsilon_2$ at an angle\n",
       "    $\\theta_1$ with respect to the reference normal (dashed line) to the interface.  Above a\n",
       "    certain critical angle of incidence, where $\\theta_2=90^{\\circ}$, the propagating wave will\n",
       "    be totally internally reflected and remain within medium 1.\n",
       "</caption>\n",
       "</figure>\n"
      ],
      "text/plain": [
       "<IPython.core.display.HTML object>"
      ]
     },
     "metadata": {},
     "output_type": "display_data"
    }
   ],
   "source": [
    "%%HTML\n",
    "<figure>\n",
    "<center>\n",
    "  <img src =\"./image_files/Fig4Chap3.pdf\", alt=\"IndexGuiding\", style=\"width: 80%\"/>\n",
    "</center>\n",
    "<caption>\n",
    "      Diagram shows an incident $\\mathbf{k}$ propagating in a medium 1 with dielectric constant\n",
    "    $\\epsilon_1$ and impinging on the interface with medium 2, $\\epsilon_2$ at an angle\n",
    "    $\\theta_1$ with respect to the reference normal (dashed line) to the interface.  Above a\n",
    "    certain critical angle of incidence, where $\\theta_2=90^{\\circ}$, the propagating wave will\n",
    "    be totally internally reflected and remain within medium 1.\n",
    "</caption>\n",
    "</figure>"
   ]
  },
  {
   "cell_type": "markdown",
   "metadata": {},
   "source": [
    "The propagation vector $\\mathbf{k}_1$ in medium 1 is equal to $n_1\\mathbf{k}_0$ where $n_1$ is the refractive index in medium 1 and similarly for medium 2.  The component of $\\mathbf{k}$ parallel to the interface is $k_{1_{\\parallel}}=k\\sin\\theta_1=n_1k_0\\sin\\theta_1$ in medium 1 and $k_{2_{\\parallel}}=k\\sin\\theta_2=n_2k_0\\sin\\theta_2$ in medium 2.  At the interface the two parallel components must be equal.\n",
    "\n",
    "\\begin{align}\n",
    "n_1\\sin\\theta_1&=n_2\\sin\\theta_2\\\\\n",
    "\\sqrt{\\epsilon_1}\\sin\\theta_1&=\\sqrt{\\epsilon_2}\\sin\\theta_2\n",
    "\\end{align}\n",
    "\n",
    "Notice that when $\\theta_2=\\frac{\\pi}{2}$, then $\\sin\\theta_2=1$, and\n",
    "\n",
    "\\begin{equation}\n",
    "\\theta_{1_{\\mathrm{crit}}}=\\sin^{-1}\\left(\\frac{n_2}{n_1}\\right)\n",
    "\\end{equation}\n",
    "\n",
    "The angle $\\theta_{1_{\\mathrm{crit}}}$ is called the \"critical angle\".  All $\\mathbf{k}$ vectors arriving at the interface with incident angles greater than $\\theta_{1_{\\mathrm{crit}}}$, will be totally internally reflected.  No propagating wave will appear in medium 2, but there will be an evanescent wave.  The easiest way to see this is to consider the components of $k$.  The parallel and perpendicular component amplitudes are related to the total $k$ amplitude according to \n",
    "\n",
    "\\begin{equation}\n",
    "k^2=k_{\\perp}^2+k_{\\parallel}^2\n",
    "\\end{equation}\n",
    "\n",
    "or, in medium 2\n",
    "\n",
    "\\begin{equation}\n",
    "k_{2_{\\perp}}=\\sqrt{-k_{2_{\\parallel}}^2+k_2^2}\n",
    "\\end{equation}\n",
    "\n",
    "but at the interface\n",
    "\n",
    "\\begin{equation}\n",
    "n_1k_{1_{\\parallel}}=n_2k_{2_{\\parallel}}\n",
    "\\end{equation}\n",
    "\n",
    "so\n",
    "\n",
    "\\begin{equation}\n",
    "k_{2_{\\perp}}=\\sqrt{-\\left(\\frac{n_1}{n_2}\\right)^2k_{1_{\\parallel}}^2+k_2^2}\n",
    "\\end{equation}\n",
    "\n",
    "when the expression under the square root is negative, then \n",
    "\n",
    "\\begin{equation}\n",
    "k_{2_{\\perp}}\\rightarrow\\mathrm{i}\\kappa_{2_{\\perp}}\n",
    "\\end{equation}\n",
    "\n",
    "and the propagatinge wave becomes evanescent,\n",
    "\n",
    "\\begin{equation}\n",
    "\\mathbf{H}_{\\perp}=\\mathbf{H}_{0_{\\perp}}e^{i\\mathbf{k}_{2_{\\perp}}\\cdot\\mathbf{\\rho}}\\rightarrow\\mathbf{H}_{0_{\\perp}}e^{-\\mathbf{\\kappa}_{2_{\\perp}}\\cdot\\mathbf{\\rho}}\n",
    "\\end{equation}"
   ]
  },
  {
   "cell_type": "markdown",
   "metadata": {},
   "source": [
    "## Periodic Dielectric Materials and Discrete Translational Symmetry"
   ]
  },
  {
   "cell_type": "code",
   "execution_count": 39,
   "metadata": {},
   "outputs": [
    {
     "data": {
      "text/html": [
       "<figure>\n",
       "<center>\n",
       "  <img src =\"./image_files/Fig5Chap3.pdf\", alt=\"DiscreteTransSym\", style=\"width: 80%\"/>\n",
       "</center>\n",
       "<caption>\n",
       "  Example of discrete translational symmetry along $y$.  It is assumed that the material\n",
       "    extends in $x$ direction without limit.  Translational symmetry along $x$ is continuous.\n",
       "</caption>\n",
       "</figure>\n"
      ],
      "text/plain": [
       "<IPython.core.display.HTML object>"
      ]
     },
     "metadata": {},
     "output_type": "display_data"
    }
   ],
   "source": [
    "%%HTML\n",
    "<figure>\n",
    "<center>\n",
    "  <img src =\"./image_files/Fig5Chap3.pdf\", alt=\"DiscreteTransSym\", style=\"width: 80%\"/>\n",
    "</center>\n",
    "<caption>\n",
    "  Example of discrete translational symmetry along $y$.  It is assumed that the material\n",
    "    extends in $x$ direction without limit.  Translational symmetry along $x$ is continuous.\n",
    "</caption>\n",
    "</figure>"
   ]
  },
  {
   "cell_type": "markdown",
   "metadata": {},
   "source": [
    "The structure in the figure above shows *discrete* translational symmetry along $y$ in steps of $y=la$, where $l$ is an integer and $a$ is the *lattice constant*.\n",
    "\n",
    "Here is the translational operator $\\hat{T}_{\\mathbf{a}}$ for translation by a distance $a$ along $y$, operating on the wave propagation function $e^{ik_yy}$ with propagation parameter $k_y$.\n",
    "\n",
    "\\begin{equation}\n",
    "\\hat{T}_{\\mathbf{a}}e^{ik_yy}=\\left(e^{-ik_ya}\\right)e^{ik_yy}\n",
    "\\end{equation}\n",
    "\n",
    "For an integral number of steps, $\\mathbf{R}=l\\mathbf{a}$,\n",
    "\n",
    "\\begin{equation}\n",
    "\\hat{T}_{l\\mathbf{a}}e^{ik_yy}=\\left(e^{-ik_yla}\\right)e^{ik_yy}\n",
    "\\end{equation}"
   ]
  },
  {
   "cell_type": "markdown",
   "metadata": {},
   "source": [
    "Note that $k_y^{\\prime}=k_y+m\\left(\\frac{2\\pi}{a}\\right)$, where $m$ is an integer, is also an eigenvalue of $\\hat{T}_{\\mathbf{a}}$.\n",
    "\n",
    "The H-field can be written as a linear combination of eigenvectors with the same eigenvalue,\n",
    "\n",
    "\\begin{equation}\n",
    "\\mathbf{H}_{k_xk_y}=e^{ik_xx}\\sum_m\\mathbf{c}_{k_y,m}(z)e^{i\\left(k_y+mb\\right)y}\n",
    "\\end{equation}\n",
    "\n",
    "where $b=\\frac{2\\pi}{a}$ and $\\mathbf{b}=b\\hat{\\mathbf{y}}$ is the *primitive lattice vector*.\n",
    "\n",
    "\\begin{align}\n",
    "\\mathbf{H}_{k_xk_y}&=e^{ik_xx}\\cdot e^{ik_yy}\\cdot\\sum_m\\mathbf{c}_{k_y,m}(z)e^{imby}\\\\\n",
    "\\mathbf{H}_{k_xk_y}&=e^{ik_xx}\\cdot e^{ik_yy}\\cdot\\mathbf{u}_{k_y}(y,z)\n",
    "\\end{align}\n",
    "\n",
    "Note that $\\mathbf{u}(y,z)$ is periodic along $y$ which means that $\\mathbf{u}(y+la,z)=\\mathbf{u}(y,z)$.\n",
    "\n",
    "\\begin{equation}\n",
    "\\mathbf{H}_{k_xk_y}=e^{ik_xx}\\cdot e^{ik_yy}\\cdot\\mathbf{u}_{k_y}(y,z)\n",
    "\\end{equation}\n",
    "\n",
    "The above expression for the H-field, with discrete translational symmetry in the $y$ direction is called a *Bloch state*.\n",
    "\n",
    "The interval of $k_y$,\n",
    "\n",
    "\\begin{equation}\n",
    "-\\frac{\\pi}{a}<k_y\\leq\\frac{\\pi}{a}\n",
    "\\end{equation}\n",
    "\n",
    "is called the *first Brillouin zone*.\n"
   ]
  },
  {
   "cell_type": "markdown",
   "metadata": {},
   "source": [
    "### What is a Brillouin Zone?"
   ]
  },
  {
   "cell_type": "code",
   "execution_count": 40,
   "metadata": {},
   "outputs": [
    {
     "data": {
      "text/html": [
       "<figure>\n",
       "<center>\n",
       "  <img src =\"./image_files/RealLatticeBrillouinZone.png\", alt=\"RealLatticeBrillouinZone\", style=\"width: 80%\"/>\n",
       "</center>\n",
       "<caption>\n",
       "  Left side: square 2D lattice in real space; Right side: First Brillouin zone in reciprocal\n",
       "            space.  Blue triange shows an <i>irreducible</i> Brillouin zone.  The irriducible\n",
       "            Brillouin zone is the smallest surface that can fill the space of the Brillouin zone\n",
       "            by translation and reflection symmetry operations.\n",
       "</caption>\n",
       "</figure>\n"
      ],
      "text/plain": [
       "<IPython.core.display.HTML object>"
      ]
     },
     "metadata": {},
     "output_type": "display_data"
    }
   ],
   "source": [
    "%%HTML\n",
    "<figure>\n",
    "<center>\n",
    "  <img src =\"./image_files/RealLatticeBrillouinZone.png\", alt=\"RealLatticeBrillouinZone\", style=\"width: 80%\"/>\n",
    "</center>\n",
    "<caption>\n",
    "  Left side: square 2D lattice in real space; Right side: First Brillouin zone in reciprocal\n",
    "            space.  Blue triange shows an <i>irreducible</i> Brillouin zone.  The irriducible\n",
    "            Brillouin zone is the smallest surface that can fill the space of the Brillouin zone\n",
    "            by translation and reflection symmetry operations.\n",
    "</caption>\n",
    "</figure>"
   ]
  },
  {
   "cell_type": "markdown",
   "metadata": {},
   "source": [
    "### What is a reciprocal lattice?"
   ]
  },
  {
   "cell_type": "markdown",
   "metadata": {},
   "source": [
    "Suppose we have a periodic function such that:\n",
    "\n",
    "\\begin{equation}\n",
    "f(\\mathbf{f})=f(\\mathbf{r}+\\mathbf{R})\n",
    "\\end{equation}\n",
    "\n",
    "and write $f(\\mathbf{r})$ as a Fourier expansion in a plane-wave set of basis states.\n",
    "\n",
    "\\begin{equation}\n",
    "f(\\mathbf{r})=\\int{g(\\mathbf{q})e^{i\\mathbf{q}\\cdot\\mathbf{r}}}d^3\\mathbf{q}\n",
    "\\end{equation}\n",
    "\n",
    "Now translational symmetry, $f(\\mathbf{r})=f(\\mathbf{r}+\\mathbf{R})$, requires that \n",
    "\n",
    "\\begin{equation}\n",
    "g(\\mathbf{q})e^{i\\mathbf{q}\\cdot\\mathbf{r}}=g(\\mathbf{q})e^{i\\mathbf{q}\\cdot\\mathbf{r+R}}\n",
    "\\end{equation}\n",
    "\n",
    "or\n",
    "\n",
    "\\begin{equation}\n",
    "g(\\mathbf{q})=g(\\mathbf{q})e^{i\\mathbf{q}\\cdot\\mathbf{R}}\n",
    "\\end{equation}\n",
    "\n",
    "But this can only be true if $\\mathbf{q}\\cdot\\mathbf{R}=N2\\pi$, where $N$ is an integer.\n",
    "The $\\mathbf{q}$ that satisfy this condition are denoted $\\mathbf{G}$ so that $\\mathbf{G}\\cdot\\mathbf{R}=N2\\pi$.\n",
    "\n",
    "#### Square Lattice\n",
    "\n",
    "In terms of primitive lattice vectors $a\\hat{\\mathbf{x}},a\\hat{\\mathbf{y}},a\\hat{\\mathbf{z}}$ in real space we can express $\\mathbf{R}$ as\n",
    "\n",
    "\\begin{equation}\n",
    "\\mathbf{R}=la\\hat{\\mathbf{x}}+ma\\hat{\\mathbf{y}}+na\\hat{\\mathbf{y}};\\mbox{ }l,m,n\\text{ integers}\n",
    "\\end{equation}\n",
    "\n",
    "Similarly we can write $\\mathbf{G}$ in terms of primitive \"reciprocal\" lattice vectors $\\mathbf{b}$.\n",
    "\n",
    "\\begin{equation}\n",
    "\\mathbf{G}=l^{\\prime}\\mathbf{b}_1+m^{\\prime}\\mathbf{b}_2+n^{\\prime}\\mathbf{b}_3;\\mbox{ }l^{\\prime},m^{\\prime},n^{\\prime}\\text{ integers}\n",
    "\\end{equation}\n",
    "\n",
    "So that\n",
    "\n",
    "\\begin{equation}\n",
    "\\mathbf{G}\\cdot\\mathbf{R}=\\left(l^{\\prime}\\mathbf{b}_1+m^{\\prime}\\mathbf{b}_2+n^{\\prime}\\mathbf{b}_3\\right)\\cdot\\left(l\\mathbf{a}_1+m\\mathbf{a}_2+n\\mathbf{a}_3\\right)\n",
    "\\end{equation}\n",
    "\n",
    "The figure below shows a 2D square lattice in real space, the corresponding lattice in reciprocal space and the first Brillouin zone.  The recipe for assuring that the \"dot\" product between corresponding primitive lattice vecors in real and reciprocal space are $2\\pi$ is also shown."
   ]
  },
  {
   "cell_type": "code",
   "execution_count": 41,
   "metadata": {
    "scrolled": false
   },
   "outputs": [
    {
     "data": {
      "text/html": [
       "<figure>\n",
       "<center>\n",
       "  <img src =\"./image_files/RecipeReciprocalLattice.png\", alt=\"RecipeReciprocalLattice\", style=\"width: 80%\"/>\n",
       "</center>\n",
       "<caption>\n",
       "</caption>\n",
       "</figure>\n"
      ],
      "text/plain": [
       "<IPython.core.display.HTML object>"
      ]
     },
     "metadata": {},
     "output_type": "display_data"
    }
   ],
   "source": [
    "%%HTML\n",
    "<figure>\n",
    "<center>\n",
    "  <img src =\"./image_files/RecipeReciprocalLattice.png\", alt=\"RecipeReciprocalLattice\", style=\"width: 80%\"/>\n",
    "</center>\n",
    "<caption>\n",
    "</caption>\n",
    "</figure>"
   ]
  },
  {
   "cell_type": "markdown",
   "metadata": {},
   "source": [
    "#### Triangualr Lattice\n",
    "\n",
    "The figure below shows a similar arrangmenet for a triangular lattice in 2D.  Notice that the basis vectors are not orthogonal in real space or in reciprocal space.  The first Brillouin zone is not square but hexagonal."
   ]
  },
  {
   "cell_type": "code",
   "execution_count": 42,
   "metadata": {
    "scrolled": true
   },
   "outputs": [
    {
     "data": {
      "text/html": [
       "<figure>\n",
       "<center>\n",
       "  <img src =\"./image_files/TriangularLatticeRealReciprocal.png\", alt=\"TriangularLatticeRealReciprocal\", style=\"width: 80%\"/>\n",
       "</center>\n",
       "<caption>\n",
       "</caption>\n",
       "</figure>\n"
      ],
      "text/plain": [
       "<IPython.core.display.HTML object>"
      ]
     },
     "metadata": {},
     "output_type": "display_data"
    }
   ],
   "source": [
    "%%HTML\n",
    "<figure>\n",
    "<center>\n",
    "  <img src =\"./image_files/TriangularLatticeRealReciprocal.png\", alt=\"TriangularLatticeRealReciprocal\", style=\"width: 80%\"/>\n",
    "</center>\n",
    "<caption>\n",
    "</caption>\n",
    "</figure>"
   ]
  },
  {
   "cell_type": "markdown",
   "metadata": {},
   "source": [
    "## Photonic Band Structures"
   ]
  },
  {
   "cell_type": "markdown",
   "metadata": {},
   "source": [
    "The H-field that obeys the translational symmetry conditions can be written as a Bloch field,\n",
    "\n",
    "\\begin{equation}\n",
    "\\mathbf{H}_{\\mathbf{k}}(\\mathbf{r}=e^{i\\mathbf{k}\\cdot\\mathbf{r}}\\mathbf{u_k}(\\mathbf{r})\n",
    "\\label{eq:H-field}\n",
    "\\end{equation}\n",
    "\n",
    "with \n",
    "\n",
    "\\begin{equation}\n",
    "\\mathbf{u_k}(\\mathbf{r})=\\mathbf{u_k}(\\mathbf{r}+\\mathbf{R})\n",
    "\\end{equation}\n",
    "\n",
    "for all lattice vectors $\\mathbf{R}$.\n",
    "\n",
    "\n",
    "Now we plug this Bloch field into our \"Fundamental Equation\" and apply twice the following vector field identity, $\\nabla\\times(\\varphi\\mathbf{a})=\\nabla\\varphi+\\varphi\\nabla\\times\\mathbf{a}$.  The result of these steps is\n",
    "\n",
    "\\begin{align}\n",
    "\\hat\\Theta\\mathbf{H_k}&=\\left(\\frac{\\omega(\\mathbf{k})}{c}\\right)^2\\mathbf{H_k}\\label{eq:Theta}\\\\\n",
    "\\nabla\\times\\frac{1}{\\epsilon(\\mathbf{r})}\\nabla\\times e^{i\\mathbf{k}\\cdot\\mathbf{r}}&=\\left(\\frac{\\omega(\\mathbf{k})}{c}\\right)^2e^{i\\mathbf{k}\\cdot\\mathbf{r}}\\mathbf{u_k}(\\mathbf{r})\\\\\n",
    "\\left(i\\mathbf{k}+\\nabla\\right)\\times\\frac{1}{\\epsilon(\\mathbf{r})}\\left(i\\mathbf{k}+\\nabla\\right)\\times\\mathbf{u_k}(\\mathbf{r})&=\\left(\\frac{\\omega(\\mathbf{k})}{c}\\right)^2\\mathbf{u_k}(\\mathbf{r})\n",
    "\\end{align}\n",
    "\n",
    "This last equation can be considered a \"Fundamental Equation for Photonic Bands\".\n",
    "\n",
    "\\begin{equation}\n",
    "\\hat\\Theta_{\\mathbf{k}}\\mathbf{u_k}(\\mathbf{r})=\\left(\\frac{\\omega(\\mathbf{k})}{c}\\right)^2\\mathbf{u_k}(\\mathbf{r})\n",
    "\\label{eq:NewTheta}\n",
    "\\end{equation}\n",
    "\n",
    "with a new \"Fundamental Operator\" identified as,\n",
    "\n",
    "\\begin{equation}\n",
    "\\hat\\Theta_{\\mathbf{k}}=\\left(i\\mathbf{k}+\\nabla\\right)\\times\\frac{1}{\\epsilon(\\mathbf{r})}\\left(i\\mathbf{k}+\\nabla\\right)\\times\n",
    "\\end{equation}\n",
    "\n",
    "Notice that Eq.\\eqref{eq:NewTheta} above is also an eigenfunction, eigenvalue expression, but is not the same as the earlier expression for the H-field solutions, Eq.\\eqref{eq:Theta}.  The eigenfunctions $\\mathbf{u_k}$ are functions of $\\mathbf{k}$ as are the the eigenvalues $\\frac{\\omega(\\mathbf{k})^2}{c^2}$.  Once we have the eigenfunctions $\\mathbf{u_k}$ we can obtain the H-fields from Eq.\\eqref{eq:H-field}."
   ]
  },
  {
   "cell_type": "markdown",
   "metadata": {},
   "source": [
    "## Photonic Crystals in 1-D"
   ]
  },
  {
   "cell_type": "code",
   "execution_count": 43,
   "metadata": {},
   "outputs": [
    {
     "data": {
      "text/html": [
       "<figure>\n",
       "<center>\n",
       "  <img src =\"./image_files/Fig1Chap4.pdf\", alt=\"1-D PhotonicCrystal\", style=\"width:70%\"/>\n",
       "</center>\n",
       "<caption>\n",
       "Schematic diagram of a 1-D photonic crystal showing a periodic displacement symmetry along $z$ and a continuous\n",
       "displacement symmetry in the $x-y$ plane.\n",
       "</caption>\n",
       "</figure>\n"
      ],
      "text/plain": [
       "<IPython.core.display.HTML object>"
      ]
     },
     "metadata": {},
     "output_type": "display_data"
    }
   ],
   "source": [
    "%%HTML\n",
    "<figure>\n",
    "<center>\n",
    "  <img src =\"./image_files/Fig1Chap4.pdf\", alt=\"1-D PhotonicCrystal\", style=\"width:70%\"/>\n",
    "</center>\n",
    "<caption>\n",
    "Schematic diagram of a 1-D photonic crystal showing a periodic displacement symmetry along $z$ and a continuous\n",
    "displacement symmetry in the $x-y$ plane.\n",
    "</caption>\n",
    "</figure>"
   ]
  },
  {
   "cell_type": "markdown",
   "metadata": {},
   "source": [
    "The figure above shows alternating layers of two dielectric materials, with two different indices of refraction.  The structure exhibits *periodic* translational symmetry along $z$ and *continuous* translational symmetry in the $x-y$ plane.  The H-field can be expressed as\n",
    "\n",
    "\\begin{equation}\n",
    "\\mathbf{H}_{n,k_z,\\mathbf{k}_{\\parallel}}=e^{i\\mathbf{k}_{\\parallel}\\cdot\\mathbf{\\rho}}e^{ik_zz}\\mathbf{u}_{n,k_z,\\mathbf{k}_{\\parallel}}(z)\n",
    "\\end{equation}\n",
    "\n",
    "The primitive lattice vector is $a\\hat{\\mathbf{z}}$, and the primitive *reciprocal* lattice vector is $\\frac{2\\pi}{a}\\hat{\\mathbf{z}}$.  The first Brillouin zone is $-\\frac{\\pi}{a}<k_z\\leq\\frac{\\pi}{a}$.\n",
    "\n",
    "### What is a Photonic Band Gap?\n",
    "\n",
    "\n",
    "\n"
   ]
  },
  {
   "cell_type": "code",
   "execution_count": 44,
   "metadata": {},
   "outputs": [
    {
     "data": {
      "text/html": [
       "<figure>\n",
       "<center>\n",
       "  <img src =\"./image_files/1D-BandGaps.png\", alt=\"1D-BandGaps\", style=\"width:100%\"/>\n",
       "</center>\n",
       "<caption>\n",
       "Three dispersion curves or band diagrams corresponding to different contrast between the\n",
       "dielectric constants of the two alternating layers.  Left panel: the material along the $z$\n",
       "    axis uniform, and no band gap appears.  Center panel: The dielectric contrast is very small\n",
       "        resulting in a very small band gap at the band edge, $k=0.5$.  Right panel: The dielectric constant is quite\n",
       "            pronounced resulting at a much larger band gap at the band edge, $k=0.5$.\n",
       "</caption>\n",
       "</figure>\n"
      ],
      "text/plain": [
       "<IPython.core.display.HTML object>"
      ]
     },
     "metadata": {},
     "output_type": "display_data"
    }
   ],
   "source": [
    "%%HTML\n",
    "<figure>\n",
    "<center>\n",
    "  <img src =\"./image_files/1D-BandGaps.png\", alt=\"1D-BandGaps\", style=\"width:100%\"/>\n",
    "</center>\n",
    "<caption>\n",
    "Three dispersion curves or band diagrams corresponding to different contrast between the\n",
    "dielectric constants of the two alternating layers.  Left panel: the material along the $z$\n",
    "    axis uniform, and no band gap appears.  Center panel: The dielectric contrast is very small\n",
    "        resulting in a very small band gap at the band edge, $k=0.5$.  Right panel: The dielectric constant is quite\n",
    "            pronounced resulting at a much larger band gap at the band edge, $k=0.5$.\n",
    "</caption>\n",
    "</figure>"
   ]
  },
  {
   "cell_type": "markdown",
   "metadata": {},
   "source": [
    "The three diagrams in the figure above help to describe the meaning of the photonic band gap and its physical origin.  The diagrams plot $\\omega(k_z)$ as a function of $k_z$. On the left side is a \"band gap\" for \"alternating layers\" in which the dielectric constant is the same for both layers.  That means that in fact the material is uniform in the $x-y$ plane *and* along the $z$ axis. The $\\omega(k_z)$ vs. $k_z$ plot is very simple in this case...it just consists of the \"light line\", a linear plot with slope equal to the speed of light in the material, $\\omega=\\frac{c}{\\sqrt{\\epsilon}}k_z$.  The value of $\\epsilon=13$ was chosen because it is close to the dielectric constant of gallium arsenide (GaAs), a material commonly used in opto-electronic devices. Notice that the plot is for \"normalized\" or \"unitless\" quantities.  The wavevector $k_z=\\frac{2\\pi}{\\lambda}$ where $\\lambda$ is the wavelength of light propagating in the materials.  The quantity that is actually plotted is $k_z$ divided by $\\frac{2\\pi}{a}$ where is the periodicity length.  In the center and right panels the periodicity with period $a$ corresponds to a real difference in dielectric constant between the layers.  Clearly both $k_z$ and $\\frac{2\\pi}{a}$ both have units of reciprocal length, and so therefore the quantity $k$ plotted along the abscissa is unitless.  Along the ordinate we have the frequnency $\\omega$ divided by $\\frac{2\\pi}{a}c$ which can be considered the \"frequency of the periodicity\".  Note that both $\\omega$ and $\\frac{2\\pi}{a}c$ have units of reciprocal time so the quantity $\\omega$ plotted along the ordinate is unitless.  Finally note that the dispersion curve or band diagram \"folds back\" on itself at $k=\\pm 0.5$.  This folding back characteristic is simply a consequence of the fact that the properties of the dispersion curve repeat after $k=\\pm 0.5=\\pm\\frac{k_z}{2\\pi}a$ or $k_z=\\pm\\frac{\\pi}{a}=\\pm\\frac{2\\pi}{\\lambda}$.  Therefore the point along the abscissa $k=\\pm 0.5$ corresponds to a wavelength $\\lambda=2a$.  The points $k=\\pm 0.5$ are called the \"band edge\".\n",
    "\n",
    "The \"photonic band gap\" that opens up in the diagrams at the center and right side of the above figures implies that there is no wave vector $k$ that can propagate throught the material within the frequency interval of the gap.  Why is this so?  The physical origin of the band gap is discussed in the next section."
   ]
  },
  {
   "cell_type": "markdown",
   "metadata": {},
   "source": [
    "### Physical Origin of the Band Gap\n",
    "\n",
    "The easiest way to describe origin of the band gap is by reference to the figure below."
   ]
  },
  {
   "cell_type": "code",
   "execution_count": 45,
   "metadata": {},
   "outputs": [
    {
     "data": {
      "text/html": [
       "<figure>\n",
       "<center>\n",
       "  <img src =\"./image_files/Fig3Chap4.pdf\", alt=\"ModePlots1DCrystal\", style=\"width:70%\"/>\n",
       "</center>\n",
       "<caption>\n",
       "(a) Electric field at top of band 1 just below the gap at $k=0.5$ in the center-panel dispersion curve\n",
       "in the figure above. (b) Electric field at bottom of band 2 just above the gap at $k=0.5$ in the\n",
       "same figure. (c) Energy density plot corresponding to E-field in (a).  (d) Energy density plot\n",
       "corresponding to E-field in (b).\n",
       "</caption>\n",
       "</figure>\n"
      ],
      "text/plain": [
       "<IPython.core.display.HTML object>"
      ]
     },
     "metadata": {},
     "output_type": "display_data"
    }
   ],
   "source": [
    "%%HTML\n",
    "<figure>\n",
    "<center>\n",
    "  <img src =\"./image_files/Fig3Chap4.pdf\", alt=\"ModePlots1DCrystal\", style=\"width:70%\"/>\n",
    "</center>\n",
    "<caption>\n",
    "(a) Electric field at top of band 1 just below the gap at $k=0.5$ in the center-panel dispersion curve\n",
    "in the figure above. (b) Electric field at bottom of band 2 just above the gap at $k=0.5$ in the\n",
    "same figure. (c) Energy density plot corresponding to E-field in (a).  (d) Energy density plot\n",
    "corresponding to E-field in (b).\n",
    "</caption>\n",
    "</figure>"
   ]
  },
  {
   "cell_type": "markdown",
   "metadata": {},
   "source": [
    "Remembeer from our discussion of the energy functional that energy of a mode tends to minimize when most of the field is concentrated in the high-dielectric constant regions of space.\n",
    "\n",
    "\\begin{equation}\n",
    "U(\\mathbf{H})=\\frac{\\left(\\nabla\\times\\mathbf{E},\\nabla\\times\\mathbf{E}\\right)}{\\left(\\mathbf{E},\\epsilon(\\mathbf{r})\\mathbf{E}\\right)}\n",
    "\\end{equation}\n",
    "\n",
    "We can see in panels (a) and (c) in the figure above that the concentration of field and field energy in the $\\epsilon=13$ layers results in a lowering of the energy at the \"band edge\", $k=0.5$, where $\\lambda =2a$.  Similarly in panels (b) and (d) we see that the field and field energy concentrated principally in lower dielectric constant layers $\\epsilon=12$ raises the energy of the mode.  This concentration of field and energy density in high or low regions of dielectric constant give rise to the energy \"splitting\" of the modes and the consequent band gap."
   ]
  },
  {
   "cell_type": "markdown",
   "metadata": {},
   "source": [
    "### Size of the Band Gap"
   ]
  },
  {
   "cell_type": "code",
   "execution_count": 46,
   "metadata": {},
   "outputs": [
    {
     "data": {
      "text/html": [
       "<figure>\n",
       "<center>\n",
       "  <img src =\"./image_files/SizeBandGap.png\", alt=\"SizeBandGap\", style=\"width:100%\"/>\n",
       "</center>\n",
       "<caption>\n",
       "\n",
       "</caption>\n",
       "</figure>\n"
      ],
      "text/plain": [
       "<IPython.core.display.HTML object>"
      ]
     },
     "metadata": {},
     "output_type": "display_data"
    }
   ],
   "source": [
    "%%HTML\n",
    "<figure>\n",
    "<center>\n",
    "  <img src =\"./image_files/SizeBandGap.png\", alt=\"SizeBandGap\", style=\"width:100%\"/>\n",
    "</center>\n",
    "<caption>\n",
    "\n",
    "</caption>\n",
    "</figure>"
   ]
  },
  {
   "cell_type": "markdown",
   "metadata": {},
   "source": [
    "The figure above on the left shows the dispersion diagram for the case of $\\frac{\\epsilon_1}{\\epsilon_2}=13$.  The size of the band gap, which is related to the dielectric contrast between the layers, is characterized by the quantity $\\frac{\\Delta\\omega}{\\omega_m}$ where $\\omega_m$ is the frequency at the midpoint of the gap and $\\Delta\\omega=\\omega_{\\mathrm{max}}-\\omega_{\\mathrm{min}}$.  This quantity is called the *gap-midgap ratio* and is usually expressd as a percentage...for example a \"10% gap\" corresponds to $\\frac{\\Delta\\omega}{\\omega_m}=0.1$.  The panel on the right in the above figure once again shows the E-field and energy density spatial distributions for the case of $\\frac{\\epsilon_1}{\\epsilon_2}=13$.  We see that as the dielectric contrast increases the field and energy are even more tightly confined to the high dielectric region for the lower-energy band."
   ]
  },
  {
   "cell_type": "markdown",
   "metadata": {},
   "source": [
    "#### Some useful formulas for 1D photonic crystals\n",
    "\n",
    "For a layered stack which is only *weakly* periodic we can use perturbation theory to derive a formula for the gap-midgap ratio.  Suppose we have a two-component stack with one component exhibiting $\\epsilon$ for the dielectric constant and the other component has $\\epsilon +\\Delta\\epsilon$.  The period is still $a$, but the thickness of the first component is $a-d$ and the thickness of the second component is $d$.  Under these conditions the gap-midgap ratio can be written\n",
    "\n",
    "\\begin{equation}\n",
    "\\frac{\\Delta\\omega}{\\omega_m}\\simeq\\frac{\\Delta\\epsilon}{\\epsilon}\\cdot\\frac{\\sin(\\pi\\cdot\\left(\\frac{d}{a}\\right)}{\\pi}\n",
    "\\end{equation}\n",
    "\n",
    "The above formula is adequate if the contrast in dielectric constant is not too great.  \n",
    "\n",
    "More generally for abitrary, lossless, nonmagnetic dielectric constants (or refractive indices...$n=\\sqrt{\\epsilon}$), and for thicknesses $d_1$ and $d_2=a-d_1$, it can be shown (see below) that that the band gap is maximized when \n",
    "\n",
    "\\begin{equation}\n",
    "d_1n_1=d_2n_2\n",
    "\\end{equation}\n",
    "\n",
    "and the midgap frequency is,\n",
    "\n",
    "\\begin{equation}\n",
    "\\omega_m=\\frac{n_1+n_2}{4n_1n_2}\\cdot\\frac{2\\pi c}{a}\n",
    "\\end{equation}\n",
    "\n",
    "For the gap between the first two bands of this maximized band gap, it can be shown (cf *Optical Waves in Layered Media*, Pochi Yeh, Wiley Series in Pure and Applied Optics, pp. 123-128, (John Wiley and Sons, 2005)) that\n",
    "\n",
    "\\begin{equation}\n",
    "\\frac{\\Delta\\omega}{\\omega_m}=\\frac{4}{\\pi}\\sin^{-1}\\left(\\frac{|n_1-n_2|}{n_1+n_2}\\right)\n",
    "\\end{equation}\n",
    "\n",
    "where $n_1=\\sqrt{\\epsilon_1}$ and $n_2=\\sqrt{\\epsilon_2}$.\n",
    "\n",
    "The wavelength (in vacuum) that corresponds to $\\omega_m$ is $\\lambda_{0m}=\\frac{2\\pi c}{a}$.\n",
    "\n",
    "The \"effective\" wavelength in the stack is \n",
    "\n",
    "\\begin{equation}\n",
    "\\lambda_{\\mathrm{eff}}=\\frac{\\lambda_{0m}}{n_{\\mathrm{eff}}}\n",
    "\\end{equation}\n",
    "\n",
    "and\n",
    "\n",
    "\\begin{equation}\n",
    "\\frac{1}{4}\\lambda_{0m}=n_1d_1=n_2d_2\n",
    "\\end{equation}\n",
    "\n",
    "This last expression shows that the band gap is maximised for a \"quarter-wave stack\"."
   ]
  },
  {
   "cell_type": "code",
   "execution_count": 47,
   "metadata": {},
   "outputs": [
    {
     "data": {
      "text/html": [
       "<figure>\n",
       "<center>\n",
       "  <img src =\"./image_files/QuarterWaveStack.png\", alt=\"QuarterWaveStack\", style=\"width:50%\"/>\n",
       "</center>\n",
       "<caption>\n",
       "\n",
       "</caption>\n",
       "</figure>\n"
      ],
      "text/plain": [
       "<IPython.core.display.HTML object>"
      ]
     },
     "metadata": {},
     "output_type": "display_data"
    }
   ],
   "source": [
    "%%HTML\n",
    "<figure>\n",
    "<center>\n",
    "  <img src =\"./image_files/QuarterWaveStack.png\", alt=\"QuarterWaveStack\", style=\"width:50%\"/>\n",
    "</center>\n",
    "<caption>\n",
    "\n",
    "</caption>\n",
    "</figure>"
   ]
  },
  {
   "cell_type": "markdown",
   "metadata": {},
   "source": [
    "#### Where do the formulas for the quarter-wave stack come from?  \n",
    "\n",
    "With refererence to the figure above we imagine a wave propagating from left to right with a free-space wavelength $\\lambda_0$.  The phase evolution of this wave in the first slab (blue) with refractive index $n_1$ and thickness $d_1$ is $k_1\\cdot d_1=n_1k_0d_1$.  In the second slab (green) the phase evolution is $k_2\\cdot d_2=n_2k_0d_2$.  We want the phase evolution through these two materials to be continuous at the interface so that there is no phase interruption in the transmitted wave...which means we want $n_1k_0d_1=n_2k_0d_2$ or $n_1d_1=n_2d_2$.  \n",
    "Now we define an effective refractive index which is the weighted average of the refractive indices $n_1,n_2$.  The weighting factors are the thicknesses, \n",
    "\n",
    "\\begin{equation}\n",
    "n_{\\mathrm{eff}}=\\frac{n_1d_1+n_2d_2}{d_1+d_2}=\\frac{2n_1d_1}{a}=\\frac{2n_2d_2}{a}=\\frac{2n_1n_2}{n_1+n_2}\n",
    "\\end{equation}\n",
    "\n",
    "The terms on the right follows from our continuous-phase criterion.  Now, in order to satisfy the periodicity of the \"effective\" wave in the \"effective\" index, such that we get the maximum band gap, we should write \n",
    "\n",
    "\\begin{align}\n",
    "k_{\\mathrm{eff}}a&=\\pi\\label{Eq:BandGapCriterion1}\\\\\n",
    "\\frac{2\\pi}{\\lambda_0}n_{\\mathrm{eff}}a&=\\pi\\label{Eq:BandGapCriterion2}\n",
    "\\end{align}\n",
    "\n",
    "or \n",
    "\n",
    "\\begin{equation}\n",
    "n_1d_1=n_2d_2=\\frac{\\lambda_{0m}}{4}\n",
    "\\end{equation}\n",
    "\n",
    "The criterion of Eq. \\ref{Eq:BandGapCriterion1} is nothing more that a restatement of the value of $k$ at the band edge. If you look at the earlier figures for the wave forms in the section \"Physical Origin of the Band Gap\"  and \"Size of the Band Gap\", you that Eq. \\ref{Eq:BandGapCriterion2} is the criterion used such that the periodicity of the wave fits the periodicity of the layered structure."
   ]
  },
  {
   "cell_type": "code",
   "execution_count": 48,
   "metadata": {},
   "outputs": [
    {
     "data": {
      "text/html": [
       "<figure>\n",
       "<center>\n",
       "  <img src =\"./image_files/BandGapSchematic.png\", alt=\"BandGapSchematic\", style=\"width:50%\"/>\n",
       "</center>\n",
       "<caption>\n",
       "Schematic photonic band gap, showing the band edge at $ka=\\pi$, the frequency midpoint of the gap, $\\omega_m$,\n",
       "the frequncy at the band edge, $\\omega_{\\mathrm{edge}}$, and the width of the gap, $\\Delta\\omega_{\\mathrm{gap}}$.\n",
       "</caption>\n",
       "</figure>\n"
      ],
      "text/plain": [
       "<IPython.core.display.HTML object>"
      ]
     },
     "metadata": {},
     "output_type": "display_data"
    }
   ],
   "source": [
    "%%HTML\n",
    "<figure>\n",
    "<center>\n",
    "  <img src =\"./image_files/BandGapSchematic.png\", alt=\"BandGapSchematic\", style=\"width:50%\"/>\n",
    "</center>\n",
    "<caption>\n",
    "Schematic photonic band gap, showing the band edge at $ka=\\pi$, the frequency midpoint of the gap, $\\omega_m$,\n",
    "the frequncy at the band edge, $\\omega_{\\mathrm{edge}}$, and the width of the gap, $\\Delta\\omega_{\\mathrm{gap}}$.\n",
    "</caption>\n",
    "</figure>"
   ]
  },
  {
   "cell_type": "markdown",
   "metadata": {},
   "source": [
    "### Light within the Band Gap\n",
    "\n",
    "What happens inside the frequency interval where there are no *propagating* modes?  Within the band gap (yellow region in the above figure) the wavevector $k$ becomes complex, $k\\rightarrow k+i\\kappa$ such that the fields, propagating along $z$, for example, take on the following form\n",
    "\n",
    "\\begin{equation}\n",
    "\\mathbf{H}(\\mathbf{r})=\\mathbf{u}(z)e^{ikz}\\rightarrow\\mathbf{H}(\\mathbf{r})=\\mathbf{u}(z)e^{i(k+i\\kappa z)}\n",
    "\\end{equation}\n",
    "\n",
    "So we see that the wave becomes *evanescent*, falling of exponentially within the bandgap.\n",
    "\n",
    "\\begin{equation}\n",
    "\\mathbf{H}(\\mathbf{r})=\\mathbf{u}(z)e^{ikz}e^{-\\kappa z}\n",
    "\\end{equation}\n",
    "\n",
    "Now the question is to determine $\\kappa$ and how $\\kappa$ varies with the position of the field mode within the bandgap.\n",
    "\n",
    "Let us suppose, as we did in the previous section, that at the band *edge* we have\n",
    "\n",
    "\\begin{equation}\n",
    "ka=\\pi\\mbox{    }\\text{ (at band edge)}\n",
    "\\end{equation}\n",
    "\n",
    "and in the midde of the band gap we have\n",
    "\n",
    "\\begin{equation}\n",
    "ka=\\pi\\pm ix\\label{Eq:MidGapExpression}\n",
    "\\end{equation}\n",
    "\n",
    "Now it can be shown, again please see *Optical Waves in Layered Media*, Pochi Yeh, Wiley Series in Pure and Applied Optics, pp. 123-128, (John Wiley and Sons, 2005), using a matrix formulation of the wave propagation through our bilayer periodic medium, that\n",
    "\n",
    "\\begin{equation}\n",
    "\\cos{ka}=\\cos{k_1d_1}\\cos{k_2d_2}-\\frac{1}{2}\\left(\\frac{n_2}{n_1}+\\frac{n_1}{n_2}\\right)\\sin{k_1d_1}\\sin{k_2d_2}\\label{Eq:YehMainRelation}\n",
    "\\end{equation}\n",
    "\n",
    "where $k_1=k_0n_1$ and $k_2=k_0n_2$.\n",
    "\n",
    "At the center of the maximum, quarter-wave band gap, where $\\omega=\\omega_m$, we have $k_1d_1=k_2d_2=\\frac{\\pi}{2}$.  Substitute this last condition into Eq. \\ref{Eq:YehMainRelation}.  The result is\n",
    "\n",
    "\\begin{equation}\n",
    "\\cos{ka}=-\\frac{1}{2}\\left(\\frac{n_1}{n_2}+\\frac{n_2}{n_1}\\right)\n",
    "\\end{equation}\n",
    "\n",
    "Now into *this* equation we substitute on the left side our expression for $ka$ at the midgap position, Eq. \\ref{Eq:MidGapExpression}.  The result is,\n",
    "\n",
    "\\begin{equation}\n",
    "x=\\ln{\\left(\\frac{n_2}{n_1}\\right)}\\simeq\\frac{2\\left(n_2-n_1\\right)}{n_2+n_1}\n",
    "\\end{equation}\n",
    "\n",
    "The approximate term on the right comes from a Taylor expansion of $\\ln{\\left(\\frac{n_2}{n_1}\\right)}$\n",
    "\n",
    "\\begin{equation}\n",
    "\\ln{x}=2\\left\\{\\left(\\frac{x-1}{x+1}\\right)+\\frac{1}{3}\\left(\\frac{x-1}{x+1}\\right)^3+\\frac{1}{5}\\left(\\frac{x-1}{x+1}\\right)^5+...\\right\\}\n",
    "\\end{equation}\n",
    "\n",
    "where we have just used the first term on the right and have assumed $\\frac{n_2}{n_1}>1$.  We also are going to assume that $n_2-n_1\\ll n_1,n_2$.\n",
    "\n",
    "Now, we are going to write small deviations from the frequency corresponding to the bandgap center $\\omega_m$ as\n",
    "\n",
    "\\begin{equation}\n",
    "y=\\left(\\frac{n_1d_1}{c}\\right)\\left(\\omega-\\omega_m\\right)=\\left(\\frac{n_2d_2}{c}\\right)\\left(\\omega-\\omega_m\\right)\n",
    "\\end{equation}\n",
    "\n",
    "and use Eq.  \\ref{Eq:MidGapExpression}.  We substitute the expression for $y$ and $ka$ into Eq. \\ref{Eq:YehMainRelation}.  Taking into account that $k_1d_1=k_2d_2=\\frac{\\pi}{2}$ and using some standard triganometry identities, it is straight forward to show that,\n",
    "\n",
    "\\begin{equation}\n",
    "\\cosh{x}=\\frac{1}{2}\\left(\\frac{n_2}{n_1}+\\frac{n_1}{n_2}\\right)\\cos^2y-\\sin^2y\n",
    "\\end{equation}\n",
    "\n",
    "At the center of the bandgap $x=i\\pi$, but at the band edge $x=0$ and \n",
    "\n",
    "\\begin{equation}\n",
    "y_{\\mathrm{edge}}\\simeq\\pm\\sin^{-1}\\frac{n_2-n_1}{n_2+n_1}\\label{Eq:y_edge}\n",
    "\\end{equation}\n",
    "\n",
    "This last expression also requires a little explanation.  First of all, at the band edge, $x=0$ and $\\cosh{x}=1$, then it is assumed that $\\cos^2{y}\\simeq 1$ and the expression for $\\sin^2y$ that results is,\n",
    "\n",
    "\\begin{equation}\n",
    "\\sin^2y_{\\mathrm{edge}}\\simeq\\frac{1}{2}\\left(\\frac{n_2}{n_1}+\\frac{n_1}{n_2}\\right)-1=\\frac{\\left(n_2-n_1\\right)^2}{2n_1n_2}\n",
    "\\end{equation}\n",
    "\n",
    "or\n",
    "\n",
    "\\begin{equation}\n",
    "\\sin{y_{\\mathrm{edge}}}=\\pm\\frac{n_2-n_1}{\\sqrt{2n_1n_2}}\n",
    "\\end{equation}\n",
    "\n",
    "Now, if we assume that $n_2$ is not too different from $n_1$, that is, $n_2\\simeq n_1$, then we can use the approximation that the \"geometric mean\" is about equal to the \"arithmetic mean\". Or,\n",
    "\n",
    "\\begin{equation}\n",
    "\\sqrt{n_1n_2}\\simeq\\frac{1}{2}\\left(n_1+n_2\\right)\n",
    "\\end{equation}\n",
    "\n",
    "so that\n",
    "\n",
    "\\begin{equation}\n",
    "\\sin{y}_{\\mathrm{edge}}=\\pm\\frac{n_2-n_1}{\\frac{\\sqrt{2}}{2}\\left(n_1+n_2\\right)}\\simeq\\pm\\frac{n_2-n_1}{n_2+n_1}\n",
    "\\end{equation}\n",
    "\n",
    "or\n",
    "\n",
    "\\begin{equation}\n",
    "y_{\\mathrm{edge}}\\simeq\\pm\\sin^{-1}\\frac{n_2-n_1}{n_2+n_1}\n",
    "\\end{equation}\n",
    "\n",
    "as posited in Eq. \\ref{Eq:y_edge}.\n",
    "\n",
    "Now, from the definition, $y_{\\mathrm{edge}}$ can be written in terms of $\\omega$.\n",
    "\n",
    "\\begin{equation}\n",
    "y_{\\mathrm{edge}}=\\frac{n_1d_1}{c}(\\omega_{\\mathrm{edge}}-\\omega_m)=\\frac{\\pi}{2}-\\frac{\\pi}{2}\\frac{\\omega_m}{\\omega_{\\mathrm{edge}}}=\\frac{\\pi}{2}\\left(1-\\frac{\\omega_m}{\\omega_{\\mathrm{edge}}}\\right)=\\frac{\\pi}{2}\\left(\\frac{\\omega_{\\mathrm{edge}}-\\omega_m}{\\omega_{\\mathrm{edge}}}\\right)\n",
    "\\end{equation}\n",
    "\n",
    "We identify the bandgap as $\\Delta\\omega_{\\mathrm{gap}}=2(\\omega_{\\mathrm{edge}}-\\omega_m)$.  So finally,\n",
    "\n",
    "\\begin{equation}\n",
    "y_{\\mathrm{edge}}=\\frac{\\pi}{4}\\frac{\\Delta\\omega_{\\mathrm{gap}}}{\\omega_m}\n",
    "\\end{equation}\n",
    "\n",
    "and\n",
    "\n",
    "\\begin{equation}\n",
    "\\frac{\\Delta\\omega_{\\mathrm{gap}}}{\\omega_m}=\\frac{4}{\\pi}\\sin^{-1}\\frac{n_2-n_1}{n_2+n_1}\n",
    "\\end{equation}"
   ]
  },
  {
   "cell_type": "markdown",
   "metadata": {},
   "source": [
    "## Defects within a Stack or on the Stack Surface\n",
    "\n",
    "If there is a slight defect in the periodicity of the stack within one of the layers (say, one layer is slightly thicker than similar, neighbouriing layers, then the \"defect\" can contain a *localised mode* where light will be confined to the defective layer.  A similar condition can apply to the surface and produce a surface localised mode. The figure below illustrates the situation."
   ]
  },
  {
   "cell_type": "code",
   "execution_count": 49,
   "metadata": {
    "scrolled": true
   },
   "outputs": [
    {
     "data": {
      "text/html": [
       "<figure>\n",
       "<center>\n",
       "  <img src =\"./image_files/DefectiveStack.png\", alt=\"DefectiveStack\", style=\"width:70%\"/>\n",
       "</center>\n",
       "<caption>\n",
       "\n",
       "</caption>\n",
       "</figure>\n"
      ],
      "text/plain": [
       "<IPython.core.display.HTML object>"
      ]
     },
     "metadata": {},
     "output_type": "display_data"
    }
   ],
   "source": [
    "%%HTML\n",
    "<figure>\n",
    "<center>\n",
    "  <img src =\"./image_files/DefectiveStack.png\", alt=\"DefectiveStack\", style=\"width:70%\"/>\n",
    "</center>\n",
    "<caption>\n",
    "\n",
    "</caption>\n",
    "</figure>"
   ]
  },
  {
   "cell_type": "markdown",
   "metadata": {},
   "source": [
    "A localised mode within a stack and on the surface are shown in the next two figures."
   ]
  },
  {
   "cell_type": "code",
   "execution_count": 50,
   "metadata": {},
   "outputs": [
    {
     "data": {
      "text/html": [
       "<figure>\n",
       "<center>\n",
       "  <img src =\"./image_files/Fig11Chap4.pdf\", alt=\"Fig11Chap4\", style=\"width:80%\"/>\n",
       "</center>\n",
       "<caption>\n",
       "Localised mode with a defective layer (green) that is slightly thicker than its neighbours.\n",
       "</caption>\n",
       "</figure>\n"
      ],
      "text/plain": [
       "<IPython.core.display.HTML object>"
      ]
     },
     "metadata": {},
     "output_type": "display_data"
    }
   ],
   "source": [
    "%%HTML\n",
    "<figure>\n",
    "<center>\n",
    "  <img src =\"./image_files/Fig11Chap4.pdf\", alt=\"Fig11Chap4\", style=\"width:80%\"/>\n",
    "</center>\n",
    "<caption>\n",
    "Localised mode with a defective layer (green) that is slightly thicker than its neighbours.\n",
    "</caption>\n",
    "</figure>"
   ]
  },
  {
   "cell_type": "code",
   "execution_count": 51,
   "metadata": {},
   "outputs": [
    {
     "data": {
      "text/html": [
       "<a id='surface_defect_image'></a>\n",
       "<figure>\n",
       "<center>\n",
       "  <img src =\"./image_files/Fig13Chap4.pdf\", alt=\"Fig13Chap4\", style=\"width:90%\"/>\n",
       "</center>\n",
       "<caption>\n",
       "\n",
       "</caption>\n",
       "</figure>\n"
      ],
      "text/plain": [
       "<IPython.core.display.HTML object>"
      ]
     },
     "metadata": {},
     "output_type": "display_data"
    }
   ],
   "source": [
    "%%HTML\n",
    "<a id='surface_defect_image'></a>\n",
    "<figure>\n",
    "<center>\n",
    "  <img src =\"./image_files/Fig13Chap4.pdf\", alt=\"Fig13Chap4\", style=\"width:90%\"/>\n",
    "</center>\n",
    "<caption>\n",
    "\n",
    "</caption>\n",
    "</figure>"
   ]
  },
  {
   "cell_type": "markdown",
   "metadata": {},
   "source": [
    "The figure above shows a localised mode on the surface where a blue slab is slightly thinner than its neighbours."
   ]
  },
  {
   "cell_type": "markdown",
   "metadata": {},
   "source": [
    "### Off-Axis Propagation\n",
    "\n",
    "So far we have considered only propagation along $z$, normal to the $x-y$ plane.  We now consider what happens when allow off-axis propagation that introduces a wavevector component in the $x-y$plane."
   ]
  },
  {
   "cell_type": "code",
   "execution_count": 52,
   "metadata": {},
   "outputs": [
    {
     "data": {
      "text/html": [
       "<figure>\n",
       "<center>\n",
       "  <img src =\"./image_files/OffAxisPropagation.png\", alt=\"OffAxisPropagation\", style=\"width:100%\"/>\n",
       "</center>\n",
       "<caption>\n",
       "Normal incidence band structure, shown on the left with $k_z (k_{\\parallel}=0)$ and off-axis\n",
       "band structure shown on the right ($k$ vector off-axis in the $z-y$ plane).  The off-axis\n",
       "structure splits into TM and TE polarisations as shown in the plot.\n",
       "</caption>\n",
       "</figure>\n"
      ],
      "text/plain": [
       "<IPython.core.display.HTML object>"
      ]
     },
     "metadata": {},
     "output_type": "display_data"
    }
   ],
   "source": [
    "%%HTML\n",
    "<figure>\n",
    "<center>\n",
    "  <img src =\"./image_files/OffAxisPropagation.png\", alt=\"OffAxisPropagation\", style=\"width:100%\"/>\n",
    "</center>\n",
    "<caption>\n",
    "Normal incidence band structure, shown on the left with $k_z (k_{\\parallel}=0)$ and off-axis\n",
    "band structure shown on the right ($k$ vector off-axis in the $z-y$ plane).  The off-axis\n",
    "structure splits into TM and TE polarisations as shown in the plot.\n",
    "</caption>\n",
    "</figure>"
   ]
  },
  {
   "cell_type": "markdown",
   "metadata": {},
   "source": [
    "### Why are TM modes lower energy than TE modes?\n",
    "\n",
    "Long wavelength limit is always linear because the wavelength of light is much longer than the\n",
    "thickness of either of the material layers.  Consequently there is an \"effective\" refractive\n",
    "index, and the dispersion curve resembles the \"light line\" with a slope of $\\frac{c}{n_{\\mathrm{eff}}}$. We can see in the figure below that the D-field ($\\mathbf{D}=\\epsilon\\mathbf{E}$) is concentrated mostly within the higher-index layer for TM polaisation (left side) while for TE polarisation the D-field must cross the layer boundaries (right side).  Remember that according to the energy functional, D-fields or E-fields concentrated within higher index media tend to lower the energy."
   ]
  },
  {
   "cell_type": "code",
   "execution_count": 53,
   "metadata": {},
   "outputs": [
    {
     "data": {
      "text/html": [
       "<figure>\n",
       "<center>\n",
       "  <img src =\"./image_files/OffAxisEnergyOrder.png\", alt=\"OffAxisEnergyOrder\", style=\"width:100%\"/>\n",
       "</center>\n",
       "<caption>\n",
       "\n",
       "</caption>\n",
       "</figure>\n"
      ],
      "text/plain": [
       "<IPython.core.display.HTML object>"
      ]
     },
     "metadata": {},
     "output_type": "display_data"
    }
   ],
   "source": [
    "%%HTML\n",
    "<figure>\n",
    "<center>\n",
    "  <img src =\"./image_files/OffAxisEnergyOrder.png\", alt=\"OffAxisEnergyOrder\", style=\"width:100%\"/>\n",
    "</center>\n",
    "<caption>\n",
    "\n",
    "</caption>\n",
    "</figure>"
   ]
  },
  {
   "cell_type": "markdown",
   "metadata": {},
   "source": [
    "### What happens in the Short Wavelength Limit?\n",
    "\n",
    "In the short wavelength limit as $k\\rightarrow\\infty$, the on-axis and off-axis modes tend to converge.  In the figure below, looking at the band diagram on the right, we see that the in-plane, blue modes $\\left(0,k_y,0\\right)$ and off-axis, green $\\left(0,k_y,\\frac{\\pi}{a}\\right)$ modes converge to the same frequency.  The red line is the light line $\\omega=ck_y$.  The grey area between the limiting blue and green lines indicates the intermdiate values of $k_z$ between $\\frac{\\pi}{a}$ and $0$."
   ]
  },
  {
   "cell_type": "code",
   "execution_count": 54,
   "metadata": {
    "scrolled": false
   },
   "outputs": [
    {
     "data": {
      "text/html": [
       "<figure>\n",
       "<center>\n",
       "  <img src =\"./image_files/ShortWavelengthLimit.png\", alt=\"ShortWavelengthLimit\", style=\"width:100%\"/>\n",
       "</center>\n",
       "<caption>\n",
       "\n",
       "</caption>\n",
       "</figure>\n"
      ],
      "text/plain": [
       "<IPython.core.display.HTML object>"
      ]
     },
     "metadata": {},
     "output_type": "display_data"
    }
   ],
   "source": [
    "%%HTML\n",
    "<figure>\n",
    "<center>\n",
    "  <img src =\"./image_files/ShortWavelengthLimit.png\", alt=\"ShortWavelengthLimit\", style=\"width:100%\"/>\n",
    "</center>\n",
    "<caption>\n",
    "\n",
    "</caption>\n",
    "</figure>"
   ]
  },
  {
   "cell_type": "markdown",
   "metadata": {},
   "source": [
    "### Nature of the Defect Modes within a Bandgap"
   ]
  },
  {
   "cell_type": "code",
   "execution_count": 55,
   "metadata": {},
   "outputs": [
    {
     "data": {
      "text/html": [
       "<figure>\n",
       "<center>\n",
       "  <img src =\"./image_files/LocalisedDefectModes.png\", alt=\"LocalisedDefectModes\", style=\"width:90%\"/>\n",
       "</center>\n",
       "<caption>\n",
       "\n",
       "</caption>\n",
       "</figure>\n"
      ],
      "text/plain": [
       "<IPython.core.display.HTML object>"
      ]
     },
     "metadata": {},
     "output_type": "display_data"
    }
   ],
   "source": [
    "%%HTML\n",
    "<figure>\n",
    "<center>\n",
    "  <img src =\"./image_files/LocalisedDefectModes.png\", alt=\"LocalisedDefectModes\", style=\"width:90%\"/>\n",
    "</center>\n",
    "<caption>\n",
    "\n",
    "</caption>\n",
    "</figure>"
   ]
  },
  {
   "cell_type": "markdown",
   "metadata": {},
   "source": [
    "In the figure above left we have a 1-D photonic crystal (stack of alternating, periodic slabs) with a defect (extra width) in one of the slabs.  We see an off-axis, guided mode propagating through the slab, but the \"guiding\" is *not* due to index guiding.  The diagram at the upper rifht shows how the wave falls off exponentialy with $z$ above and below the defect.  The guiding is due to the fact that the defect propagating mode is isolated within the bandgap.  The plot at the lower right shows the density of propagating states $\\frac{d\\rho}{d\\omega}$ along the ordinate and the frequency $\\omega$ along the abscissa.  The vertical red line indicates the defect state."
   ]
  },
  {
   "cell_type": "markdown",
   "metadata": {},
   "source": [
    "### Nature of the Defect Mode at the Stack Surface"
   ]
  },
  {
   "cell_type": "code",
   "execution_count": 56,
   "metadata": {
    "scrolled": false
   },
   "outputs": [
    {
     "data": {
      "text/html": [
       "<figure>\n",
       "<center>\n",
       "  <img src =\"./image_files/SurfaceModes.png\", alt=\"SurfaceModes\", style=\"width:100%\"/>\n",
       "</center>\n",
       "<caption>\n",
       "\n",
       "</caption>\n",
       "</figure>\n"
      ],
      "text/plain": [
       "<IPython.core.display.HTML object>"
      ]
     },
     "metadata": {},
     "output_type": "display_data"
    }
   ],
   "source": [
    "%%HTML\n",
    "<figure>\n",
    "<center>\n",
    "  <img src =\"./image_files/SurfaceModes.png\", alt=\"SurfaceModes\", style=\"width:100%\"/>\n",
    "</center>\n",
    "<caption>\n",
    "\n",
    "</caption>\n",
    "</figure>"
   ]
  },
  {
   "cell_type": "markdown",
   "metadata": {},
   "source": [
    "Defect modes can also occur at the surface of a layered stack. The left panel shows the blue\n",
    "and green limits of the in-plane (blue) and off-axis (green) modes together with the red light\n",
    "line where no defect surface mode exists.  The right panel shows the same situation accept for the\n",
    "presence of the green surface state.  The states ED mean \"Extended\" (propagating) states in air\n",
    "but \"Decaying\" in the stack.  The states DE mean mean \"Decaying\" in air but \"Extended\" in the stack.\n",
    "The states EE mean states propagating both in air and in the stack. And finally, the most interesting\n",
    "state is the state DD, that decays in air and in the stack.  This is the \"surface state\" as illustrated schematically <a href='#surface_defect_image'>above</a>."
   ]
  },
  {
   "cell_type": "markdown",
   "metadata": {},
   "source": [
    "## Two-dimensional Photonic Crystals"
   ]
  },
  {
   "cell_type": "code",
   "execution_count": 57,
   "metadata": {},
   "outputs": [
    {
     "data": {
      "text/html": [
       "<figure>\n",
       "<center>\n",
       "  <img src =\"./image_files/Fig1Chap5.pdf\", alt=\"Fig1Chap5\", style=\"width:100%\"/>\n",
       "</center>\n",
       "<caption>\n",
       "\n",
       "</caption>\n",
       "</figure>\n"
      ],
      "text/plain": [
       "<IPython.core.display.HTML object>"
      ]
     },
     "metadata": {},
     "output_type": "display_data"
    }
   ],
   "source": [
    "%%HTML\n",
    "<figure>\n",
    "<center>\n",
    "  <img src =\"./image_files/Fig1Chap5.pdf\", alt=\"Fig1Chap5\", style=\"width:100%\"/>\n",
    "</center>\n",
    "<caption>\n",
    "\n",
    "</caption>\n",
    "</figure>"
   ]
  }
 ],
 "metadata": {
  "kernelspec": {
   "display_name": "Python 3",
   "language": "python",
   "name": "python3"
  },
  "language_info": {
   "codemirror_mode": {
    "name": "ipython",
    "version": 3
   },
   "file_extension": ".py",
   "mimetype": "text/x-python",
   "name": "python",
   "nbconvert_exporter": "python",
   "pygments_lexer": "ipython3",
   "version": "3.6.7"
  }
 },
 "nbformat": 4,
 "nbformat_minor": 2
}
