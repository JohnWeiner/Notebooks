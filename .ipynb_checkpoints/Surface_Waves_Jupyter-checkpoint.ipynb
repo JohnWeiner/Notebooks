{
 "cells": [
  {
   "cell_type": "code",
   "execution_count": 5,
   "metadata": {},
   "outputs": [
    {
     "data": {
      "text/html": [
       "('''<script>\n",
       "code_show=true; \n",
       "function code_toggle() {\n",
       " if (code_show){\n",
       " $('div.input').hide();\n",
       " } else {\n",
       " $('div.input').show();\n",
       " }\n",
       " code_show = !code_show\n",
       "} \n",
       "$( document ).ready(code_toggle);\n",
       "</script>\n",
       "The raw code for this IPython notebook is by default hidden for easier reading.\n",
       "To toggle on/off the raw code, click <a href=\"javascript:code_toggle()\">here</a>.''')\n"
      ],
      "text/plain": [
       "<IPython.core.display.HTML object>"
      ]
     },
     "metadata": {},
     "output_type": "display_data"
    }
   ],
   "source": [
    "%%HTML\n",
    "('''<script>\n",
    "code_show=true; \n",
    "function code_toggle() {\n",
    " if (code_show){\n",
    " $('div.input').hide();\n",
    " } else {\n",
    " $('div.input').show();\n",
    " }\n",
    " code_show = !code_show\n",
    "} \n",
    "$( document ).ready(code_toggle);\n",
    "</script>\n",
    "The raw code for this IPython notebook is by default hidden for easier reading.\n",
    "To toggle on/off the raw code, click <a href=\"javascript:code_toggle()\">here</a>.''')"
   ]
  },
  {
   "cell_type": "markdown",
   "metadata": {},
   "source": [
    "# Introduction to Surface Waves\n",
    "It is well known that electromagnetic waves propagating through space are solutions to Maxwell's equations.  A special, but very important subset of these waves, are plane waves oscillating at some frequency $\\nu$ or angular frequency $\\omega=2\\pi\\nu$.  The electric and magnetic field of these waves oscillate in phase and in a plane, orthogonally to each other and transversely to the direction of propagation; they are thus called *transverse waves*.  A diagram indicating the arrangement of a typical propagating plane wave is shown below. In the figure the wave is said to have \"linear polarisation\" because the E-field oscillates linearly along one of the transverse axes.\n",
    "\n",
    "<img src=\"./image_files/Fig 3.1_E-MWave.png\" alt=\"E-M Wave Schematic\" style=\"width: 800px;\"/>\n",
    "\n",
    "Surface waves in contrast propagate along the interface between a dielectric and a real metal.  It is useful to think of the metal as a \"gas\" of electrons and the surface wave a train of charge-density compressions and rarefactions (analogous to a sound wave in air).  The charge-density wave in the electron gas acts as a *longitudinal wave* in which the oscillations are in the same direction as the propagation.  In the figure below the + and - regions at the interface indicate alternating compressions and rarefactions of charge.  These charge-density waves in turn provide the sources and sinks of electric fields that originate and terminate at the charge-density maxima and minima.  The label $\\lambda_{\\mathrm{SW}}$ denotes the wavelength of the surface wave and $E_{\\mathrm{SW}}(x,z)$ denotes the surface wave electric field.  Note that the $E_z$ component of E-field is discontinuous at the interface and that the E-field is *not* perpendicular to the direction of propagation along $x$.  Note also that the E-field falls off exponentially in the $\\pm z$ direction and propagates *only* along the interface.\n",
    "\n",
    "<img src=\"./image_files/Fig 7.8_E_field_x_z_direction.png\" alt=\"E-M Wave Schematic\" style=\"width: 700px;\"/>\n",
    "\n",
    "The figure below shows in detail how the $E_z$ E-field component is discontinuous at the interface although the displacement field component ($D_z$) is continuous there.  Remember that on the metal side $D_z^m=\\epsilon_mE_z^m$ and on the dielectric side $D_z^d=\\epsilon_dE_z^d$.\n",
    "\n",
    "<img src=\"./image_files/Fig 7.3_SurfaceWaveZ.jpg\" alt=\"Surface Wave Z\" style=\"width: 400px;\"/>"
   ]
  },
  {
   "cell_type": "markdown",
   "metadata": {},
   "source": [
    "## A Historical Note on Electromagnetic Surface Waves\n",
    "The impetus for the study of electromagnetic surface waves began with the development of radio communication near the end of the nineteenth century.  Ordinary Maxwellian \"space\" waves  cannot directly propagate beyond the horizon, although Marconi had been able to demonstrate long-range radio communication including transatlantic messaging between 1899 and 1901.  A possible explanation for this successful over-the-horizon transmission was the excitation and propagation of electromagnetic waves at the air-earth or air-sea interface that could be \"guided\" over the curvature of the planet.  It was therefore necessary to find solutions to Maxwell's equations that could explain the observations.  Stimulated by Arnold Sommerfeld's analysis of electromagnetic wave propagation along a single conducting wire in 1899, his student Johann Zenneck presented a paper on planar surface electromagnetic waves in 1907.  Zenneck found that Maxwell's equations had a solution corresponding to a wave coupled to a flat surface interface at the boundary between a dielectric (air) and a medium with finite conductivity (salt water). The configuration used by Zenneck is illustrated in the figure below.\n",
    "\n",
    "<img src=\"./image_files/Fig 7.1_ZenneckWave.png\" alt=\"Zenneck Wave\" style=\"width: 600px;\"/>\n",
    "\n",
    "Soon after Zenneck's article appeared Sommerfeld again published an influential paper in 1909 in which he analysed the propagation of radio waves along the surface of the earth. He considered a vertical oscillating dipole (radio antenna) perpendicularly positioned to the interface between two media: one dielectric, the other conducting.  Sommerfeld studied secondary waves produced by the discontinuity at the interface between air and land, considered as a weakly conductive material. His analysis showed that the Hertz vector $\\mathbf{\\Pi}$, that describes the electromagnetic field in each medium is given by the sum of two fields, $P$ and $Q$ corresponding to two waves. The wave $Q$ represents a space propagating wave and $P$ a surface guided wave. For long distances $R$ from the source, $Q$ varies as $(1/R)$, where $R=\\sqrt{(r^2+z^2)}$, (see the figure above for a definition of the coordinates) while $P$ varies asymptotically as $1/\\sqrt{r}$ and is confined to the Earth's surface.  Over the course of the next two decades a controversy arose over the existence of the so-called Zenneck waves because Sommerfeld's original analysis contained a sign error, and it was found that it was difficult to excite the surface-guided wave with practical antenna sources or to detect and distinguish the true surface wave from the spatially propagating wave very close to the surface.  In any event, as far as long-distance wireless communication was concerned, the whole question became irrelevant when it was discovered that reflection from the ionosphere was the principal agent responsible for over-the-horizon radio transmission.\n"
   ]
  },
  {
   "cell_type": "markdown",
   "metadata": {},
   "source": [
    "## Plasmon Surface Waves at Optical Frequencies\n",
    "Recent interest in electromagnetic surface waves stems from their potential applications in nanoscale opto-electronic devices.  In contrast to the Sommerfeld-Zenneck analyses emphasising radio frequencies, modern studies at optical frequencies usually take Raether's influential treatise, *Surface Plasmons on Smooth and Rough Surfaces and on Gratings* as their point of departure.  The modern terminology for the Zenneck wave at the interface between a metal and a dielectric is the surface plasmon or the surface plasmon-polariton (SPP).  At optical frequencies the surface plasmon exhibits strong spatial localisation at the dielectric-conductor interface and can be simply and efficiently excited by appropriately polarised light incident on surfaces decorated with physical features (slits, holes, grooves, etc.) at the subwavelength scale (tens to hundreds of nanometres). Here, we consider the interface between two media, one dielectric and the other a metallic conductor.  Each material is characterised by a relative permittivity, $\\epsilon_r$: $\\epsilon_r^d$ for the dielectric insulator and $\\epsilon_r^m$ for the conducting metal.  In order to lighten notation we drop the subscript $r$ and write the relative permittivities (dielectric constants) as $\\epsilon_d$ and $\\epsilon_m$ for the dielectric and metal, respectively.  The metal also exhibits a high conductivity, $\\sigma$ and obeys *Ohm's law* $\\mathbf{E}=\\sigma\\mathbf{J}$ where $\\mathbf{E}$ is the electric field applied to the metal and $\\mathbf{J}$ is the current density induced in it.  We consider the dielectric medium as essentially transparent (lossless) so that $\\epsilon_d=\\epsilon_d^{\\prime}$ where $\\epsilon_d^{\\prime}$ is real. In the case of metallic materials absorptive loss in the optical region of the electromagnetic spectrum is significant, the dielectric constant is complex, and $\\epsilon_m=\\epsilon_m^{\\prime}+i\\epsilon_m^{\\prime\\prime}$, where the imaginary term represents absorptive loss.\n",
    "\n",
    "The figure below shows two orthogonal linear polarisation orientations of E-M fields incident on the metal surface.  Although in our discussion of space propagating waves the direction of propagation is always along $z$, in this discussion we must consider both the incident propagating wave and the surface wave.  The incident space-propagating wave is taken to be incident along $z$, while the surface wave propagates along $x$.  The plane of incidence is defined by the incident and reflected plane-wave propagation vectors $\\mathbf{k}$, and in the figure below this plane is aligned with the $x-z$ plane.  With $\\mathbf{H}$ perpendicular to the plane of incidence (right panel of the figure) the polarisation is called *transverse-magnetic* (TM).  TM polarisation restricts the incident wave to field components $E_x,E_z,H_y$.  With $\\mathbf{E}$ perpendicular to the same plane (left panel of the figure) the polarisation is *transverse-electric* (TE).   The field components of a TE polarised wave are $H_x,H_z,E_y$.  We will consider continuity conditions at the surface for each case.\n",
    "\n",
    "<img src=\"./image_files/Fig 7.2_TE_TM_Schematics.png\" alt=\"Te_TM_Schematic\" style=\"width: 700px;\"/>"
   ]
  },
  {
   "cell_type": "markdown",
   "metadata": {},
   "source": [
    "We start with the two Maxwell curl equations, the Faraday law\n",
    "\n",
    "\\begin{equation}\n",
    "\\mathbf{\\nabla}\\times\\mathbf{E}=-\\frac{\\partial\\mathbf{B}}{\\partial t}\n",
    "\\end{equation}\n",
    "\n",
    "and the Maxwell-Ampère law,\n",
    "\n",
    "\\begin{equation}\n",
    "\\mathbf{\\nabla}\\times\\mathbf{H}=\\mathbf{J}_{\\mathrm{free}}+\\frac{\\partial\\mathbf{D}}{\\partial t}\n",
    "\\end{equation}\n",
    "\n",
    "and posit two solutions: E- and H-fields characterised  by the propagation vector $\\mathbf{k}=(2\\pi/\\lambda)\\hat{\\mathbf{k}}$, where $\\lambda$ is the wavelength,and oscillating harmonically in time with frequency $\\omega$.\n",
    "\n",
    "\\begin{align}\n",
    "\\mathbf{E(r},t)&=\\mathbf{E_0(r)}e^{i(\\mathbf{k\\cdot r}-\\omega t)}\\label{Eq-EfieldPlaneWave}\\\\[0.5ex]\n",
    "\\mathbf{H(r},t)&=\\mathbf{H_0}e^{i(\\mathbf{k\\cdot r}-\\omega t)}\\label{Eq-HfieldPlaneWave}\n",
    "\\end{align}\n",
    "\n",
    "Application of the curl operation leads to the following relations for TE polarisation,\n",
    "\n",
    "\\begin{align}\n",
    "\\frac{\\partial E_y}{\\partial z}&=-(i\\omega\\mu_0) H_x\\label{Eq-TE1}\\\\\n",
    "\\frac{\\partial H_x}{\\partial z}-\\frac{\\partial H_z}{\\partial x}&=-i(\\omega\\epsilon_0\\epsilon) E_y\\label{Eq-TE2}\\\\\n",
    "\\frac{\\partial E_y}{\\partial x}&=(i\\omega\\mu_0)H_z\\label{Eq-TE3}\n",
    "\\end{align}\n",
    "\n",
    "\n",
    "\n",
    "and the following for TM polarisation\n",
    "\n",
    "\n",
    "\\begin{align}\n",
    "\\frac{\\partial H_y}{\\partial z}&=(i\\omega\\epsilon_0\\epsilon) E_x\\label{Eq-TM1}\\\\\n",
    "\\frac{\\partial E_x}{\\partial z}-\\frac{\\partial E_z}{\\partial x}&=(i\\omega\\mu_0) H_y\\label{Eq-TM2}\\\\\n",
    "\\frac{\\partial H_y}{\\partial x}&=-(i\\omega\\epsilon_0\\epsilon)E_z\\label{Eq-TM3}\n",
    "\\end{align}\n",
    "\n",
    "The incident and reflected waves propagate in the dielectric medium characterised by the dielectric constant $\\epsilon_d$.  The propagation vector in free space is denoted $k_0$ and within the dielectric $k_d=k_0 n$ where $n$ is the index of refraction.  The dielectric constant and the index of refraction of any medium are related by $\\epsilon=n^2$.  Since the incident $k=k_i$ is in the $x-z$ plane we can write\n",
    "\n",
    "\\begin{align}\n",
    "k^2_i&=k_x^2+k_z^2\\\\\n",
    "&=\\epsilon_d k^2_0\\label{Eq-WaveVectorDielectric}\n",
    "\\end{align}\n",
    "\n",
    "Similarly on the metal side of the interface for the transmitted propagation vector $k^m$ we have\n",
    "\n",
    "\\begin{align}\n",
    "k_t^2&=k_x^2+k_z^2\\\\\n",
    "&=\\epsilon_m k_0^2\\label{Eq-WaveVectorMetal}\n",
    "\\end{align}\n"
   ]
  },
  {
   "cell_type": "markdown",
   "metadata": {},
   "source": [
    "## Surface Waves with TE Polarisation (do they exist?)\n",
    "In TE polarisation we find the wave solution for $E_y$ by applying the posited plane-wave expression.  The result (in the dielectric medium) is\n",
    "\n",
    "\\begin{equation}\n",
    "E_y^d(x,z)=E_{0y}^de^{i[(k^d_xx+k^d_zz)-\\omega t]}\n",
    "\\end{equation}\n",
    "\n",
    "From this E-field component the H-field components on the dielectric side of the interface are readily obtained.\n",
    "\n",
    "\\begin{align}\n",
    "H_x^d&=-\\frac{i}{\\omega\\mu_0}\\frac{\\partial E_y^d}{\\partial z}=\\frac{k^d_z}{\\omega\\mu_0}E_y^d\\\\\n",
    "H_z^d&=\\frac{i}{\\omega\\mu_0}\\frac{\\partial E_y^d}{\\partial x}=-\\frac{k^d_x}{\\omega\\mu_0}E_y^d\n",
    "\\end{align}\n",
    "\n",
    "The same analysis applies to the metal side of the interface with the result\n",
    "\n",
    "\\begin{align}\n",
    "E_y^m(x,z)=E_{0y}^me^{i[(k^m_xx+k^m_zz)-\\omega t]}\n",
    "\\end{align}\n",
    "\n",
    "and\n",
    "\n",
    "\\begin{align}\n",
    "H_x^m&=-\\frac{i}{\\omega\\mu_0}\\frac{\\partial E_y^m}{\\partial z}=\\frac{k^m_z}{\\omega\\mu_0}E_y^m\\\\\n",
    "H_z^m&=\\frac{i}{\\omega\\mu_0}\\frac{\\partial E_y^m}{\\partial x}=-\\frac{k^m_x}{\\omega\\mu_0}E_y^m\n",
    "\\end{align}\n",
    "\n",
    "At the interface, $z=0$, continuity conditions for $H_x$ and $E_y$ require that\n",
    "\n",
    "\\begin{align}\n",
    "H_x^d(z=0)&=H_x^m(z=0)\\\\[0.5ex]\n",
    "E_y^d(z=0)&=E_y^m(z=0)\n",
    "\\end{align}\n",
    "\n",
    "and therefore at the boundary\n",
    "\n",
    "\\begin{align}\n",
    "k_z^d&=k_z^m\\\\\n",
    "\\sqrt{\\epsilon_d}k_0&=\\sqrt{\\epsilon_m}k_0\n",
    "\\end{align}\n",
    "\n",
    "But this last equation can only be valid for $k_0=0$ since the dielectric constants on the two sides of the boundary can never be equal.  *Therefore there can be no wave solution at the boundary for TE polarisation.*\n"
   ]
  },
  {
   "cell_type": "markdown",
   "metadata": {},
   "source": [
    "## Surface Waves with TM Polarisation\n",
    "With TM polarisation we have three field components, $H_y,E_x,E_z$.  We find the wave solution for $H_y$ on the dielectric side of the interface\n",
    "\n",
    "\\begin{equation}\n",
    "H_y^d(x,z)=H^d_{y0}e^{i[(k_xx+k_zz)-\\omega t]}\n",
    "\\end{equation}\n",
    "\n",
    "Then we find expressions for $E_x^d$ and $E_z^d$.\n",
    "\n",
    "\\begin{align}\n",
    "E_x^d&=\\frac{k_z^d}{\\omega\\epsilon_0\\epsilon_d}H^d_y(x,z)\\\\[0.5ex]\n",
    "E_z^d&=-\\frac{k_x^d}{\\omega\\epsilon_0\\epsilon_d}H^d_y(x,z)\n",
    "\\end{align}\n",
    "\n",
    "On the metal side of the interface we have\n",
    "\n",
    "\\begin{align}\n",
    "E_x^m&=\\frac{k_z^m}{\\omega\\epsilon_0\\epsilon_m}H^m_y(x,z)\\\\[0.5ex]\n",
    "E_z^m&=-\\frac{k_x^m}{\\omega\\epsilon_0\\epsilon_m}H^m_y(x,z)\n",
    "\\end{align}\n",
    "\n",
    "Continuity conditions at the interface ($z=0$) are\n",
    "\n",
    "\\begin{align}\n",
    "E_x^d(x,0)&=E_x^m(x,0)\\\\\n",
    "H_y^d(x,0)&=H_y^m(x,0)\\\\\n",
    "\\epsilon_d E_z^d(x,0)&=\\epsilon_m E_z^m(x,0)\n",
    "\\end{align}\n",
    "\n",
    "Then we find that at the boundary\n",
    "\n",
    "\\begin{align}\n",
    "k_x^d&=k_x^m=k_x\\label{Eq-BoundaryConditionTM1}\\\\[0.5ex]\n",
    "\\frac{k_z^d}{\\epsilon_d}&=\\frac{k_z^m}{\\epsilon_m}\n",
    "\\end{align}\n",
    "\n",
    "The wave vector relations on the dielectric and metal sides of the interface, allow us to write\n",
    "\n",
    "\\begin{equation}\n",
    "\\frac{(k_z^m)^2}{(k_z^d)^2}=\\frac{\\epsilon_m k_0^2-(k_x^m)^2}{\\epsilon_d k_0^2-(k_x^d)^2}\n",
    "\\end{equation}\n",
    "\n",
    "Now, we can eliminate the $k_z$ components and obtain an expression for $k^s_x$, the magnitude of the surface wave vector propagating along the boundary, in terms of the free-space wave vector $k_0$ and the dielectric constants on each side of the interface.\n",
    "\n",
    "\\begin{equation}\n",
    "\\boxed{k^s_x=\\sqrt{\\frac{\\epsilon_d\\epsilon_m}{\\epsilon_d+\\epsilon_m}}k_0\\label{Eq-SurfaceWave_x}}\n",
    "\\end{equation}\n",
    "\n",
    "The $z$ components of the surface wave, on the dielectric and metallic sides of the boundary, can be easily obtained from\n",
    "\n",
    "\\begin{align}\n",
    "\\left(k_z^{s,d}\\right)^2&=\\epsilon_dk_0^2-\\left(k_x^s\\right)^2k_0^2=\\left(1-\\frac{\\epsilon_m}{\\epsilon_m+\\epsilon_d}\\right)\\epsilon_dk_0^2\\label{Eq-SurfaceWave_z1}\\\\[0.5ex]\n",
    "\\left(k_z^{s,m}\\right)^2&=\\epsilon_mk_0^2-\\left(k_x^s\\right)^2k_0^2=\\left(1-\\frac{\\epsilon_d}{\\epsilon_m+\\epsilon_d}\\right)\\epsilon_mk_0^2\\label{Eq-SurfaceWave_z2}\n",
    "\\end{align}\n",
    "\n",
    "\n",
    "\\begin{align}\n",
    "k_z^{s,d}&=\\pm\\frac{\\epsilon_d}{\\sqrt{\\epsilon_d+\\epsilon_m}}k_0\\\\[0.5ex]\n",
    "k_z^{s,m}&=\\pm\\frac{\\epsilon_m}{\\sqrt{\\epsilon_d+\\epsilon_m}}k_0\n",
    "\\end{align}\n",
    "\n",
    "Note that if the real part of the dielectric constant in the metal is negative and if $\\epsilon_d+\\epsilon_m<0$, then $k_z^m,k_z^d$ will be imaginary.  The $E_z$ component of the surface wave on both sides of the interface will then be *evanescent* (will be real and decrease exponentially with $z$).\n",
    "\n",
    "\\begin{align}\n",
    "k_z^{s,d}&\\rightarrow \\pm i\\kappa_s^d=\\pm i\\left|\\frac{\\epsilon_d}{\\sqrt{\\epsilon_d+\\epsilon_m}}\\right|k_0\\label{Eq-SurfaeWave-z1Im}\\\\[0.5ex]\n",
    "k_z^{s,m}&\\rightarrow \\pm i\\kappa_s^m=\\pm i\\left|\\frac{\\epsilon_m}{\\sqrt{\\epsilon_d+\\epsilon_m}}\\right|k_0\\label{Eq-SurfaceWave-z2Im}\n",
    "\\end{align}\n",
    "\n",
    "The choice of sign $(\\pm)$ ensures that the wave amplitude decreases exponentially with increasing distance $(\\pm z)$ from the interface.  With the proper choice,\n",
    "\n",
    "\\begin{align}\n",
    "k^{s,d}_z&\\rightarrow i\\kappa^d_s\\qquad z>0\\\\[0.5ex]\n",
    "k^{s,m}_z&\\rightarrow -i\\kappa^m_s\\qquad z<0\n",
    "\\end{align}\n",
    "\n",
    "and the components of the surface wave projecting onto the dielectric side take on the following forms,\n",
    "\n",
    "\\begin{align}\n",
    "H_y^{s,d}(x,z,t)&=H_{0y}e^{\\kappa_s^dz}e^{i(k_x^sx-\\omega t)}\\\\[0.5ex]\n",
    "E_x^{s,d}(x,z,t)&=-\\frac{i\\kappa_s^d}{\\omega\\epsilon_0\\epsilon_d}H_{0y}e^{\\kappa_s^dz}e^{i(k_x^sx-\\omega t)}\\\\[0.5ex]\n",
    "E_z^{s,d}(x,z,t)&=-\\frac{k_x^s}{\\omega\\epsilon_0\\epsilon_d}H_{0y}e^{\\kappa_s^dz}e^{i(k_x^sx-\\omega t)}\n",
    "\\end{align}\n",
    "\n",
    "Similar expressions obtain on the metallic side with the appropriate change of sign for $i\\kappa_s^m$.\n",
    "\n",
    "In addition to the exponential decrease in the $\\pm z$ direction the above figure, tracing $E_z$ and $D_z$, also show that the absolute magnitude of the dielectric constant on the metal side is typically much greater than on the dielectric side.  Therefore field penetration into the metal is limited to the *skin depth*.   For gold or silver in the optical interval ($350\\leq\\lambda_0\\leq850\\,$nm) of the electromagnetic frequency spectrum significant field penetration is of the order $20-30\\,$nm.  Furthermore, again as shown in the above figure, the E-field is *discontinuous* at the boundary, due to the presence of surface charge density, while the displacement field ($\\mathbf{D}=\\epsilon_0\\epsilon\\mathbf{E}$) takes into account the sign change in the dielectric constant across the boundary and is therefore continuous (although the *derivative* of the D-field with respect to the boundary normal is not continuous).\n",
    "\n",
    "We see that for a real, lossy metal $k^s_x$, the surface wave vector component along the interface, is complex since $\\epsilon_m$ is complex.  The three components of the surface wave $E^s_x,E^s_z,H^s_y$ propagate in the $x$ direction at the interface.  Taking $E_x^s$ as an example, \n",
    "\n",
    "\\begin{equation}\n",
    "E^s_x(x)=E^s_{0x}e^{ik^s_xx}=E^s_{0x}e^{ik_0n_sx}\n",
    "\\end{equation}\n",
    "\n",
    "and the argument of the exponential will have a real and imaginary term since $k^s_x=k_0n_s$ is complex.  The factor $n_s=\\eta_s+i\\kappa_s$ is the complex surface index of the refraction at the interface.  The imaginary term represents the exponential loss in amplitude due to dissipation in the metal as the wave propagates along the surface.  From the definition of the surface index of refraction, $n_s=k^s_x/k_0$, the complex dielectric constant of the metal,$\\epsilon_m=\\epsilon_m^{\\prime}+i\\epsilon_m^{\\prime\\prime}$ and, we can determine the corresponding complex index of refraction.\n",
    "\n",
    "\\begin{align}\n",
    "n_s=&\\sqrt{\\frac{\\epsilon_m\\epsilon_d}{\\epsilon_m+\\epsilon_d}}\\\\[0.5ex]\n",
    "n_s^2=&\\frac{\\epsilon_m^{\\prime}\\epsilon_d}{\\epsilon_m^{\\prime}+\\epsilon_d}\\cdot\\frac{1+i\\frac{\\epsilon_m^{\\prime\\prime}}{\\epsilon_m^{\\prime}}}{1+i\\frac{\\epsilon_m^{\\prime\\prime}}{\\epsilon_m^{\\prime}+\\epsilon_d}}\n",
    "\\end{align}\n",
    " \n",
    "For the two metals commonly used in plasmonic devices, silver and gold, $\\left|\\epsilon_m^{\\prime\\prime}/\\epsilon_m^{\\prime}\\right|<<1$ over the optical range of interest.  This charactereistic can be used to simplify the above expression,\n",
    "Separating the real and imaginary terms while dropping fractional terms quadratic in $\\epsilon_m^{\\prime\\prime}$, we find\n",
    "\\begin{equation}\n",
    "n_s^2=\\frac{\\epsilon_m^{\\prime}\\epsilon_d}{\\epsilon_m^{\\prime}+\\epsilon_d}\\cdot\\left[1+i\\frac{\\epsilon_m^{\\prime\\prime}\\epsilon_d}{\\epsilon_m^{\\prime}\\left(\\epsilon_m^{\\prime}+\\epsilon_d\\right)}\\right]\n",
    "\\end{equation}\n",
    "and from the definition of the complex index of refraction\n",
    "\\begin{equation}\n",
    "n_s^2=\\eta^2-\\kappa_s^2+i2\\eta\\kappa_s\\label{Eq-ComplexIndex3}\n",
    "\\end{equation}\n",
    "Setting the real and imaginary terms in the last two equations equal,\n",
    "\\begin{align}\n",
    "\\eta_s^2-\\kappa_s^2=&\\frac{\\epsilon_m^{\\prime}\\epsilon_d}{\\epsilon_m^{\\prime}+\\epsilon_d}\\\\[0.5ex]\n",
    "2\\eta_s\\kappa_s=&\\frac{\\epsilon_m^{\\prime}\\epsilon_m^{\\prime\\prime}\\epsilon_d}{\\epsilon_m^{\\prime}\\left(\\epsilon_m^{\\prime}+\\epsilon_d\\right)^2}\n",
    "\\end{align}\n",
    "The last two equations can be decoupled and solved for $\\eta_s$ and $\\kappa_s$, the two components of the surface complex index of refraction.  The result is\n",
    "\\begin{align}\n",
    "\\eta_s=&\\sqrt{\\frac{\\epsilon_m^{\\prime}\\epsilon_d}{\\epsilon_m^{\\prime}+\\epsilon_d}}\\\\[0.5ex]\n",
    "\\kappa_s=&\\frac{1}{2}\\frac{\\epsilon_m^{\\prime\\prime}}{\\left(\\epsilon_m^{\\prime}\\right)^2}\\left(\\frac{\\epsilon_m^{\\prime}\\epsilon_d}{\\epsilon_m^{\\prime}+\\epsilon_d}\\right)^{3/2}\\label{Eq-SurfaceWaveIndexIm}\n",
    "\\end{align}\n",
    "These expressions can be simplified further if the dielectric is vacuum or air.  In that case $\\epsilon_d$ can be set equal to unity and\n",
    "\\begin{align}\n",
    "\\eta_s=&\\sqrt{\\frac{\\epsilon_m^{\\prime}}{\\epsilon_m^{\\prime}+1}}\\label{Eq-ComplexIndex6}\\\\\n",
    "\\kappa_s=&\\frac{1}{2\\sqrt{\\epsilon_m^{\\prime}}}\\cdot\\frac{\\epsilon_m^{\\prime\\prime}}{\\left(\\epsilon_m^{\\prime}+1\\right)^{3/2}}\n",
    "\\end{align}\n",
    "\n",
    "\n"
   ]
  },
  {
   "cell_type": "markdown",
   "metadata": {},
   "source": [
    "###  Real and imaginary terms of the dielectric constant for a real metal: Silver"
   ]
  },
  {
   "cell_type": "markdown",
   "metadata": {},
   "source": [
    "The two figure below shows plots of the real and imaginary parts of the dielectric constant for silver as a function of wavelength over the optical range."
   ]
  },
  {
   "cell_type": "code",
   "execution_count": 6,
   "metadata": {},
   "outputs": [
    {
     "data": {
      "text/html": [
       "<!DOCTYPE html>\n",
       "<html>\n",
       "<head>\n",
       "<style>\n",
       ".flex-container {\n",
       "  display: flex;\n",
       "  flex-direction: row;\n",
       "  justify-content: center;  \n",
       "  background-color: #f1f1f;\n",
       "}\n",
       "\n",
       ".flex-container > div {\n",
       "  background-color: #f1f1f1;\n",
       "  justify-content: center;  \n",
       "  margin: 2px;\n",
       "  padding: 5px;\n",
       "  font-size 30px;\n",
       "}\n",
       "</style>\n",
       "</head>\n",
       "<body>\n",
       "\n",
       "<div class=\"flex-container\">\n",
       "    <div><img src=\"./image_files/Fig 7.4_Permittivity_Ag_JC_Fitting_2_real.png\" alt=\"AgRealPermittivity\" style=\"width: 100%;\"/>\n",
       "     </div>\n",
       "    <div><img src=\"./image_files/Fig 7.5_Permittivity_Ag_JC_Fitting_2_Imag.png\" alt=\"AgImagPermittivity\" style=\"width: 100%;\"/>\n",
       "     </div>\n",
       "</div>\n",
       "<div class=\"caption\">\n",
       "    <center>\n",
       "    Left: Real Permittivity vs. Wavelength. Right: Imaginary Permittivity vs. Wavelength\n",
       "    </center>\n",
       "    </div>\n",
       "</div>\n",
       "</body>\n",
       "</html>\n",
       "\n"
      ],
      "text/plain": [
       "<IPython.core.display.HTML object>"
      ]
     },
     "metadata": {},
     "output_type": "display_data"
    }
   ],
   "source": [
    "%%HTML\n",
    "<!DOCTYPE html>\n",
    "<html>\n",
    "<head>\n",
    "<style>\n",
    ".flex-container {\n",
    "  display: flex;\n",
    "  flex-direction: row;\n",
    "  justify-content: center;  \n",
    "  background-color: #f1f1f;\n",
    "}\n",
    "\n",
    ".flex-container > div {\n",
    "  background-color: #f1f1f1;\n",
    "  justify-content: center;  \n",
    "  margin: 2px;\n",
    "  padding: 5px;\n",
    "  font-size 30px;\n",
    "}\n",
    "</style>\n",
    "</head>\n",
    "<body>\n",
    "\n",
    "<div class=\"flex-container\">\n",
    "    <div><img src=\"./image_files/Fig 7.4_Permittivity_Ag_JC_Fitting_2_real.png\" alt=\"AgRealPermittivity\" style=\"width: 100%;\"/>\n",
    "     </div>\n",
    "    <div><img src=\"./image_files/Fig 7.5_Permittivity_Ag_JC_Fitting_2_Imag.png\" alt=\"AgImagPermittivity\" style=\"width: 100%;\"/>\n",
    "     </div>\n",
    "</div>\n",
    "<div class=\"caption\">\n",
    "    <center>\n",
    "    Left: Real Permittivity vs. Wavelength. Right: Imaginary Permittivity vs. Wavelength\n",
    "    </center>\n",
    "    </div>\n",
    "</div>\n",
    "</body>\n",
    "</html>\n",
    "\n"
   ]
  },
  {
   "cell_type": "markdown",
   "metadata": {},
   "source": [
    "## Digression: FDTD Simulations of Waves at Dielectric-Metal Surfaces"
   ]
  },
  {
   "cell_type": "markdown",
   "metadata": {},
   "source": [
    "The first simulation is a movie of a line dipole above a 50nm thick slab of Ag metal. The dipole emits a pulse of light centered at a wavelength of 532nm and is aligned along $x$, parallel to the surface and about 1000 nm above it."
   ]
  },
  {
   "cell_type": "code",
   "execution_count": 3,
   "metadata": {},
   "outputs": [
    {
     "data": {
      "text/html": [
       "<div align=\"middle\">\n",
       "<video width=\"80%\" controls>\n",
       "      <source src=\"./image_files/ref_slab-ref-hz.m4v\" type=\"video/mp4\">\n",
       "</video></div>\n"
      ],
      "text/plain": [
       "<IPython.core.display.HTML object>"
      ]
     },
     "metadata": {},
     "output_type": "display_data"
    }
   ],
   "source": [
    "%%HTML\n",
    "<div align=\"middle\">\n",
    "<video width=\"80%\" controls>\n",
    "      <source src=\"./image_files/ref_slab-ref-hz.m4v\" type=\"video/mp4\">\n",
    "</video></div>"
   ]
  },
  {
   "cell_type": "markdown",
   "metadata": {},
   "source": [
    "Note that most of the light is reflected from the Ag surface, but a significant fraction transmitts through the slab with amplitude decreasing exponentially with slab thickness.  Note also that there is no evidence of surface waves propagating at the air/Ag boundary."
   ]
  },
  {
   "cell_type": "markdown",
   "metadata": {},
   "source": [
    "Now let us introduce a 50nm wide slit into the Ag slab and run the dipole emission simulation again."
   ]
  },
  {
   "cell_type": "code",
   "execution_count": 4,
   "metadata": {},
   "outputs": [
    {
     "data": {
      "text/html": [
       "<div align=\"middle\">\n",
       "<video width=\"80%\" controls>\n",
       "      <source src=\"./image_files/ref+scat-ref+slit_hz.m4v\" type=\"video/mp4\">\n",
       "</video></div>\n"
      ],
      "text/plain": [
       "<IPython.core.display.HTML object>"
      ]
     },
     "metadata": {},
     "output_type": "display_data"
    }
   ],
   "source": [
    "%%HTML\n",
    "<div align=\"middle\">\n",
    "<video width=\"80%\" controls>\n",
    "      <source src=\"./image_files/ref+scat-ref+slit_hz.m4v\" type=\"video/mp4\">\n",
    "</video></div>"
   ]
  },
  {
   "cell_type": "markdown",
   "metadata": {},
   "source": [
    "We can see that scattering from the slit has introduced something new into the field, but what we observe is the combined field from surface reflection plus scattering from the slit.  We can eliminate the surface reflection and observe only the scattering from the slit by subtracting the reflected field of the plane slab (first video above) from the combined field of reflection plus slit scattering (second video above).  The result will show on the field due to scattering from the slit."
   ]
  },
  {
   "cell_type": "code",
   "execution_count": 5,
   "metadata": {
    "scrolled": true
   },
   "outputs": [
    {
     "data": {
      "text/html": [
       "<div align=\"middle\">\n",
       "<video width=\"80%\" controls>\n",
       "      <source src=\"./image_files/hz_AgSlab.mp4\" type=\"video/mp4\">\n",
       "</video></div>\n"
      ],
      "text/plain": [
       "<IPython.core.display.HTML object>"
      ]
     },
     "metadata": {},
     "output_type": "display_data"
    }
   ],
   "source": [
    "%%HTML\n",
    "<div align=\"middle\">\n",
    "<video width=\"80%\" controls>\n",
    "      <source src=\"./image_files/hz_AgSlab.mp4\" type=\"video/mp4\">\n",
    "</video></div>"
   ]
  },
  {
   "cell_type": "markdown",
   "metadata": {},
   "source": [
    "From this video of the net scattered field we can clearly see space-propagating and surface-propagating waves emanating from the slit origin.\n",
    "\n",
    "The figure below is taken from one of the frames of the scattered-wave video."
   ]
  },
  {
   "cell_type": "code",
   "execution_count": 2,
   "metadata": {
    "scrolled": false
   },
   "outputs": [
    {
     "data": {
      "text/html": [
       "<fig>\n",
       "  <div align=\"middle\">\n",
       "    <img src=\"./image_files/net_Ag_slab_slit_hz.t171.png\" alt=\"Hz_Ag_Slab.png\" style=\"width:800px;\"\\>\n",
       "</div>\n",
       "  <caption>\n",
       "    Note the presence of both propagating and surface waves on both sides of the slit.  We will see later how the E-M field uses the slit as a waveguide to propagate both space and surface waves to the exit (lower) side of the slab.\n",
       "</caption>\n",
       "</fig>\n"
      ],
      "text/plain": [
       "<IPython.core.display.HTML object>"
      ]
     },
     "metadata": {},
     "output_type": "display_data"
    }
   ],
   "source": [
    "%%HTML \n",
    "<fig>\n",
    "  <div align=\"middle\">\n",
    "    <img src=\"./image_files/net_Ag_slab_slit_hz.t171.png\" alt=\"Hz_Ag_Slab.png\" style=\"width:800px;\"\\>\n",
    "</div>\n",
    "  <caption>\n",
    "    Note the presence of both propagating and surface waves on both sides of the slit.  We will see later how the E-M field uses the slit as a waveguide to propagate both space and surface waves to the exit (lower) side of the slab.\n",
    "</caption>\n",
    "</fig>"
   ]
  },
  {
   "cell_type": "markdown",
   "metadata": {},
   "source": [
    "This completes our brief digression on an illustrative example FDTD numerical simulation.  We discuss numerical simulation of the solutions to Maxwell's equations more extensively elsewhere."
   ]
  },
  {
   "cell_type": "markdown",
   "metadata": {},
   "source": [
    "## Models of Dispersion: The Free-electron Plasma"
   ]
  },
  {
   "cell_type": "markdown",
   "metadata": {},
   "source": [
    "The dielectric constant of materials in general depends on the frequency of the electromagnetic fields with which they interact.  The equation describing this dependence is called the *dispersion relation*, and the free-electron plasma model leads to a very simple dispersion relation for high-conductivity metals.\n",
    "The force on a free electron subject to an applied E-field in one dimension is\n",
    "\n",
    "\n",
    "\\begin{equation}\n",
    "m_e\\frac{d^2x}{dt^2}=-eE_x\n",
    "\\end{equation}\n",
    "\n",
    "\n",
    "and if the E-field is time-harmonic, $\\mathbf{E}=\\mathbf{E_0}e^{-i\\omega t}$, we have\n",
    "\n",
    "\\begin{equation}\n",
    "-\\omega^2m_ex=-eE_x\n",
    "\\end{equation}\n",
    "\n",
    "\n",
    "The polarization field $\\mathbf{P}$ of the free-electron plasma, considered as a volume density of one-dimensional dipoles $ p_x=-ex $, is\n",
    "\n",
    "\\begin{equation}\n",
    "\\mathbf{P}=-N_e\\frac{e^2}{m_e\\omega^2}\\mathbf{E}\n",
    "\\end{equation}\n",
    "\n",
    "with $N_e$ the electron concentration of the plasma.  From the definition of the displacement field $\\mathbf{D}$ and the constitutive relation between $\\mathbf{D}$ and $\\mathbf{E}$ we have\n",
    "\n",
    "\\begin{align}\n",
    "\\mathbf{D}&=\\epsilon_0\\mathbf{E}+\\mathbf{P}\\\\\n",
    "\\mathbf{D}&=\\epsilon_0\\epsilon\\mathbf{E}\n",
    "\\end{align}\n",
    "\n",
    "and therefore the dielectric constant\\index{dielectric constant} of the free-electron plasma is\n",
    "\n",
    "\\begin{equation}\n",
    "\\epsilon(\\omega)=1+\\frac{P}{\\epsilon_0E}=1-\\frac{N_ee^2}{\\epsilon_0m_e\\omega^2}\n",
    "\\end{equation}\n",
    "\n",
    "The characteristic *plasma frequency* is defined by\n",
    "\n",
    "\\begin{equation}\n",
    "\\omega_p^2=\\frac{N_ee^2}{\\epsilon_0m_e}\n",
    "\\end{equation}\n",
    "\n",
    "So finally we have the lossless dielectric constant\n",
    "\n",
    "\\begin{equation}\n",
    "\\epsilon(\\omega)=1-\\frac{\\omega_p^2}{\\omega^2}\n",
    "\\end{equation}\n"
   ]
  },
  {
   "cell_type": "markdown",
   "metadata": {},
   "source": [
    "## Models of Disperision: The Drude Model of Metals"
   ]
  },
  {
   "cell_type": "markdown",
   "metadata": {},
   "source": [
    "The free-electron plasma model describes harmonic electron motion in the limit of a negligible restoring force acting on the electron and no \"collisional\" or dissipative losses.  The **Drude model** does not introduce a finite restoring force, but does add dissipation to the equation of motion for the electrons in the plasma gas  (when a linear restoring force *is* introduced into the conduction electron equation of motion, the theory is called the **Drude-Lorentz model of metals**).  \n",
    "\n",
    "The equation of motion for the simple Drude model of the conduction electrons can still be described by a one-dimensional driven harmonic oscillator expression, where the driver issues from an electromagnetic field incident at the dielectric-metal boundary.  If we assume the incident radiation is polarised along $x$, then the Drude model equation of motion can be written"
   ]
  },
  {
   "cell_type": "markdown",
   "metadata": {},
   "source": [
    "\\begin{equation}\n",
    "m_e\\frac{d^2x}{dt^2}+m_e\\Gamma\\frac{dx}{dt}=-eE(x,t)=-eE_{0m}e^{-i\\omega t}\n",
    "\\end{equation}"
   ]
  },
  {
   "cell_type": "markdown",
   "metadata": {},
   "source": [
    "### Drude-model Dispersion Curves"
   ]
  },
  {
   "cell_type": "markdown",
   "metadata": {},
   "source": [
    "The dispersive response to electromagnetic excitation is characterised by the frequency dependence of the dielectric constant of a material, $\\epsilon(\\omega)$.  Many common optical dielectrics (air, glass, fuzed quartz) exhibit dielectric constants with near-zero imaginary terms (negligible absorption) and real terms that vary little with frequency over the the visible range.  We have just seen how metallic response can be described by simple physical models such as the free-plasma model or the Drude model.  The behaviour of a material is usually summarised by the \"dispersion curve\" that plots the energy or frequency of the exciting radiation against the propagation constant $k$ of the light in the material.   There is a simple chain of relations between the propagation constant $k(\\omega)$ and the dielectric constant $\\epsilon(\\omega)$.  First\n",
    "\n",
    "\\begin{equation}\n",
    "k=\\frac{2\\pi}{\\lambda}\\qquad\\mbox{and}\\qquad\\lambda=\\frac{\\lambda_0}{n}\n",
    "\\end{equation}\n",
    "\n",
    "where $\\lambda_0$ is the free-space wavelength and $n$ the index of refraction.\n",
    "Then the material index of refraction can be complex, $n=\\eta+i\\kappa$ and  is related to the dielectric constant $\\epsilon$ by \n",
    "\n",
    "\\begin{align}\n",
    "n(\\omega)&=\\sqrt{\\epsilon(\\omega)}\\\\\n",
    "\\eta(\\omega)+i\\kappa(\\omega)&=\\sqrt{\\epsilon^{\\prime}(\\omega)+i\\epsilon^{\\prime\\prime}(\\omega)}\n",
    "\\end{align}\n",
    "\n",
    "and therefore\n",
    "\n",
    "\\begin{align}\n",
    "\\eta^2-\\kappa^2&=\\epsilon^{\\prime}(\\omega)\\\\\n",
    "2\\eta\\kappa&=\\epsilon^{\\prime\\prime}(\\omega)\\label{Eq-IndexImTerm}\n",
    "\\end{align}\n",
    "\n",
    "Decoupling $\\eta$ and $\\kappa$ results in a quadratic equation in $\\eta$\n",
    "\n",
    "\\begin{equation}\n",
    "\\eta^4-\\eta^2\\epsilon^{\\prime}(\\omega)-\\frac{1}{4}\\left[\\epsilon^{\\prime\\prime}(\\omega)\\right]^2=0\n",
    "\\end{equation}\n",
    "\n",
    "The solution to this last equation can be obtained directly from the elementary quadratic formula.   The real part of the index of diffraction $\\eta$ can then be used to obtain the imaginary part $\\kappa$ from $2\\eta\\kappa=\\epsilon^{\\prime\\prime}$.  Thus $\\eta,\\kappa$ and $\\epsilon^{\\prime},\\epsilon^{\\prime\\prime}$ can be readily interconverted.  The figure below shows the dielectric constant terms and the refractive index terms, calculated from the equation above as a function of $\\omega/\\omega_p$ where $\\omega_p$ is the plasma frequency for silver metal, $\\omega_p=1.35\\times 10^{16}$\\,s$^{-1}$ and the relaxation rate $\\Gamma$ is taken to be $\\Gamma=1\\times 10^{14}$\\,s$^{-1}$.\n"
   ]
  },
  {
   "cell_type": "code",
   "execution_count": 13,
   "metadata": {},
   "outputs": [
    {
     "data": {
      "text/html": [
       "<fig>\n",
       "<center>\n",
       "<img src=\"./image_files/Fig 7.9_Index_Dielec_Real_Imag_Ag.png\" alt=\"RefractiveIndexAg\" style=\"width: 100%;\"/>\n",
       "</center>\n",
       "   <caption>\n",
       "    Real (panel a) and imaginary (panel b) terms of the index of refraction and the dielectric\n",
       "    constant calculated from the Drude model vs. frequency $\\omega$ normalised to $\\omega_p$, \n",
       "    the plasma frequency for silver.  In panel (a) the right ordinate is \n",
       "    the real part of the permittivity $\\epsilon^{\\prime}$, and the left ordinate\n",
       "    is the real part of the refractive index,$n$ or $\\eta$. In panel (b) $\\kappa$, the imaginary part of the refractive index,\n",
       "    and $\\epsilon^{\\prime\\prime}$, the imaginary part of the permittivity are both shown on the left ordinate.  The relaxation rate $\\Gamma$ is taken to be $\\Gamma=10^{14}\\,$s$^{-1}$ and \n",
       "    $\\omega_p=1.35\\times 10^{16}\\,$s$^{-1}$  We are primarily interesed in the orange zone \n",
       "    of the plots where $\\omega/\\omega_p<1$.\n",
       "</caption>\n",
       "</fig>\n"
      ],
      "text/plain": [
       "<IPython.core.display.HTML object>"
      ]
     },
     "metadata": {},
     "output_type": "display_data"
    }
   ],
   "source": [
    "%%HTML\n",
    "<fig>\n",
    "<center>\n",
    "<img src=\"./image_files/Fig 7.9_Index_Dielec_Real_Imag_Ag.png\" alt=\"RefractiveIndexAg\" style=\"width: 100%;\"/>\n",
    "</center>\n",
    "   <caption>\n",
    "    Real (panel a) and imaginary (panel b) terms of the index of refraction and the dielectric\n",
    "    constant calculated from the Drude model vs. frequency $\\omega$ normalised to $\\omega_p$, \n",
    "    the plasma frequency for silver.  In panel (a) the right ordinate is \n",
    "    the real part of the permittivity $\\epsilon^{\\prime}$, and the left ordinate\n",
    "    is the real part of the refractive index,$n$ or $\\eta$. In panel (b) $\\kappa$, the imaginary part of the refractive index,\n",
    "    and $\\epsilon^{\\prime\\prime}$, the imaginary part of the permittivity are both shown on the left ordinate.  The relaxation rate $\\Gamma$ is taken to be $\\Gamma=10^{14}\\,$s$^{-1}$ and \n",
    "    $\\omega_p=1.35\\times 10^{16}\\,$s$^{-1}$  We are primarily interesed in the orange zone \n",
    "    of the plots where $\\omega/\\omega_p<1$.\n",
    "</caption>\n",
    "</fig>"
   ]
  },
  {
   "cell_type": "markdown",
   "metadata": {},
   "source": [
    "The dispersion curve for a Drude metal can be obtained by starting with the expressions for the real and imaginary parts of the dielectric constant and rescaling the frequency variable to $y=\\omega/\\omega_p$.\n",
    "\n",
    "\\begin{align}\n",
    "\\epsilon_m^{\\prime}&=1-\\frac{1}{y^2}\\\\\n",
    "\\epsilon_m^{\\prime\\prime}&=\\frac{1}{y^3}\\left(\\frac{\\Gamma}{\\omega_p}\\right)\n",
    "\\end{align}\n",
    "\n",
    "and taking the propagation constant of the surface wave along the dielectric-metal interface as  $k_s=k_0n_s$.  The factor $n_s$ is the surface of index of refraction, the real and imaginary parts of which we write,\n",
    "\n",
    "\\begin{align}\n",
    "k_s&=k_0n_s=k_0\\left[\\left(\\frac{\\epsilon_d\\epsilon_m^{\\prime}}{\\epsilon_d+\\epsilon_m^{\\prime}}\\right)^{1/2}+i\\frac{\\epsilon_m^{\\prime\\prime}}{2(\\epsilon_m^{\\prime})^2}\\left(\\frac{\\epsilon_d\\epsilon_m^{\\prime\\prime}}{\\epsilon_d+\\epsilon_m^{\\prime}}\\right)^{3/2}\\right]\\\\\n",
    "k_s&=k_s^{\\prime}+ik_s^{\\prime\\prime}\n",
    "\\end{align}\n",
    "\n",
    "Thus\n",
    "\n",
    "\\begin{align}\n",
    "k_s^{\\prime}&=k_0\\left(\\frac{\\epsilon_d\\epsilon_m^{\\prime}}{\\epsilon_d+\\epsilon_m^{\\prime}}\\right)^{1/2}\\label{Eq-SurfacePropagationParameterReal}\\\\\n",
    "k_s^{\\prime\\prime}&=\\frac{\\epsilon_m^{\\prime\\prime}}{2(\\epsilon_m^{\\prime})^2}\\left(\\frac{\\epsilon_d\\epsilon_m^{\\prime\\prime}}{\\epsilon_d+\\epsilon_m^{\\prime}}\\right)^{3/2}\n",
    "\\end{align}\n",
    "\n",
    "At first neglecting the imaginary term, we define a new \"reduced\" variable\n",
    "\n",
    "\\begin{equation}\n",
    "x=\\frac{k_s^{\\prime}c}{\\omega_p}=\\frac{k_s^{\\prime}}{k_p}\n",
    "\\end{equation}\n",
    "\n",
    "and write\n",
    "\n",
    "\\begin{equation}\n",
    "x=y\\left(\\frac{\\epsilon_d(y^2-1)}{y^2(\\epsilon_d+1)-1}\\right)^{1/2}\n",
    "\\end{equation}\n",
    "\n",
    "Now the foregoing results in a quadratic equation in $y$ the solution of which is\n",
    "\n",
    "\\begin{equation}\n",
    "y=\\sqrt{\\frac{\\epsilon_d+(\\epsilon_d+1)x^2\\pm\\sqrt{\\left(\\epsilon_d+(\\epsilon_d+1)x^2\\right)^2-4\\epsilon_dx^2}}{2\\epsilon_d}}\\label{Eq-DispersionCurveRealDrude}\n",
    "\\end{equation}\n",
    "\n",
    "The solution constitutes the dispersion curve (in \"reduced\" units) of the frequency vs. the propagation parameter for the surface wave.  The reduced variable $x$ is defined in terms of the real part of the propagation parameter $k_s^{\\prime}$ and therefor this expression describes only the real part of the dispersion curve.  The solution consists of two branches, plotted the figure below.   The lower branch describes the surface-wave dispersion from the long wavelength limit ($y\\rightarrow 0;\\, x\\rightarrow 0$) to an asymptote ($y\\rightarrow y_{sp}=\\omega_{sp}/\\omega_{p};\\, x\\rightarrow\\infty$).  This frequency asymptote at the short wavelength limit corresponds to the \\emph{surface} plasma resonance where the surface charge density oscillates collectively over the entire surface and the phase velocity of the surface wave $d\\omega/dk_s$ slows to near zero.  An expression for this surface plasma asymptotic frequency can be obtained an earlier equation.\n",
    "\n",
    "\\begin{equation}\n",
    "\\omega\\rightarrow\\omega_{sp}=\\frac{\\omega_p}{\\sqrt{1+\\epsilon_d}}\n",
    "\\end{equation}\n",
    "\n",
    "This condition is often called the *surface plasmon resonance* and bears a simple relation to $\\omega_p$, the *bulk plasmon resonance* derived from the free-electron plasma model.  Between these two frequencies there is no charge density surface wave or bulk wave propagation.  This \"forbidden zone\" is sometimes termed a *stopband*.  At frequencies above $\\omega_p$ propagation once again occurs on the surface and in the bulk.  This frequency limit corresponds to the point where $\\epsilon_m^{\\prime}\\rightarrow 0$.  Below $\\omega_p$, $\\epsilon_m^{\\prime}<0$ and above $\\omega_p$, $\\epsilon_m^{\\prime}>0$.  Also shown in the above figure is the linear \"light line\",the dispersion curve of light freely propagating in the dielectric medium, $\\omega_{ll}=k_0c/\\eta$.\n",
    "\n"
   ]
  },
  {
   "cell_type": "code",
   "execution_count": 11,
   "metadata": {
    "scrolled": false
   },
   "outputs": [
    {
     "data": {
      "text/html": [
       "<fig>\n",
       "<center>\n",
       "<img src=\"./image_files/Fig 7.10_Dispersion_Surface_Wave.png\" alt=\"DispersionCurveRealMetal\" style=\"width: 600px;\"/>\n",
       "</center>\n",
       "   <caption>\n",
       "     Dispersion curve for a silver-glass interface in which the loss term has been omitted. The frequencies $\\omega_s,\\omega_p$\n",
       "    are surface plasmon resonance and the bulk plasmon resonance frequencies, respectively.  \n",
       "     The real dielectric constant for glass is taken to be $\\epsilon^{\\prime}=2.25$.\n",
       "</caption>\n",
       "</fig>\n"
      ],
      "text/plain": [
       "<IPython.core.display.HTML object>"
      ]
     },
     "metadata": {},
     "output_type": "display_data"
    }
   ],
   "source": [
    "%%HTML\n",
    "<fig>\n",
    "<center>\n",
    "<img src=\"./image_files/Fig 7.10_Dispersion_Surface_Wave.png\" alt=\"DispersionCurveRealMetal\" style=\"width: 600px;\"/>\n",
    "</center>\n",
    "   <caption>\n",
    "     Dispersion curve for a silver-glass interface in which the loss term has been omitted. The frequencies $\\omega_s,\\omega_p$\n",
    "    are surface plasmon resonance and the bulk plasmon resonance frequencies, respectively.  \n",
    "     The real dielectric constant for glass is taken to be $\\epsilon^{\\prime}=2.25$.\n",
    "</caption>\n",
    "</fig>"
   ]
  },
  {
   "cell_type": "markdown",
   "metadata": {},
   "source": [
    "Inclusion of the imaginary part of the surface parameter $k_s$ in the definition of the reduced variable $x$ modifies the dispersion curve and opens propagation in the stopband.  The real and imaginary parts of the full dispersion curve are shown in the figure below.  Note that in panel (a) of this figure the phase velocity, defined by,\n",
    "\n",
    "\\begin{equation}\n",
    "v_{\\mathrm{phase}}=\\frac{\\omega}{k_s^{\\prime}}\n",
    "\\end{equation}\n",
    "\n",
    "reverses sign in the stopband region.  This property is a necessary characteristic of \"negative index\" metamaterials.  Panel (b) shows that, unfortunately for many potential applications, this region is also one of high absorption."
   ]
  },
  {
   "cell_type": "code",
   "execution_count": 12,
   "metadata": {
    "scrolled": false
   },
   "outputs": [
    {
     "data": {
      "text/html": [
       "<fig>\n",
       "<center>\n",
       "<img src=\"./image_files/Fig 7.11_Dispersion_SW_Absorption_1.png\" alt=\"DispersionCurveRealMetal\" style=\"width: 100%;\"/>\n",
       "</center>\n",
       "   <caption>\n",
       "     Dispersion curve for real silver metal-glass interface, including the loss term.  Panel (a): real part of the surface propagation parameter\n",
       "     $k_s^{\\prime}$. Panel (b): imaginary part of the surface\n",
       "     propagation parameter $k_s^{\\prime\\prime}$.  Both propagation parameters have been\n",
       "     normalised to $k_p=\\omega_p/c$.  Inclusion of the imaginary term results in finite\n",
       "     propagation in the stopband (compare with figure above).\n",
       "</caption>\n",
       "</fig>\n"
      ],
      "text/plain": [
       "<IPython.core.display.HTML object>"
      ]
     },
     "metadata": {},
     "output_type": "display_data"
    }
   ],
   "source": [
    "%%HTML\n",
    "<fig>\n",
    "<center>\n",
    "<img src=\"./image_files/Fig 7.11_Dispersion_SW_Absorption_1.png\" alt=\"DispersionCurveRealMetal\" style=\"width: 100%;\"/>\n",
    "</center>\n",
    "   <caption>\n",
    "     Dispersion curve for real silver metal-glass interface, including the loss term.  Panel (a): real part of the surface propagation parameter\n",
    "     $k_s^{\\prime}$. Panel (b): imaginary part of the surface\n",
    "     propagation parameter $k_s^{\\prime\\prime}$.  Both propagation parameters have been\n",
    "     normalised to $k_p=\\omega_p/c$.  Inclusion of the imaginary term results in finite\n",
    "     propagation in the stopband (compare with figure above).\n",
    "</caption>\n",
    "</fig>"
   ]
  }
 ],
 "metadata": {
  "kernelspec": {
   "display_name": "Python 3",
   "language": "python",
   "name": "python3"
  },
  "language_info": {
   "codemirror_mode": {
    "name": "ipython",
    "version": 3
   },
   "file_extension": ".py",
   "mimetype": "text/x-python",
   "name": "python",
   "nbconvert_exporter": "python",
   "pygments_lexer": "ipython3",
   "version": "3.6.7"
  }
 },
 "nbformat": 4,
 "nbformat_minor": 2
}
