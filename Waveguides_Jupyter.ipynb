{
 "cells": [
  {
   "cell_type": "code",
   "execution_count": 5,
   "metadata": {},
   "outputs": [
    {
     "data": {
      "text/html": [
       "('''<script>\n",
       "code_show=true; \n",
       "function code_toggle() {\n",
       " if (code_show){\n",
       " $('div.input').hide();\n",
       " } else {\n",
       " $('div.input').show();\n",
       " }\n",
       " code_show = !code_show\n",
       "} \n",
       "$( document ).ready(code_toggle);\n",
       "</script>\n",
       "The raw code for this IPython notebook is by default hidden for easier reading.\n",
       "To toggle on/off the raw code, click <a href=\"javascript:code_toggle()\">here</a>.''')\n"
      ],
      "text/plain": [
       "<IPython.core.display.HTML object>"
      ]
     },
     "metadata": {},
     "output_type": "display_data"
    }
   ],
   "source": [
    "%%HTML\n",
    "('''<script>\n",
    "code_show=true; \n",
    "function code_toggle() {\n",
    " if (code_show){\n",
    " $('div.input').hide();\n",
    " } else {\n",
    " $('div.input').show();\n",
    " }\n",
    " code_show = !code_show\n",
    "} \n",
    "$( document ).ready(code_toggle);\n",
    "</script>\n",
    "The raw code for this IPython notebook is by default hidden for easier reading.\n",
    "To toggle on/off the raw code, click <a href=\"javascript:code_toggle()\">here</a>.''')"
   ]
  },
  {
   "cell_type": "markdown",
   "metadata": {},
   "source": [
    "# Transmission Lines and Waveguides"
   ]
  },
  {
   "cell_type": "markdown",
   "metadata": {},
   "source": [
    "## Introduction"
   ]
  },
  {
   "cell_type": "markdown",
   "metadata": {},
   "source": [
    "Up to now we have considered the elements of electromagnetics in terms of electric and magnetic vector force fields related by Maxwell's equations.  We have seen that the two time-varying equations, Faraday's Law and the Maxwell-Amp\\`ere Law, give rise to electromagnetic wave solutions that propagate through a medium or, as we saw in the case of surface plasmons, at the interface between media.  These solutions are generally distributed through out a spatial extent large with respect to the characteristic wavelength.\n",
    "\n",
    "In contrast the conventional radio and microwave circuit theory of electrical engineering considers time-varying electromagnetic phenomena from the standpoint of various combinations of *lumped elements*, (capacitors, inductors, resistors) localised in space and linked by interconnects of negligible impedance.  Furthermore, the spatial extent of these circuit elements, together with their sources of voltage and current, oscillating from tens of kilohertz to hundreds of megahertz, is usually much smaller than the characteristic wavelength.  The result is that all the elements of the circuits are subject to the same time dependence without retardation.  This time behaviour is termed *quasistatic*,and the physical arrangement of the circuit can be said to be *subwavelength*.  The subwavelength scaling similarity between dielectric and metallic nanostructures interacting with optical driving fields and electrical circuits driven by conventional voltage and current oscillators suggests that circuit analysis might find useful application in the design of functional plasmonic and photonic devices.\n",
    "\n",
    "Circuit theory is essentially the application of Maxwell's equations to problems commonly encountered in electrical engineering.  The conditions that validate circuit theory are: (1) that electrical effects happens instantaneously throughout the circuit---the quasistatic approximation, (2) that the *net* charge on every component is null, and (3) that magnetic couplings between or among lumped components of the circuit are negligible.  A typical circuit comprising a source, resistor, capacitor and inductor are shown in the figure below.\n"
   ]
  },
  {
   "cell_type": "code",
   "execution_count": 4,
   "metadata": {
    "scrolled": false
   },
   "outputs": [
    {
     "data": {
      "text/html": [
       "<figure>\n",
       "<center>\n",
       "  <img src =\"./image_files/Fig 8.1_lumped_circuit_elements.png\", alt=\"lumped circuit\", style=\"width: 65%;\"/>\n",
       "</center>\n",
       "<caption>\n",
       "  Schematic of an electrical circuit showing lumped elements of resistor R, inductor L, capacitor, C in series with a voltage source.  \n",
       "    Also shown is the direction of current I, relative to the polarity of the voltage source. \n",
       "</caption>\n",
       "</figure>\n"
      ],
      "text/plain": [
       "<IPython.core.display.HTML object>"
      ]
     },
     "metadata": {},
     "output_type": "display_data"
    }
   ],
   "source": [
    "%%HTML\n",
    "<figure>\n",
    "<center>\n",
    "  <img src =\"./image_files/Fig 8.1_lumped_circuit_elements.png\", alt=\"lumped circuit\", style=\"width: 65%;\"/>\n",
    "</center>\n",
    "<caption>\n",
    "  Schematic of an electrical circuit showing lumped elements of resistor R, inductor L, capacitor, C in series with a voltage source.  \n",
    "    Also shown is the direction of current I, relative to the polarity of the voltage source. \n",
    "</caption>\n",
    "</figure>"
   ]
  },
  {
   "cell_type": "markdown",
   "metadata": {},
   "source": [
    "## Transmission Lines"
   ]
  },
  {
   "cell_type": "markdown",
   "metadata": {},
   "source": [
    "In conventional circuit analysis, lumped circuit elements such as resistors, inductors, and capacitors are assumed to be dimensionally \"subwavelength\", i.e. much smaller than the characteristic wavelength of the driving field.\n",
    "In contrast a transmission line is a circuit entity transporting voltage and current waves over distances much greater than a wavelength.  However, Kirchhoff's two rules can be used to analyse a transmission line as a succession of lumped circuit elements.  We will assume that Kirchhoff's current and voltage rule are valid and applicable to the present case.\n",
    "A two-wire transmission line extending along the $z$ direction can be represented by the diagram below that shows one segment of a repeating circuit laid out along $\\Delta z$."
   ]
  },
  {
   "cell_type": "code",
   "execution_count": 6,
   "metadata": {},
   "outputs": [
    {
     "data": {
      "text/html": [
       "<figure>\n",
       "<center>\n",
       "  <img src =\"./image_files/Fig 8.3_Lumped_Circuit_TransLine.png\", alt=\"lumped circuit trans line\", style=\"width: 65%;\"/>\n",
       "</center>\n",
       "<caption>\n",
       "  Lumped circuit element representation of a transmission line repeating segment with length $\\Delta z$.  \n",
       "    The transmission line extends along the $z$ direction.\n",
       "</caption>\n",
       "</figure>\n"
      ],
      "text/plain": [
       "<IPython.core.display.HTML object>"
      ]
     },
     "metadata": {},
     "output_type": "display_data"
    }
   ],
   "source": [
    "%%HTML\n",
    "<figure>\n",
    "<center>\n",
    "  <img src =\"./image_files/Fig 8.3_Lumped_Circuit_TransLine.png\", alt=\"lumped circuit trans line\", style=\"width: 65%;\"/>\n",
    "</center>\n",
    "<caption>\n",
    "  Lumped circuit element representation of a transmission line repeating segment with length $\\Delta z$.  \n",
    "    The transmission line extends along the $z$ direction.\n",
    "</caption>\n",
    "</figure>"
   ]
  },
  {
   "cell_type": "markdown",
   "metadata": {},
   "source": [
    "The lumped elements $R,L,C$ represent the resistance, inductance and capacitance per unit length, respectively.  The fourth quantity, $G$, represents the \"shunt conductance\" per unit length due to dielectric absorption between the two conductors.  The series resistance in the two conductors is due to the finite (but very high) conductivity of the metal while shunt conductance is due to the finite (but very low) conductivity of the insulating dielectric.  These four quantities divide into two groups: $R$ and $G$ are dissipative and represent loss, while $L$ and $C$ are reactive and represent stored energy.  "
   ]
  },
  {
   "cell_type": "markdown",
   "metadata": {},
   "source": [
    "We can use the Kirchhoff rules to analyse this circuit segment.  Proceeding around the circuit and applying the voltage rule, we have\n",
    "\n",
    "\\begin{equation}\n",
    "V(z,t)-R\\Delta zI(z,t)-L\\Delta z\\frac{\\partial I(z,t)}{\\partial t}-V(z+\\Delta z)=0\\label{Eq-CircuitSegTransLine1}\n",
    "\\end{equation}\n",
    "\n",
    "while the current rule gives\n",
    "\n",
    "\\begin{equation}\n",
    "I(z,t)-G\\Delta zV(z+\\Delta z,t)-C\\Delta z\\frac{\\partial V(z+\\Delta z)}{\\partial t}-I(z+\\Delta z,t)=0\n",
    "\\end{equation}\n",
    "\n",
    "Now divide both equations by $\\Delta z$ and take the limit as $\\Delta z\\rightarrow 0$.  The result is\n",
    "\n",
    "\\begin{align}\n",
    "\\frac{\\partial V}{\\partial z}&=-RI(z,t)-L\\frac{\\partial I(z,t)}{\\partial t}\\\\[0.5ex]\n",
    "\\frac{\\partial I}{\\partial z}&=-GV(z,t)-C\\frac{\\partial V(z,t)}{\\partial t}\n",
    "\\end{align}\n",
    "\n",
    "As usual we assume harmonic time variation so the partial derivative terms with respect to $t$ simplify to\n",
    "\n",
    "\\begin{align}\n",
    "\\frac{d\\,V}{d\\,z}&=-\\left[R-i\\omega L\\right]I(z)\\label{Eq-CircuitVI1}\\\\[0.5ex]\n",
    "\\frac{d\\,I}{d\\,z}&=-\\left[G-i\\omega C\\right]V(z)\\label{Eq-CircuitVI2}\n",
    "\\end{align}\n",
    "\n",
    "These two equations can be uncoupled to yield\n",
    "\n",
    "\\begin{align}\n",
    "\\frac{d^2\\,V(z)}{d\\,z^2}-\\tilde{\\beta}^2V(z)&=0\\label{Eq-HelmholtzLike1}\\\\[0.5ex]\n",
    "\\frac{d^2\\,I(z)}{d\\,z^2}-\\tilde{\\beta}^2I(z)&=0\\label{Eq-HelmholtzLike2}\n",
    "\\end{align}\n",
    "\n",
    "with\n",
    "\n",
    "\\begin{align}\n",
    "\\tilde{\\beta}^2&=(R-i\\omega L)(G-i\\omega C)\\label{Eq-DefBetaSquared}\\\\\n",
    "\\tilde{\\beta}&=\\pm\\sqrt{(R-i\\omega L)(G-i\\omega C)}\\label{Eq-DefBetaSqRt}\n",
    "\\end{align}\n",
    "\n",
    "and\n",
    "\n",
    "\\begin{equation}\n",
    "\\tilde{\\beta}\\equiv i\\beta-\\gamma\\label{Eq-DefBeta}\n",
    "\\end{equation}\n",
    "\n",
    "The solutions are very reminiscent of the plane wave solutions.  In the positive $z$ space the voltage and current solutions look like damped traveling waves propagating in the forward $z$ direction.  The voltage wave forward traveling takes the form,\n",
    "\n",
    "\\begin{equation}\n",
    "V=V_0^+e^{\\tilde{\\beta}z}=V_0^+e^{i(\\beta+i\\gamma)z}\n",
    "\\end{equation}\n",
    "\n",
    "where $\\beta$ is the propagation parameter\\footnote{Common usage in optics and electromagnetics is to denote $k$ for the propagation parameter.  In transmission line theory, developed by and for electrical engineering, the term $\\beta$ is more common.} and $\\gamma$ the dissipation term.\n",
    " In the negative $z$ space we have backwards traveling waves.\n",
    " \n",
    "\\begin{equation}\n",
    "V=V_0^-e^{-\\tilde{\\beta}z}=V_0^-e^{-i(\\beta+i\\gamma)z}\n",
    "\\end{equation}\n",
    "\n",
    "The general solution is some linear combination of forward and backward traveling waves\n",
    "\n",
    "\\begin{equation}\n",
    "V=V_0^+e^{\\tilde{\\beta}z}+V_0^-e^{-\\tilde{\\beta}z}\n",
    "\\end{equation}\n",
    "\n",
    "Usually the amplitude of the backward propagating wave $V_0^-$ will not be equal to the amplitude of the forward wave $V_0^+$, and if the backward wave is reflected (the usual case) the forward and backward amplitudes will be related by a reflection coefficient.  From an earlier equation we can write $I(z)$ in terms of $V_0^+$ and $V_0^-$.\n",
    "\n",
    "\\begin{equation}\n",
    "I(z)=I_0^++I_0^-=-\\frac{dV/dz}{R-i\\omega L}=-\\frac{i\\beta-\\gamma}{R-i\\omega L}\\left[V_0^+-V_0^-\\right]\\label{Eq-CurrentFromVoltage}\n",
    "\\end{equation}\n",
    "\n",
    "In analogy to an earlier equation we define an impedance $Z_0$ as the ratio of the forward voltage amplitude to the forward current amplitude.\n",
    "\n",
    "\\begin{equation}\n",
    "Z_0=\\frac{V_0^+}{I_0^+}\\label{Eq-RatioV0I0}\n",
    "\\end{equation}\n",
    "\n",
    "Substituting from an earlier equations we have\n",
    "\n",
    "\\begin{equation}\n",
    "Z_0=-\\frac{R-i\\omega L}{i\\beta-\\gamma}=\\sqrt{\\frac{R-i\\omega L}{G-i\\omega C}}\\label{Eq-DefImped}\n",
    "\\end{equation}\n",
    "\n",
    "where we have used the negative root of $\\tilde{\\beta}^2$ in the denominator of.  The transmission line current can now be written in terms of the voltage and the characteristic impedance.\n",
    "\n",
    "\\begin{equation}\n",
    "I(z)=\\frac{1}{Z_0}\\left[V_0^+e^{\\tilde{\\beta}z}+V_0^-e^{-\\tilde{\\beta}z}\\right]\n",
    "\\end{equation}\n",
    "\n",
    "In most practical transmission lines $R$ and $G$ are very small, and in the limit of a lossless transmission line we find\n",
    "\n",
    "\\begin{equation}\n",
    "Z_0\\rightarrow\\sqrt{\\frac{L}{C}}\\label{Eq-ImpedanceLosslessLimit}\n",
    "\\end{equation}\n"
   ]
  },
  {
   "cell_type": "markdown",
   "metadata": {},
   "source": [
    "## The Lossless plane-parallel transmission line"
   ]
  },
  {
   "cell_type": "code",
   "execution_count": null,
   "metadata": {},
   "outputs": [],
   "source": []
  }
 ],
 "metadata": {
  "kernelspec": {
   "display_name": "Python 3",
   "language": "python",
   "name": "python3"
  },
  "language_info": {
   "codemirror_mode": {
    "name": "ipython",
    "version": 3
   },
   "file_extension": ".py",
   "mimetype": "text/x-python",
   "name": "python",
   "nbconvert_exporter": "python",
   "pygments_lexer": "ipython3",
   "version": "3.6.7"
  }
 },
 "nbformat": 4,
 "nbformat_minor": 2
}
