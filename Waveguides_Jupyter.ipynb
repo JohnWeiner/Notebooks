{
 "cells": [
  {
   "cell_type": "code",
   "execution_count": 1,
   "metadata": {},
   "outputs": [
    {
     "data": {
      "text/html": [
       "('''<script>\n",
       "code_show=true; \n",
       "function code_toggle() {\n",
       " if (code_show){\n",
       " $('div.input').hide();\n",
       " } else {\n",
       " $('div.input').show();\n",
       " }\n",
       " code_show = !code_show\n",
       "} \n",
       "$( document ).ready(code_toggle);\n",
       "</script>\n",
       "The raw code for this IPython notebook is by default hidden for easier reading.\n",
       "To toggle on/off the raw code, click <a href=\"javascript:code_toggle()\">here</a>.''')\n"
      ],
      "text/plain": [
       "<IPython.core.display.HTML object>"
      ]
     },
     "metadata": {},
     "output_type": "display_data"
    }
   ],
   "source": [
    "%%HTML\n",
    "('''<script>\n",
    "code_show=true; \n",
    "function code_toggle() {\n",
    " if (code_show){\n",
    " $('div.input').hide();\n",
    " } else {\n",
    " $('div.input').show();\n",
    " }\n",
    " code_show = !code_show\n",
    "} \n",
    "$( document ).ready(code_toggle);\n",
    "</script>\n",
    "The raw code for this IPython notebook is by default hidden for easier reading.\n",
    "To toggle on/off the raw code, click <a href=\"javascript:code_toggle()\">here</a>.''')"
   ]
  },
  {
   "cell_type": "markdown",
   "metadata": {},
   "source": [
    "# Transmission Lines and Waveguides"
   ]
  },
  {
   "cell_type": "markdown",
   "metadata": {},
   "source": [
    "## Introduction"
   ]
  },
  {
   "cell_type": "markdown",
   "metadata": {},
   "source": [
    "Up to now we have considered the elements of electromagnetics in terms of electric and magnetic vector force fields related by Maxwell's equations.  We have seen that the two time-varying equations, Faraday's Law and the Maxwell-Ampère Law, give rise to electromagnetic wave solutions that propagate through a medium or, as we saw in the case of surface plasmons, at the interface between media.  These solutions are generally distributed through out a spatial extent large with respect to the characteristic wavelength.\n",
    "\n",
    "In contrast the conventional radio and microwave circuit theory of electrical engineering considers time-varying electromagnetic phenomena from the standpoint of various combinations of *lumped elements*, (capacitors, inductors, resistors) localised in space and linked by interconnects of negligible impedance.  Furthermore, the spatial extent of these circuit elements, together with their sources of voltage and current, oscillating from tens of kilohertz to hundreds of megahertz, is usually much smaller than the characteristic wavelength.  The result is that all the elements of the circuits are subject to the same time dependence without retardation.  This time behaviour is termed *quasistatic*,and the physical arrangement of the circuit can be said to be *subwavelength*.  The subwavelength scaling similarity between dielectric and metallic nanostructures interacting with optical driving fields and electrical circuits driven by conventional voltage and current oscillators suggests that circuit analysis might find useful application in the design of functional plasmonic and photonic devices.\n",
    "\n",
    "Circuit theory is essentially the application of Maxwell's equations to problems commonly encountered in electrical engineering.  The conditions that validate circuit theory are: (1) that electrical effects happens instantaneously throughout the circuit---the quasistatic approximation, (2) that the *net* charge on every component is null, and (3) that magnetic couplings between or among lumped components of the circuit are negligible.  A typical circuit comprising a source, resistor, capacitor and inductor are shown in the figure below.\n"
   ]
  },
  {
   "cell_type": "code",
   "execution_count": 2,
   "metadata": {
    "scrolled": true
   },
   "outputs": [
    {
     "data": {
      "text/html": [
       "<figure>\n",
       "<center>\n",
       "  <img src =\"./image_files/Fig 8.1_lumped_circuit_elements.png\", alt=\"lumped circuit\", style=\"width: 65%;\"/>\n",
       "</center>\n",
       "<caption>\n",
       "  Schematic of an electrical circuit showing lumped elements of resistor R, inductor L, capacitor, C in series with a voltage source.  \n",
       "    Also shown is the direction of current I, relative to the polarity of the voltage source $V_g$. \n",
       "</caption>\n",
       "</figure>\n"
      ],
      "text/plain": [
       "<IPython.core.display.HTML object>"
      ]
     },
     "metadata": {},
     "output_type": "display_data"
    }
   ],
   "source": [
    "%%HTML\n",
    "<figure>\n",
    "<center>\n",
    "  <img src =\"./image_files/Fig 8.1_lumped_circuit_elements.png\", alt=\"lumped circuit\", style=\"width: 65%;\"/>\n",
    "</center>\n",
    "<caption>\n",
    "  Schematic of an electrical circuit showing lumped elements of resistor R, inductor L, capacitor, C in series with a voltage source.  \n",
    "    Also shown is the direction of current I, relative to the polarity of the voltage source $V_g$. \n",
    "</caption>\n",
    "</figure>"
   ]
  },
  {
   "cell_type": "markdown",
   "metadata": {},
   "source": [
    "## Kirchoff's Rules"
   ]
  },
  {
   "cell_type": "markdown",
   "metadata": {},
   "source": [
    "The starting point in circuit analysis are the two rules annunciated by Gustav Kirchhoff in 1845.  The rules are: (1) The scalar sum of the electric potential differences $V_i$ around any closed circuit loop is null.  \n",
    "\n",
    "\\begin{equation}\n",
    "\\sum_i{V_i}=0\\label{Eq-KirchhoffVoltageLaw}\n",
    "\\end{equation}\n",
    "\n",
    "(2) The scalar sum of charge currents $I_i$ flowing out of a junction node is null.\n",
    "\n",
    "\\begin{equation}\n",
    "\\sum_i{I_i}=0\\label{Eq-KirchhoffCurrentLaw}\n",
    "\\end{equation}"
   ]
  },
  {
   "cell_type": "markdown",
   "metadata": {},
   "source": [
    "### Kirchoff's voltage rule"
   ]
  },
  {
   "cell_type": "markdown",
   "metadata": {},
   "source": [
    "We consider first the voltage rule which is the more relevant of the two for our purposes.  The sum rule of voltages around circuit derives from the differential form of Faraday's Law.  By applying [Stokes' Theorem](https://en.wikipedia.org/wiki/Kelvin–Stokes_theorem) we have\n",
    "\n",
    "\\begin{equation}\n",
    "\\int_{\\mathbf{S}}(\\mathbf{\\nabla}\\times\\mathbf{E})\\cdot d\\mathbf{S}=\\oint\\mathbf{E}\\cdot d\\mathbf{l}=-\\int_{\\mathbf{S}}\\frac{\\partial\\mathbf{B}}{\\partial t}\\cdot d\\mathbf{S}\\label{Eq-FaradayLawCircuit}\n",
    "\\end{equation}\n",
    "\n",
    "where $\\mathbf{E}$, $\\mathbf{B}$ are the usual electric and magnetic induction fields, $\\mathbf{S}$ is the outward surface normal through which the curl of $\\mathbf{E}$ protrudes, and $\\mathbf{l}$ is the line around the boundary of $\\mathbf{S}$, the positive direction of which is taken by using the right hand rule.  With respect to the figure above we take the line integral around the circuit and define the voltage difference between two reference points $a,b$ as\n",
    "\n",
    "\\begin{equation}\n",
    "V_{ba}=-\\int_a^b\\mathbf{E}\\cdot d\\mathbf{l}\n",
    "\\end{equation}\n",
    "Then we have\n",
    "\\begin{equation}\n",
    "-\\int_a^b\\mathbf{E}\\cdot d\\mathbf{l}-\\int_c^d\\mathbf{E}\\cdot d\\mathbf{l}-\\int_e^f\\mathbf{E}\\cdot d\\mathbf{l}-\\int_g^h\\mathbf{E}\\cdot d\\mathbf{l} =\\int_{\\mathbf{S}}\\frac{\\partial\\mathbf{B}}{\\partial t}\\cdot d\\mathbf{S}=\\frac{\\partial}{\\partial t}\\int_{\\mathbf{S}}\\mathbf{B}\\cdot d\\mathbf{S}\n",
    "\\end{equation}\n",
    "\n",
    "or \n",
    "\n",
    "\\begin{equation}\n",
    "V_g(t)+V_{dc}+V_{fe}+V_{hg}=\\frac{\\partial}{\\partial t}\\int_{\\mathbf{S}}\\mathbf{B}\\cdot d\\mathbf{S}\\label{Eq-VoltageSum}\n",
    "\\end{equation}\n",
    "\n",
    "where $V_g(t)$ is the voltage source connected to terminals $a,b$, $V_{dc}$ is the resistive voltage drop, $V_{fe}$ and $V_{hg}$ the inductive and capacitive voltage drops, respectively.  In order to identify the above equation with the Kirchhoff rule we have to make two assumptions: (1) that there is no changing magnetic flux traversing the plane of the circuit loop.  In simple circumstances where we only consider $R,L,C$ lumped circuits, this condition is not hard to realise.  Even if there is a changing magnetic field present, it can usually be incorporated into the inductive voltage term to make an \"effective\" voltage drop. (2) Voltage drops along the wire connecting the lumped elements in the loop are negligible.  \n",
    "\n",
    "Let us now consider resistive, inductive and capacitive voltage drops around the circuit, respectively."
   ]
  },
  {
   "cell_type": "markdown",
   "metadata": {},
   "source": [
    "#### Resistiance"
   ]
  },
  {
   "cell_type": "markdown",
   "metadata": {},
   "source": [
    "We know from Ohm's law the current density $\\mathbf{J}$ through a conductor is proportional to the E-field along the conductor, $\\mathbf{J}=\\sigma\\mathbf{E}$, where $\\sigma$ is the conductivity.  Then the voltage drop across the resistor is\n",
    "\n",
    "\\begin{equation}\n",
    "V_{dc}=-\\int_c^d\\mathbf{E}\\cdot d\\mathbf{l}=-\\int_c^d\\frac{\\mathbf{J}}{\\sigma}\\cdot d\\mathbf{l}\n",
    "\\end{equation}\n",
    "\n",
    "We also know that $\\int\\mathbf{J}\\cdot d\\mathbf{l}$ can be written in terms of the total current $I$ flowing through the conductor and the resistivity $\\rho$, the inverse of the conductivity\n",
    "\n",
    "\\begin{equation}\n",
    "V_{dc}=-\\int_c^d\\frac{I}{A}\\rho\\,dl=-IR\\label{Eq-ResistiveVoltage}\n",
    "\\end{equation}\n",
    "\n",
    "where the resistance $R$ is defined as\n",
    "\n",
    "\\begin{equation}\n",
    "R=\\int_c^d\\frac{\\rho}{A}\\,dl\n",
    "\\end{equation}\n",
    "\n",
    "and $A$ is the cross sectional area of the conductor.  This last familiar expression is valid at low frequencies where the current flows through the conductor uniformly over $A$.  At high frequencies the current in not uniform across $A$, passing only near the surface and within the skin depth."
   ]
  },
  {
   "cell_type": "markdown",
   "metadata": {},
   "source": [
    "### Induction"
   ]
  },
  {
   "cell_type": "markdown",
   "metadata": {},
   "source": [
    "Here we apply Faraday's law to the local inductive element labeled $L$ in the figure above (not the whole circuit loop).  The integral has to be over a closed path linking the terminals $e,f$.  The first branch of the loop goes *through* the current-carrying coil from $e$ to $f$.  The second branch is the return path from $f$ to $e$ along an arbitrary path in the space outside the coil.  This second branch contributes nothing to the voltage drop across the coil.\n",
    "\n",
    "\\begin{equation}\n",
    "\\oint\\mathbf{E}\\cdot d\\mathbf{l}=\\int_e^f\\mathbf{E}\\cdot d\\mathbf{l}+\\left[\\int_f^e\\mathbf{E}\\cdot d\\mathbf{l}=0\\right]\n",
    "\\end{equation}\n",
    "\n",
    "Then\n",
    "\n",
    "\\begin{equation}\n",
    "V_{fe}=\\int_e^f\\mathbf{E}\\cdot d\\mathbf{l}=-\\frac{\\partial}{\\partial t}\\int_{\\mathbf{S}}\\mathbf{B}\\cdot d\\mathbf{S}\n",
    "\\end{equation}\n",
    "\n",
    "With the definition of the inductance $L$ as the integral of the magnetic induction $\\mathbf{B}$ over the surface surrounding the inductive element, per unit current $I$ passing through the coil of the inductor, we have\n",
    "\n",
    "\\begin{equation}\n",
    "L\\equiv\\frac{\\int\\mathbf{B}\\cdot\\,d\\mathbf{S}}{I}\n",
    "\\end{equation}\n",
    "\n",
    "Therefore\n",
    "\n",
    "\\begin{equation}\n",
    "V_{fe}=-\\frac{\\partial (LI)}{\\partial t}=-L\\frac{\\partial I}{\\partial t}\n",
    "\\end{equation}"
   ]
  },
  {
   "cell_type": "markdown",
   "metadata": {},
   "source": [
    "### Capitance"
   ]
  },
  {
   "cell_type": "markdown",
   "metadata": {},
   "source": [
    "We assume that the capacitive element can be represented by a parallel plate capacitor.  From elementary electrostatics we know that the definition of capacitance is the total charge $Q$ accumulated on one plate divided by the voltage $V_{hg}$ across the plate.\n",
    "\n",
    "\\begin{equation}\n",
    "C=\\frac{Q}{V}\n",
    "\\end{equation}\n",
    "But \n",
    "\\begin{equation}\n",
    "Q=\\int{I}\\,dt\n",
    "\\end{equation}\n",
    "\n",
    "and thus the voltage drop across the capacitor in terms of the capacitance $C$ and the current looping through the circuit is\n",
    "\n",
    "\\begin{equation}\n",
    "V_{hg}=-V_{gh}=-\\frac{\\int{I}\\,dt}{C}\n",
    "\\end{equation}\n",
    "\n",
    "Putting all three lumped circuit elements together with the positive voltage source $V_{ba}=V_s$ and using the Kirchhoff voltage rule, we have\n",
    "\n",
    "\\begin{equation}\n",
    "\\boxed{V_{s}-IR-L\\frac{dI}{dt}-\\frac{1}{C}\\int{I}\\,dt=0}\n",
    "\\end{equation}"
   ]
  },
  {
   "cell_type": "markdown",
   "metadata": {},
   "source": [
    "### Kirchoff's Current Rule"
   ]
  },
  {
   "cell_type": "markdown",
   "metadata": {},
   "source": [
    "Kirchhoff's current rule, that the charge currents $I_i$ flowing into and out of a circuit junction sum to zero, is illustrated in the figure below"
   ]
  },
  {
   "cell_type": "code",
   "execution_count": 3,
   "metadata": {},
   "outputs": [
    {
     "data": {
      "text/html": [
       "<figure>\n",
       "<center>\n",
       "  <img src =\"./image_files/Fig 8.2_KirchhoffCurrentLaw1.png\", alt=\"KirchoffCurrentRule\", \n",
       "    style=\"width: 50%;\"/>\n",
       "</center>\n",
       "<caption>\n",
       "  Circuit junction point from which currents enter and leave.  \n",
       "    The Kirchhoff current rule states that the sum of the currents into and out of the \n",
       "    junction must be zero. Note that the branches show resistance, induction, capacitance,\n",
       "    DC voltage source and AC voltage source.\n",
       "</caption>\n",
       "</figure>\n"
      ],
      "text/plain": [
       "<IPython.core.display.HTML object>"
      ]
     },
     "metadata": {},
     "output_type": "display_data"
    }
   ],
   "source": [
    "%%HTML\n",
    "<figure>\n",
    "<center>\n",
    "  <img src =\"./image_files/Fig 8.2_KirchhoffCurrentLaw1.png\", alt=\"KirchoffCurrentRule\", \n",
    "    style=\"width: 50%;\"/>\n",
    "</center>\n",
    "<caption>\n",
    "  Circuit junction point from which currents enter and leave.  \n",
    "    The Kirchhoff current rule states that the sum of the currents into and out of the \n",
    "    junction must be zero. Note that the branches show resistance, induction, capacitance,\n",
    "    DC voltage source and AC voltage source.\n",
    "</caption>\n",
    "</figure>"
   ]
  },
  {
   "cell_type": "markdown",
   "metadata": {},
   "source": [
    "The basis for Kirchoff current rule is essentially the charge conservation relation that derives from the Ampère-Maxwell equation\n",
    "\n",
    "\\begin{equation}\n",
    "\\boldsymbol{\\nabla}\\times\\mathbf{H}=\\mathbf{J}+\\frac{\\partial \\mathbf{D}}{\\partial t}\n",
    "\\end{equation}\n",
    "\n",
    "Taking the divergence of both sides of this equation and remembering that $\\text{div}\\cdot\\text{curl}=0$ we find\n",
    "\n",
    "\\begin{align}\n",
    "\\boldsymbol{\\nabla}\\cdot\\mathbf{J}+\\frac{\\partial\\boldsymbol{\\nabla}\\cdot\\mathbf{D}}{\\partial t}&=0\\nonumber\\\\\n",
    "\\boldsymbol{\\nabla}\\cdot\\left(\\mathbf{J}+\\frac{\\partial{\\mathbf{D}}}{\\partial t}\\right)&=0\n",
    "\\end{align}\n",
    "\n",
    "Then, using a 2D version of the [divergence theorem](https://en.wikipedia.org/wiki/Divergence_theorem) we can write\n",
    "\n",
    "\\begin{equation}\n",
    "\\int_{\\mathrm{A}}\\boldsymbol{\\nabla}\\cdot\\left(\\mathbf{J}+\\frac{\\partial{\\mathbf{D}}}{\\partial t}\\right)dA=\\oint_{\\mathrm{c}}\\left(\\mathbf{J}+\\frac{\\partial{\\mathbf{D}}}{\\partial t}\\right)\\cdot d\\mathbf{l}=0\\label{Eq-CurrentLoopIntegral}\n",
    "\\end{equation}\n",
    "\n",
    "The above equation says that the sum of the conduction current density $\\mathbf{J}$ and displacement current density $\\partial\\mathbf{D}/\\partial t$ around a closed loop $\\mathrm{c}$ defining a surface $\\mathrm{A}$ is null.  From a circuit point of view, the closed loop can be considered any loop around a junction point into and out of which currents flow along highly spatially localised wires.  The integral over the conduction current can be considered a sum over the current $I_i$ of wire $i$ by writing\n",
    "\n",
    "\\begin{equation}\n",
    "\\oint_{\\mathrm{c}}\\mathbf{J}\\cdot\\delta (l_i-l)\\,d\\mathbf{l}=\\sum_iI_i\n",
    "\\end{equation}\n",
    "\n",
    "For harmonically time varying circuits the second term on the right in the equation above can be written\n",
    "\n",
    "\\begin{equation}\n",
    "\\oint_{\\mathrm{c}}\\frac{\\partial\\mathbf{D}}{\\partial t}\\cdot d\\mathbf{l}=\\oint_{\\mathrm{c}}-i\\omega\\mathbf{D}\\cdot d\\mathbf{l}\\simeq 0\n",
    "\\end{equation}\n",
    "\n",
    "since at radio and microwave frequencies the displacement current is negligible compared to the conduction current.  At optical frequencies the displacement current might become significant and in this regime Kirchhoff's current rule has to be checked on a case-by-case basis.  We shall assume as a working assumption that Kirchhoff's current rule is valid and write\n",
    "\n",
    "\\begin{equation}\n",
    "\\oint_{\\mathrm{c}}\\left(\\mathbf{J}+\\frac{\\partial{\\mathbf{D}}}{\\partial t}\\right)\\cdot d\\mathbf{l}\\simeq\\sum_iI_i\\simeq0\n",
    "\\end{equation}"
   ]
  },
  {
   "cell_type": "markdown",
   "metadata": {},
   "source": [
    "## Transmission Lines"
   ]
  },
  {
   "cell_type": "markdown",
   "metadata": {},
   "source": [
    "In conventional circuit analysis, lumped circuit elements such as resistors, inductors, and capacitors are assumed to be dimensionally \"subwavelength\", i.e. much smaller than the characteristic wavelength of the driving field.\n",
    "In contrast a transmission line is a circuit entity transporting voltage and current waves over distances much greater than a wavelength.  However, Kirchhoff's two rules can be used to analyse a transmission line as a succession of lumped circuit elements.  We will assume that Kirchhoff's current and voltage rule are valid and applicable to the present case.\n",
    "A two-wire transmission line extending along the $z$ direction can be represented by the diagram below that shows one segment of a repeating circuit laid out along $\\Delta z$."
   ]
  },
  {
   "cell_type": "code",
   "execution_count": 6,
   "metadata": {},
   "outputs": [
    {
     "data": {
      "text/html": [
       "<figure>\n",
       "<center>\n",
       "  <img src =\"./image_files/Fig 8.3_Lumped_Circuit_TransLine.png\", alt=\"lumped circuit trans line\", style=\"width: 65%;\"/>\n",
       "</center>\n",
       "<caption>\n",
       "  Lumped circuit element representation of a transmission line repeating segment with length $\\Delta z$.  \n",
       "    The transmission line extends along the $z$ direction.\n",
       "</caption>\n",
       "</figure>\n"
      ],
      "text/plain": [
       "<IPython.core.display.HTML object>"
      ]
     },
     "metadata": {},
     "output_type": "display_data"
    }
   ],
   "source": [
    "%%HTML\n",
    "<figure>\n",
    "<center>\n",
    "  <img src =\"./image_files/Fig 8.3_Lumped_Circuit_TransLine.png\", alt=\"lumped circuit trans line\", style=\"width: 65%;\"/>\n",
    "</center>\n",
    "<caption>\n",
    "  Lumped circuit element representation of a transmission line repeating segment with length $\\Delta z$.  \n",
    "    The transmission line extends along the $z$ direction.\n",
    "</caption>\n",
    "</figure>"
   ]
  },
  {
   "cell_type": "markdown",
   "metadata": {},
   "source": [
    "The lumped elements $R,L,C$ represent the resistance, inductance and capacitance per unit length, respectively.  The fourth quantity, $G$, represents the \"shunt conductance\" per unit length due to dielectric absorption between the two conductors.  The series resistance in the two conductors is due to the finite (but very high) conductivity of the metal while shunt conductance is due to the finite (but very low) conductivity of the insulating dielectric.  These four quantities divide into two groups: $R$ and $G$ are dissipative and represent loss, while $L$ and $C$ are reactive and represent stored energy.  "
   ]
  },
  {
   "cell_type": "markdown",
   "metadata": {},
   "source": [
    "We can use the Kirchhoff rules to analyse this circuit segment.  Proceeding around the circuit and applying the voltage rule, we have\n",
    "\n",
    "\\begin{equation}\n",
    "V(z,t)-R\\Delta zI(z,t)-L\\Delta z\\frac{\\partial I(z,t)}{\\partial t}-V(z+\\Delta z)=0\\label{Eq-CircuitSegTransLine1}\n",
    "\\end{equation}\n",
    "\n",
    "while the current rule gives\n",
    "\n",
    "\\begin{equation}\n",
    "I(z,t)-G\\Delta zV(z+\\Delta z,t)-C\\Delta z\\frac{\\partial V(z+\\Delta z)}{\\partial t}-I(z+\\Delta z,t)=0\n",
    "\\end{equation}\n",
    "\n",
    "Now divide both equations by $\\Delta z$ and take the limit as $\\Delta z\\rightarrow 0$.  The result is\n",
    "\n",
    "\\begin{align}\n",
    "\\frac{\\partial V}{\\partial z}&=-RI(z,t)-L\\frac{\\partial I(z,t)}{\\partial t}\\\\[0.5ex]\n",
    "\\frac{\\partial I}{\\partial z}&=-GV(z,t)-C\\frac{\\partial V(z,t)}{\\partial t}\n",
    "\\end{align}\n",
    "\n",
    "As usual we assume harmonic time variation so the partial derivative terms with respect to $t$ simplify to\n",
    "\n",
    "\\begin{align}\n",
    "\\frac{d\\,V}{d\\,z}&=-\\left[R-i\\omega L\\right]I(z)\\label{Eq-CircuitVI1}\\\\[0.5ex]\n",
    "\\frac{d\\,I}{d\\,z}&=-\\left[G-i\\omega C\\right]V(z)\\label{Eq-CircuitVI2}\n",
    "\\end{align}\n",
    "\n",
    "These two equations can be uncoupled to yield\n",
    "\n",
    "\\begin{align}\n",
    "\\frac{d^2\\,V(z)}{d\\,z^2}-\\tilde{\\beta}^2V(z)&=0\\label{Eq-HelmholtzLike1}\\\\[0.5ex]\n",
    "\\frac{d^2\\,I(z)}{d\\,z^2}-\\tilde{\\beta}^2I(z)&=0\\label{Eq-HelmholtzLike2}\n",
    "\\end{align}\n",
    "\n",
    "with\n",
    "\n",
    "\\begin{align}\n",
    "\\tilde{\\beta}^2&=(R-i\\omega L)(G-i\\omega C)\\label{Eq-DefBetaSquared}\\\\\n",
    "\\tilde{\\beta}&=\\pm\\sqrt{(R-i\\omega L)(G-i\\omega C)}\\label{Eq-DefBetaSqRt}\n",
    "\\end{align}\n",
    "\n",
    "and\n",
    "\n",
    "\\begin{equation}\n",
    "\\tilde{\\beta}\\equiv i\\beta-\\gamma\\label{Eq-DefBeta}\n",
    "\\end{equation}\n",
    "\n",
    "The solutions are very reminiscent of the plane wave solutions.  In the positive $z$ space the voltage and current solutions look like damped traveling waves propagating in the forward $z$ direction.  The voltage wave forward traveling takes the form,\n",
    "\n",
    "\\begin{equation}\n",
    "V=V_0^+e^{\\tilde{\\beta}z}=V_0^+e^{i(\\beta+i\\gamma)z}\n",
    "\\end{equation}\n",
    "\n",
    "where $\\beta$ is the propagation parameter.  Note that usage in optics and electromagnetics is to denote $k$ for the propagation parameter.  In transmission line theory, developed by and for electrical engineering, the term $\\beta$ is more common. The symbol $\\gamma$ represents the dissipation term.\n",
    " In the negative $z$ space we have backwards traveling waves.\n",
    " \n",
    "\\begin{equation}\n",
    "V=V_0^-e^{-\\tilde{\\beta}z}=V_0^-e^{-i(\\beta+i\\gamma)z}\n",
    "\\end{equation}\n",
    "\n",
    "The general solution is some linear combination of forward and backward traveling waves\n",
    "\n",
    "\\begin{equation}\n",
    "V=V_0^+e^{\\tilde{\\beta}z}+V_0^-e^{-\\tilde{\\beta}z}\n",
    "\\end{equation}\n",
    "\n",
    "Usually the amplitude of the backward propagating wave $V_0^-$ will not be equal to the amplitude of the forward wave $V_0^+$, and if the backward wave is reflected (the usual case) the forward and backward amplitudes will be related by a reflection coefficient.  From an earlier equation we can write $I(z)$ in terms of $V_0^+$ and $V_0^-$.\n",
    "\n",
    "\\begin{equation}\n",
    "I(z)=I_0^++I_0^-=-\\frac{dV/dz}{R-i\\omega L}=-\\frac{i\\beta-\\gamma}{R-i\\omega L}\\left[V_0^+-V_0^-\\right]\\label{Eq-CurrentFromVoltage}\n",
    "\\end{equation}\n",
    "\n",
    "In analogy to an earlier equation we define an impedance $Z_0$ as the ratio of the forward voltage amplitude to the forward current amplitude.\n",
    "\n",
    "\\begin{equation}\n",
    "Z_0=\\frac{V_0^+}{I_0^+}\n",
    "\\end{equation}\n",
    "\n",
    "Substituting from an earlier equations we have\n",
    "\n",
    "\\begin{equation}\n",
    "Z_0=-\\frac{R-i\\omega L}{i\\beta-\\gamma}=\\sqrt{\\frac{R-i\\omega L}{G-i\\omega C}}\\label{Eq-DefImped}\n",
    "\\end{equation}\n",
    "\n",
    "where we have used the negative root of $\\tilde{\\beta}^2$ in the denominator of.  The transmission line current can now be written in terms of the voltage and the characteristic impedance.\n",
    "\n",
    "\\begin{equation}\n",
    "I(z)=\\frac{1}{Z_0}\\left[V_0^+e^{\\tilde{\\beta}z}+V_0^-e^{-\\tilde{\\beta}z}\\right]\n",
    "\\end{equation}\n",
    "\n",
    "In most practical transmission lines $R$ and $G$ are very small, and in the limit of a lossless transmission line we find\n",
    "\n",
    "\\begin{equation}\n",
    "Z_0\\rightarrow\\sqrt{\\frac{L}{C}}\\label{Eq-ImpedanceLosslessLimit}\n",
    "\\end{equation}\n"
   ]
  },
  {
   "cell_type": "markdown",
   "metadata": {},
   "source": [
    "## The Plane-parallel Transmission Line"
   ]
  },
  {
   "cell_type": "markdown",
   "metadata": {},
   "source": [
    "If we start with a lossless transmission line as the point of departure, we can calculate the inductance per unit length, a function of the transmission line geometry, directly from Faraday's law.\n",
    "The figure below shows the magnetic flux lines between two parallel plates carrying a constant current $I$ in opposite directions.  The separation between the plates is given by $s$ and the width of the plates is $w$.  The ratio of $w/s$ is sufficiently great that the magnetic flux density $\\mathbf{B}$ is mostly concentrated between the plates and can be considered constant.  The magnetic field between the plates can be related to the current flowing in one of the plate conductors through the integral form of the Maxwell-Ampère law.  Using Stokes' theorem we write\n",
    "\n",
    "\\begin{equation}\n",
    "\\int_{\\mathbf{S}}(\\mathbf{\\nabla\\times H})\\cdot d\\mathbf{S}=\\oint\\mathbf{H}\\cdot d\\mathbf{l}=\\int\\mathbf{J}\\cdot d\\mathbf{S}\n",
    "\\end{equation}\n",
    "\n",
    "Applying this relation to the cross sectional area of the plate we have\n",
    "\n",
    "\\begin{equation}\n",
    "H_0w=I\n",
    "\\end{equation}\n",
    "\n",
    "where $I=\\int\\mathbf{J}\\cdot d\\mathbf{S}$, the integral of the current density over the area.  Now we substitute the definition of inductance $L$, \n",
    "\n",
    "$L\\equiv\\frac{\\int\\mathbf{B}\\cdot\\,d\\mathbf{S}}{I}$, and take the $\\int\\mathbf{B}\\cdot d\\mathbf{S}$ over the appropriate surface between the plates in the $x-z$ plane, $sz^{\\prime}$ (with $z^{\\prime}\\simeq \\lambda_0/2$).\n",
    "\n",
    "The inductance per unit length along $z$ is then\n",
    "\n",
    "\\begin{equation}\n",
    "\\frac{dL}{dz}=\\bar{L}=\\mu_0\\frac{s}{w}\n",
    "\\end{equation}"
   ]
  },
  {
   "cell_type": "code",
   "execution_count": 6,
   "metadata": {},
   "outputs": [
    {
     "data": {
      "text/html": [
       "<figure>\n",
       "<center>\n",
       "  <img src =\"./image_files/Fig 8.4_Planar_Waveguide1.png\", alt=\"PlaneParallelTransmissionLine\", style=\"width: 100%;\"/>\n",
       "</center>\n",
       "<caption>\n",
       "  Idealised parallel-plate transmission line with no resistive losses in the \n",
       "    current-carrying plates and no shunt conductance between the plates.\n",
       "</caption>\n",
       "</figure>\n"
      ],
      "text/plain": [
       "<IPython.core.display.HTML object>"
      ]
     },
     "metadata": {},
     "output_type": "display_data"
    }
   ],
   "source": [
    "%%HTML\n",
    "<figure>\n",
    "<center>\n",
    "  <img src =\"./image_files/Fig 8.4_Planar_Waveguide1.png\", alt=\"PlaneParallelTransmissionLine\",\n",
    "    style=\"width: 100%;\"/>\n",
    "</center>\n",
    "<caption>\n",
    "  Idealised parallel-plate transmission line with no resistive losses in the \n",
    "    current-carrying plates and no shunt conductance between the plates.\n",
    "</caption>\n",
    "</figure>"
   ]
  },
  {
   "cell_type": "markdown",
   "metadata": {},
   "source": [
    "### Voltage and Current along a Transmission Line"
   ]
  },
  {
   "cell_type": "markdown",
   "metadata": {},
   "source": [
    "The final equation in the previous section expresses the constant distributed inductance along the planar wave guide of plane parallel plate figure above.  \n",
    "\n",
    "The voltage gradient along the guide is then obtained from $V_{fe}=-L\\frac{\\partial I}{\\partial t}$.\n",
    "\n",
    "\\begin{equation}\n",
    "\\frac{\\partial V}{\\partial z}=-\\bar{L}\\frac{\\partial I}{\\partial t}\n",
    "\\end{equation}\n",
    "\n",
    "and the current gradient from the distributed capacitance, obtained from $V_s-IR-L\\frac{dI}{dt}-\\frac{1}{C}\\int{I}dt=0$.\n",
    "\n",
    "\\begin{equation}\n",
    "\\frac{\\partial I}{\\partial z}=-\\bar{C}\\frac{\\partial V}{\\partial t}\n",
    "\\end{equation}"
   ]
  },
  {
   "cell_type": "markdown",
   "metadata": {},
   "source": [
    "### Correspondence to Plane Waves"
   ]
  },
  {
   "cell_type": "markdown",
   "metadata": {},
   "source": [
    "The voltage and current gradients above bear a close resemblance to equations describing plane waves in isotropic media.  Differentiation by $z$ and $t$ of the above two gradient equations results in\n",
    "\n",
    "\\begin{equation}\n",
    "\\frac{\\partial^2 V}{\\partial z^2}-LC\\frac{\\partial^2 V}{\\partial t^2}=0\\label{Eq-VoltageWaveTrans}\n",
    "\\end{equation}\n",
    "\n",
    "and eliminating $V$ in favour of an equation for $I$ by reversing the differentiation variables for each equation results in\n",
    "\n",
    "\\begin{equation}\n",
    "\\frac{\\partial^2 I}{\\partial z^2}-LC\\frac{\\partial^2 I}{\\partial t^2}=0\\label{Eq-CurrentWaveTrans}\n",
    "\\end{equation}\n",
    "\n",
    "Just as in the plane-wave case we associate $LC$ with $1/v^2$ where $v$ is the phase velocity of the $V-I$ transmission wave running in the two-slab transmission line.  Furthermore if we assume time-harmonic phasor solutions we can write the the voltage function that solves the voltage equation as\n",
    "\n",
    "\\begin{equation}\n",
    "V=V_0e^{i(\\beta z-\\omega t)}\n",
    "\\end{equation}\n",
    "\n",
    "Then substitution yields\n",
    "\\begin{equation}\n",
    "\\frac{\\partial^2 V}{\\partial z^2}+LC\\omega^2V=0\n",
    "\\end{equation}\n",
    "\n",
    "We see therefore that the phase velocity $v$ and propagation parameter $\\beta$ for the $V-I$ excitation of the transmission line is\n",
    "\n",
    "\\begin{equation}\n",
    "v=\\frac{1}{\\sqrt{LC}}\\qquad\\mbox{and}\\qquad \\beta=\\frac{\\omega}{v}=\\sqrt{LC}\\omega\n",
    "\\end{equation}\n",
    "\n",
    "Given the voltage function we can find the current by substituting into $\\frac{\\partial V}{\\partial z}=-L\\frac{\\partial I}{\\partial t}$ and integrating with respect to time.\n",
    "\n",
    "\\begin{equation}\n",
    "\\frac{\\partial I}{\\partial t}=-\\frac{1}{L}\\frac{\\partial V}{\\partial t}=-\\frac{1}{L}i\\beta V\n",
    "\\end{equation}\n",
    "\n",
    "then\n",
    "\n",
    "\\begin{equation}\n",
    "I=-\\frac{1}{L}i\\beta\\int V\\,dt=\\frac{1}{L}\\frac{\\beta}{\\omega}V=\\sqrt{\\frac{C}{L}}\\cdot V\n",
    "\\end{equation}\n",
    "\n",
    "The ratio of the voltage to current amplitudes has units of resistance and is identified with the \\emph{characteristic impedance} of the transmission line.\n",
    "\n",
    "\\begin{equation}\n",
    "Z_0=\\frac{V}{I}=\\sqrt{\\frac{L}{C}}\n",
    "\\end{equation}\n",
    "\n",
    "which is, as expected, in agreement with the earlier lumped-circuit analysis.\n",
    "\n",
    "Below is a table summarising the equivalence between wave quantities and transmission line quantities.\n"
   ]
  },
  {
   "cell_type": "markdown",
   "metadata": {},
   "source": [
    "\n",
    "|Plane Wave|Transmission Line|\n",
    "|----------|-----------------|\n",
    "|$E_x(z)$  |$V(x)$           |\n",
    "|$H_y(z)$  |$I(z)$           |\n",
    "|$k=\\omega\\sqrt{\\mu\\epsilon}$|$\\beta=\\omega\\sqrt{LC}$|\n",
    "|$Z=\\sqrt{\\frac{\\mu}{\\epsilon}}$|$Z=\\sqrt{\\frac{L}{C}}$|\n",
    "\n"
   ]
  },
  {
   "cell_type": "markdown",
   "metadata": {},
   "source": [
    "## Waveguides"
   ]
  },
  {
   "cell_type": "markdown",
   "metadata": {},
   "source": [
    "Up to now we have studied plane waves in and transmission lines.  Waves propagating within or on  guiding structures, which essentially define the transverse field boundary conditions, are related to unbounded plane waves and are even more closely related to transmission lines.  But guided waves also exhibit unique characteristics that require extension of our familiar ideas of voltage, current, capacitance and inductance.  Wave guiding at microwave frequencies was developed for radar during WWII, but now integrated optical circuits at the nanoscale use waveguides to transport optical signals onto and around integrated microchips.  We discuss in this section the elements of waveguide theory and the relation guided waves bear to plane electromagnetic waves and to transmission lines.\n",
    "\n",
    "The prototypical transmission line, consisting of two parallel slab conductors separated by a dielectric, is shown in the figure above.  In a sense this structure can be considered a wave guide since the E-field terminates on the two conducting slabs separated by a constant distance in the $y-z$ plane, although the H-field is unbounded along $y$.  It is clear from the front and side views, that the E- and H-field lines are confined to the $x-y$ plane with no field components along the direction of propagation, $z$.  Waves with this property are called *transverse electromagnetic* (TEM) waves.  An ideal plane wave propagating in space also exhibits phase fronts confined to the plane orthogonal to the propagation direction, so they are TEM waves as well.  Note that if we added two conducting slabs in the $x-z$ plane so as to enclose a volume with a single conductor of rectangular $x-y$ cross-section, no TEM field could exist since the four conducting sides would define an interior space of constant voltage (and hence a null E-field).  However, *waveguides* with rectangular, cylindrical, and even arbitrarily shaped cross-section do exist, but in order to understand them we have to extend our ideas beyond the familiar TEM wave.  Waves propagating within structures of a single conductor are classified into two types: *transverse electric* (TE) waves with an H-field component along the propagation direction $z$ (but E-field only in the transverse $x-y$ plane), and *transverse magnetic* (TM) waves with an E-field component along the propagation direction (but only with transverse H-field components).  Note that TE and TM *waves* (or modes) should not be confused with TE and TM *polarisation* discussed at length in the Jupyter notebook on Surface Waves."
   ]
  },
  {
   "cell_type": "markdown",
   "metadata": {},
   "source": [
    "### Field Solutions for TM and TE Waves"
   ]
  },
  {
   "cell_type": "markdown",
   "metadata": {},
   "source": [
    "We assume field solutions to the Helmholtz equation that will have some spatial variation in the $x-y$ plane, subject to the boundary conditions of a known perfect electric conductor (PEC)\\index{PEC} guide structure, and propagate along the $z$ direction with $e^{i\\beta z}$.   For the time being we will take the propagation parameter to be real (lossless medium).  The general form of the phasor fields\\index{phasors} are then\n",
    "\n",
    "\\begin{align}\n",
    "E(x,y,z)&=\\left[\\mathcal{E}(x,y)+\\mathcal{E}_z(x,y)\\hat{z}\\right]e^{i\\beta z}\\\\\n",
    "H(x,y,z)&=\\left[\\mathcal{H}(x,y)+\\mathcal{H}_z(x,y)\\hat{z}\\right]e^{i\\beta z}\n",
    "\\end{align}\n",
    "\n",
    "Once again we write the two curl equations of Maxwell with harmonic time dependence, no current sources in nonmagnetic material ($\\mu=\\mu_0$).\n",
    "\n",
    "\\begin{align*}\n",
    "\\boldsymbol{\\nabla}\\times\\mathbf{E}&=i\\omega\\mu_0\\mathbf{H}\\\\\n",
    "\\boldsymbol{\\nabla}\\times\\mathbf{H}&=-i\\omega\\epsilon\\mathbf{E}\n",
    "\\end{align*}\n",
    "\n",
    "and write out explicitly the various components of $\\mathbf{H}$ and $\\mathbf{E}$.  For the H-field components we have\n",
    "\n",
    "\\begin{align}\n",
    "\\frac{\\partial E_z}{\\partial y}-i\\beta E_y&=i\\omega\\mu_0H_x\\label{Eq-Hx}\\\\\n",
    "i\\beta E_x-\\frac{\\partial E_z}{\\partial x}&=i\\omega\\mu_0H_y\\label{Eq-Hy}\\\\[0.5ex]\n",
    "\\frac{\\partial E_y}{\\partial x}-\\frac{\\partial E_x}{\\partial y}&=i\\omega\\mu_0H_z\\label{Eq-Hz}\n",
    "\\end{align}\n",
    "\n",
    "and for the E-field components\n",
    "\\begin{align}\n",
    "\\frac{\\partial H_z}{\\partial y}-i\\beta H_y&=-i\\omega\\epsilon E_x\\label{Eq-Ex}\\\\\n",
    "i\\beta H_x-\\frac{\\partial H_z}{\\partial x}&=-i\\omega\\epsilon E_y\\label{Eq-Ey}\\\\\n",
    "\\frac{\\partial H_y}{\\partial x}-\\frac{\\partial H_x}{\\partial y}&=-i\\omega\\epsilon E_z\\label{Eq-Ez}\n",
    "\\end{align}\n",
    "\n",
    "We can use Eqs.\\,\\ref{Eq-Hx},\\,\\ref{Eq-Ey} to write $H_x$ in terms of derivatives of $E_z$ and $H_z$ in the transverse $x-y$ plane.  Similarly we can use Eqs.\\,\\ref{Eq-Hy},\\,\\ref{Eq-Ex} to also write $H_y$ in terms of transverse derivatives of $E_z,H_z$.  Proceeding in the same way for $E_x$ and $E_y$ we have finally four equations,\n",
    "\n",
    "\\begin{align}\n",
    "H_x&=-\\frac{i}{\\left(k^2-\\beta^2\\right)}\\left[\\omega\\epsilon\\frac{\\partial E_z}{\\partial y}-\\beta\\frac{\\partial H_z}{\\partial x}\\right]\\label{Eq-Hx1}\\\\[0.5ex]\n",
    "H_y&=\\frac{i}{\\left(k^2-\\beta^2\\right)}\\left[\\omega\\epsilon\\frac{\\partial E_z}{\\partial x}+\\beta\\frac{\\partial H_z}{\\partial y}\\right]\\label{Eq-Hy1}\\\\[0.5ex]\n",
    "E_x&=\\frac{i}{\\left(k^2-\\beta^2\\right)}\\left[\\omega\\mu_0\\frac{\\partial H_z}{\\partial y}+\\beta\\frac{\\partial E_z}{\\partial x}\\right]\\label{Eq-Ex1}\\\\[0.5ex]\n",
    "E_y&=-\\frac{i}{\\left(k^2-\\beta^2\\right)}\\left[\\omega\\mu_0\\frac{\\partial H_z}{\\partial x}-\\beta\\frac{\\partial E_z}{\\partial y}\\right]\\label{Eq-Ey1}\n",
    "\\end{align}\n",
    "\n",
    "where $k$, as always, is related to the frequency $\\omega$ and velocity of light through the medium ($v=1/\\sqrt{\\epsilon\\mu_0}$) by the expression $k=\\omega\\sqrt{\\epsilon\\mu_0}$.  The factor $\\left(k^2-\\beta^2\\right)$ can be interpreted as the square of a propagation parameter in the $x-y$ plane since $\\beta$ is always along the $z$ axis.  This transverse propagation parameter is called the ``cutoff\" parameter $k_c$.\n",
    "\n",
    "\\begin{equation}\n",
    "k_c^2=k^2-\\beta^2\n",
    "\\end{equation}\n"
   ]
  },
  {
   "cell_type": "markdown",
   "metadata": {},
   "source": [
    "### TE Waves"
   ]
  },
  {
   "cell_type": "markdown",
   "metadata": {},
   "source": [
    "In the case of TE waves $E_z=0$ and Eqs.\\,\\ref{Eq-Hx1}--\\ref{Eq-Ey1} become\n",
    "\n",
    "\\begin{align}\n",
    "H_x&=\\frac{i}{k_c^2}\\cdot\\beta\\frac{\\partial H_z}{\\partial x}\\\\[0.5ex]\n",
    "H_y&=\\frac{i}{k_c^2}\\cdot\\beta\\frac{\\partial H_z}{\\partial y}\\\\[0.5ex]\n",
    "E_x&=\\frac{i}{k_c^2}\\cdot\\omega\\mu_0\\frac{\\partial H_z}{\\partial y}\\\\[0.5ex]\n",
    "E_y&=-\\frac{i}{k_c^2}\\cdot\\omega\\mu_0\\frac{\\partial H_z}{\\partial x}\n",
    "\\end{align}\n",
    "\n",
    "In order to find the transverse fields we have to use the Helmholtz equation to find the permitted values of $H_z$.  We write the expression\n",
    "\n",
    "\\begin{equation}\n",
    "\\left(\\nabla^2+k^2\\right)H_z=\\left(\\frac{\\partial^2}{\\partial x^2}+\\frac{\\partial^2}{\\partial y^2}+\\frac{\\partial^2}{\\partial z^2}+k^2\\right)H_z=0\n",
    "\\end{equation}\n",
    "\n",
    "But since\n",
    "\n",
    "\\begin{equation}\n",
    "\\frac{\\partial^2 H_z}{\\partial z^2}=-\\beta^2H_z\n",
    "\\end{equation}\n",
    "\n",
    "the Helmholtz equation reduces to a differential equation for the transverse $H_z$ field gradients\n",
    "\\begin{equation}\n",
    "\\left(\\frac{\\partial^2}{\\partial x^2}+\\frac{\\partial^2}{\\partial y^2}+k_c^2\\right)\\mathcal{H}_z=0\n",
    "\\end{equation}\n",
    "\n",
    "Allowed solutions will be a function of the transverse boundary conditions. \n"
   ]
  },
  {
   "cell_type": "markdown",
   "metadata": {},
   "source": [
    "### TM Waves"
   ]
  },
  {
   "cell_type": "markdown",
   "metadata": {},
   "source": [
    "For TM waves we follow the same procedure except we set $H_z=0$ and write Eqs.\\,\\ref{Eq-Hx1}--\\ref{Eq-Ey1} as\n",
    "\n",
    "\\begin{align}\n",
    "H_x&=-\\frac{i}{k_c^2}\\cdot\\omega\\epsilon\\frac{\\partial E_z}{\\partial y}\\\\[0.5ex]\n",
    "H_y&=\\frac{i}{k_c^2}\\cdot\\omega\\epsilon\\frac{\\partial E_z}{\\partial x}\\\\[0.5ex]\n",
    "E_x&=\\frac{i}{k_c^2}\\cdot\\beta\\frac{\\partial E_z}{\\partial x}\\\\[0.5ex]\n",
    "E_y&=\\frac{i}{k_c^2}\\cdot\\beta\\frac{\\partial E_z}{\\partial y}\n",
    "\\end{align}\n",
    "\n",
    "The Helmholtz equation for $E_z$ reduces to\n",
    "\n",
    "\\begin{equation}\n",
    "\\left(\\frac{\\partial^2}{\\partial x^2}+\\frac{\\partial^2}{\\partial y^2}+k_c^2\\right)\\mathcal{E}_z=0\\label{Eq-TMHelmholtz}\n",
    "\\end{equation}\n",
    "\n",
    "and allowed solutions will again be a function of the transverse boundary conditions."
   ]
  },
  {
   "cell_type": "markdown",
   "metadata": {},
   "source": [
    "## Parallel Plate Waveguide"
   ]
  },
  {
   "cell_type": "markdown",
   "metadata": {},
   "source": [
    "Here we apply the formal development of the last section to a simple but very useful example, the parallel plate waveguide.  This structure is essentially the same as the parallel plate transmission line studied in Section \\ref{section-LosslessTransLine}, but here we will see that the transmission line TEM waves (with no field components in the direction of propagation) can be be complemented with TE modes and TM modes.  The two conducting plates of the waveguide are separated by $s$ between the plates (along the $x$ direction) and have a width $w$ (along the $y$ direction) that is much greater than the separation $s$.  We can therefore assume that the solutions we seek will not be functions of $y$."
   ]
  },
  {
   "cell_type": "markdown",
   "metadata": {},
   "source": [
    "### TE Modes"
   ]
  },
  {
   "cell_type": "markdown",
   "metadata": {},
   "source": [
    "In order to find the allowed TE modes we start with the reduced Helmholtz equation for the TE case, Eq.\\,\\ref{Eq-TEHelmholtz}, and write the solutions for $\\mathcal{H}_z$.  By inspection we write the general solution in terms of the real $\\sin$ and $\\cos$ functions and refer to the coordinate system of Fig.\\,\\ref{Fig-PlaneWave1}.  The amplitudes $A,B$ are determined by the boundary conditions.\n",
    "\n",
    "\\begin{equation}\n",
    "\\mathcal{H}_z(x,y)=A\\sin k_cx+B\\cos k_cx\n",
    "\\end{equation}\n",
    "\n",
    "Since we posit that the plates are perfect conductors (and the intervening dielectric lossless) we have for boundary conditions\n",
    "\n",
    "\\begin{equation}\n",
    "E_y(0,y)=0\\quad\\text{and}\\qquad E_y(s,y)=0\\label{Eq-TEBndryCndsPP}\n",
    "\\end{equation}\n",
    "\n",
    "Then from Eq.\\,\\ref{Eq-Ey2}\n",
    "\n",
    "\\begin{align}\n",
    "E_y(x,y)&=-\\frac{i}{k_c^2}\\cdot\\omega\\mu_0\\frac{\\partial H_z}{\\partial x}=-\\frac{i}{k_c^2}\\cdot\\omega\\mu_0\\frac{\\partial\\mathcal{H}_z}{\\partial x}e^{i\\beta z}\\\\[0.5ex]\n",
    "&=-\\frac{i\\omega\\mu_0}{k_c}\\left[A\\cos k_cx-B\\sin k_cx\\right]e^{i\\beta z}\n",
    "\\end{align}\n",
    "\n",
    "The boundary conditions, Eq.\\,\\ref{Eq-TEBndryCndsPP}, require that $A=0$ and puts a condition on the argument of the $\\sin$ term, that at $x=s$ the E-field must be null so\n",
    "\n",
    "\\begin{equation}\n",
    "k_cs=n\\pi\\qquad n=1,2,3\\ldots\\qquad\\text{or}\\quad k_c=\\frac{n\\pi}{s}\\quad n=1,2,3\\ldots\n",
    "\\end{equation}\n",
    "\n",
    "The boundary conditions\\index{boundary conditions} impose that only discrete values of $k_c$ are permitted (depending on the plate separation $s$), and the expression for the propagation parameter along the $z$ direction becomes\n",
    "\n",
    "\\begin{equation}\n",
    "\\beta=\\pm\\sqrt{k^2-k_c^2}\\qquad\\text{or}\\quad\\beta=\\pm\\sqrt{k^2-\\left(\\frac{n\\pi}{s}\\right)^2}\n",
    "\\end{equation}\n",
    "\n",
    "The solutions for $\\mathcal{H}_z(x,y)$ are\n",
    "\n",
    "\\begin{equation}\n",
    "\\mathcal{H}_z(x,y)=B_n\\cos\\frac{n\\pi}{s}x\n",
    "\\end{equation}\n",
    "\n",
    "or\n",
    "\n",
    "\\begin{equation}\n",
    "H_z(x,y)=B_n\\cos\\left(\\frac{n\\pi}{s}x\\right) e^{i\\beta z}\n",
    "\\end{equation}\n",
    "\n",
    "Note that when $k>k_c$, $\\beta$ is positive and the wave propagates along $z$.  When $k=k_c$, then $\\beta=0$ and the wave is stationary with zero phase velocity.  If $k$ falls below $k_c$, then $\\beta$ becomes pure imaginary.  The wave no longer propagates in the waveguide but decays exponentially to $1/e$ of its initial amplitude at a characteristic distance of $x=1/\\beta$.  The propagating wave becomes an \\emph{evanescent} wave.  This threshold behaviour for propagation of mode $n$ within the waveguide is the reason that $k_c$ is called the \"cutoff\" parameter\\index{cutoff parameter}.  Below cutoff, the wave does not propagate.  The cutoff parameter $k_c$ is related in the usual way to wavelength and frequency.\n",
    "\n",
    "\\begin{equation}\n",
    "k_c=\\frac{2\\pi}{\\lambda_c}\\qquad\\text{and}\\qquad\\omega_c=k_cv\n",
    "\\end{equation}\n",
    "\n",
    "where $v$ is the propagation velocity in the gap dielectric of the waveguide.  If the dielectric is air or vacuum, then is the velocity of light, $c$.  For a given waveguide \"mode\" $n$ the cutoff frequency must be greater than $k_{c\\mathrm{n}}v$.\n",
    "\n",
    "Once we have the solutions for $H_z(x,y)$ we can get the solutions for all the transverse field components from Eqs.\\,\\ref{Eq-Hx2}--\\ref{Eq-Ey2}.  Since there is no transverse dependence in the $y$ direction, Eqs.\\,\\ref{Eq-Hy2},\\,\\ref{Eq-Ex2} show that $H_y=E_x=0$ and\n",
    "\n",
    "\\begin{align}\n",
    "H_x&=-i\\frac{\\beta}{k_c}B_n\\sin\\left(\\frac{n\\pi}{s}x\\right)e^{i\\beta z}\\\\[0.5ex]\n",
    "E_y&=i\\frac{\\omega\\mu_0}{k_c}B_n\\sin\\left(\\frac{n\\pi}{s}x\\right)e^{i\\beta z}\n",
    "\\end{align}\n",
    "\n",
    "Note the difference in sign between $H_x$ and $E_y$.  This sign difference is consistent with the direction of energy propagation, determined by the Poynting vector, along the positive $z$ direction, $\\mathbf{S}=\\mathbf{E}\\times\\mathbf{H}$.\n",
    "The wave impedance is given by the ratio of the E-field amplitude to the H-field amplitude,\n",
    "\n",
    "\\begin{equation}\n",
    "Z_{\\mathrm{TE}}=\\frac{|E_y|}{|H_x|}=\\frac{\\omega\\mu_0}{\\beta}=\\frac{k}{\\beta}Z_0\n",
    "\\end{equation}\n",
    "\n",
    "For the parallel plate waveguide the TE modes consist of a ``triplet\" of components, $H_z, H_x, E_y$ and the modes are labeled $\\mathrm{TE_n},\\,\\,n=1,2,3\\ldots$\n"
   ]
  },
  {
   "cell_type": "markdown",
   "metadata": {},
   "source": [
    "### TM Modes"
   ]
  },
  {
   "cell_type": "markdown",
   "metadata": {},
   "source": [
    "To find the field components for the TM modes we follow a parallel procedure to the TE case.  The first step is to find the $\\mathcal{E}_z$ solutions from the reduced Helmholtz equation, Eq.\\,\\ref{Eq-TMHelmholtz}, subject to the boundary conditions on the parallel plate waveguide at $x=0$ and $x=s$.\n",
    "Once again the general solution is\n",
    "\n",
    "\\begin{equation}\n",
    "\\mathcal{E}_z(x,y)=A\\sin k_cx + B\\cos k_cx\n",
    "\\end{equation}\n",
    "\n",
    "with boundary conditions that $\\mathcal{E}_z(0,y)=\\mathcal{E}_z(s,y)=0$.  Therefore $B=0$ and $\\sin k_cx=0$ when $x=0$ or when $x=s$. The solutions to Eq.\\,\\ref{Eq-TMHelmholtz} that respect the boundary conditions are therefore\n",
    "\n",
    "\\begin{equation}\n",
    "\\mathcal{E}_z=A_n\\sin \\left(\\frac{n\\pi}{s}\\right)x\\qquad n=0,1,2,3\\dots\n",
    "\\end{equation}\n",
    "\n",
    "and\n",
    "\n",
    "\\begin{equation}\n",
    "E_z=A_n\\sin\\left(\\frac{n\\pi}{s}\\right)xe^{i\\beta z}\n",
    "\\end{equation}\n",
    "\n",
    "with\n",
    "\n",
    "\\begin{equation}\n",
    "\\beta=\\pm\\sqrt{k^2-k_c^2}=\\pm\\sqrt{k^2-\\left(\\frac{n\\pi}{s}\\right)^2}\n",
    "\\end{equation}\n",
    "\n",
    "From Eqs.\\,\\ref{Eq-Hx3}--\\ref{Eq-Ey3} we find the transverse field components.\n",
    "\n",
    "\\begin{align}\n",
    "H_y&=i\\frac{\\omega\\epsilon}{k_c}A_n\\cos\\left(\\frac{n\\pi}{s}x\\right)e^{i\\beta z}\\\\[0.5ex]\n",
    "E_x&=i\\frac{\\beta}{k_c}A_n\\cos\\left(\\frac{n\\pi}{s}x\\right)e^{i\\beta z}\n",
    "\\end{align}\n",
    "\n",
    "The impedance for the TM waves is\n",
    "\n",
    "\\begin{equation}\n",
    "Z_{\\mathrm{TM}}=\\frac{E_x}{H_y}=\\frac{\\beta}{\\omega\\epsilon}=\\frac{\\beta}{k}Z_0\n",
    "\\end{equation}\n",
    "\n",
    "and the TM modes consist of a triplet of three field components: $E_z,E_x,H_y$.  Note that for the lowest $n=0$ mode, there is no cut off frequency, $E_z=0$, and the $H_y, E_x$ components have constant amplitudes.  In fact the TM$_0$ mode is identical to the TEM$_0$ mode, represented in Fig.\\,\\ref{Fig-PlaneWave1}."
   ]
  },
  {
   "cell_type": "markdown",
   "metadata": {},
   "source": [
    "## Rectangular Waveguides"
   ]
  },
  {
   "cell_type": "markdown",
   "metadata": {},
   "source": [
    "The parallel plate waveguide is essentially a one-dimensional problem since the transverse spatial variation of the TE and TM modes depend only on $x$.  Here we examine the more realistic case of a rectangular wave guide with finite dimensions in both $x$ and $y$.  We assume again boundary conditions on a perfect electrical conductor (PEC) and apply those E-field conditions at the waveguide edges along $x$ and $y$.  By convention we denote the long and short sides of the rectangular cross section as $l,h$, respectively and align $l$ along $x$ and $h$ along $y$ so that the lower left corner of the waveguide cross section is at the coordinate origin.  The guide is filled with some nonmagnetic, lossless dielectric material characterised by permeability $\\mu_0$ and permittivity $\\epsilon$.  Figure \\ref{Fig-Rectangle} shows the layout for the rectangular waveguide."
   ]
  },
  {
   "cell_type": "code",
   "execution_count": 10,
   "metadata": {
    "scrolled": true
   },
   "outputs": [
    {
     "data": {
      "text/html": [
       "<figure>\n",
       "<center>\n",
       "  <img src =\"./image_files/Fig 8.8_rectangle.png\", alt=\"RectangularWaveguide\",\n",
       "    style=\"width: 80%;\"/>\n",
       "</center>\n",
       "<caption>\n",
       "  Rectangular waveguide with sides $x=2a$ and $y=2b$.  Inside the conducting boundaries \n",
       "    the waveguide is filled with a lossless dielectric characterised by $\\mu_0,\\epsilon$.\n",
       "</caption>\n",
       "</figure>\n"
      ],
      "text/plain": [
       "<IPython.core.display.HTML object>"
      ]
     },
     "metadata": {},
     "output_type": "display_data"
    }
   ],
   "source": [
    "%%HTML\n",
    "<figure>\n",
    "<center>\n",
    "  <img src =\"./image_files/Fig 8.8_rectangle.png\", alt=\"RectangularWaveguide\",\n",
    "    style=\"width: 80%;\"/>\n",
    "</center>\n",
    "<caption>\n",
    "  Rectangular waveguide with sides $x=2a$ and $y=2b$.  Inside the conducting boundaries \n",
    "    the waveguide is filled with a lossless dielectric characterised by $\\mu_0,\\epsilon$.\n",
    "</caption>\n",
    "</figure>"
   ]
  },
  {
   "cell_type": "markdown",
   "metadata": {},
   "source": [
    "### TE Modes"
   ]
  },
  {
   "cell_type": "markdown",
   "metadata": {},
   "source": [
    "The transverse electric (TE) modes are defined as those waves that propagate in the guide with E-fields only transverse to the $z$ (propagation) direction.  Therefore we seek $H_z$ solutions to the transverse Helmholtz equation.\n",
    "\n",
    "\\begin{equation}\n",
    "\\left(\\frac{\\partial^2 }{\\partial x^2}+\\frac{\\partial^2 }{\\partial y^2}+k_c^2\\right)\\mathcal{H}_z(x,y)=0\\label{Eq-TEHelmholtz2D}\n",
    "\\end{equation}\n",
    "\n",
    "The solutions will be functions of both coordinates, but we can expect them to be uncoupled.  Therefore we can posit solutions of the form $\\mathcal{H}_z(x,y)=X(x)Y(y)$.  Substitution into Eq.\\,\\ref{Eq-TEHelmholtz2D} and division by $X(x)Y(y)$ results in\n",
    "\n",
    "\\begin{equation}\n",
    "\\frac{1}{X}\\frac{\\partial^2X}{\\partial x^2}+\\frac{1}{Y}\\frac{\\partial^2 Y}{\\partial y^2}=-k_c^2\n",
    "\\end{equation}\n",
    "\n",
    "Since this result must be true for all values of $x,y$, the terms on the left must themselves be equal to constants that we write\n",
    "\n",
    "\\begin{equation}\n",
    "\\frac{1}{X}\\frac{\\partial^2X}{\\partial x^2}=-k_x^2\\qquad\\text{   }\\qquad\\frac{1}{Y}\\frac{\\partial^2Y}{\\partial y^2}=-k_y^2\n",
    "\\end{equation}\n",
    "\n",
    "and\n",
    "\n",
    "\\begin{equation}\n",
    "k_x^2+k_y^2=k_c^2\n",
    "\\end{equation}\n",
    "\n",
    "The solution for $\\mathcal{H}_z(x,y)$ is a product of the general solution in $x$ and the general solution in $y$.\n",
    "\n",
    "\\begin{equation}\n",
    "\\mathcal{H}_z(x,y)=\\left(A\\cos k_xx+B\\sin k_xx\\right)\\cdot\\left(C\\cos k_yy+D\\sin k_yy\\right)\\label{Eq-Hz2DRect}\n",
    "\\end{equation}\n",
    "\n",
    "The boundary conditions at $x,y=0$ and $x=a,y=b$ are\n",
    "\n",
    "\\begin{equation}\n",
    "E_x(x,0), E_x(x,b)=0\\qquad\\text{and}\\qquad E_y(0,y),E_y(a,y)=0\n",
    "\\end{equation}\n",
    "\n",
    "The transverse E-fields are obtained from the longitudinal H-field $\\mathcal{H}_z$ by using Eqs.\\,\\ref{Eq-Ex2},\\,\\ref{Eq-Ey2}\n",
    "\n",
    "\\begin{align}\n",
    "E_x&=i\\frac{\\omega\\mu_0}{k_c^2}k_y\\left(A\\cos k_xx+B\\sin k_xx\\right)\\cdot\\left(-C\\sin k_yy+D\\cos k_yy\\right)\\\\[0.5ex]\n",
    "E_y&=i\\frac{\\omega\\mu_0}{k_c^2}k_x\\left(-A\\sin k_xx+B\\cos k_xx\\right)\\cdot\\left(C\\cos k_yy+D\\sin k_yy\\right)\n",
    "\\end{align}\n",
    "\n",
    "The condition on $E_x(x,y=0)$ implies that $D=0$ and the condition on $E_x(x,y=b)$ implies that $k_y=n\\pi/b$ with $n=0,1,2\\ldots$  Similarly the condition on $E_y(x=0,y)$ requires that $B=0$ and the condition on $E_y(x=a,y)$ requires $k_x=m\\pi/a$ with $m=0,1,2\\ldots$\n",
    "Therefore the general solution for $\\mathcal{H}_z(x,y)$, Eq.\\,\\ref{Eq-Hz2DRect}, becomes\n",
    "\n",
    "\\begin{equation}\n",
    "\\mathcal{H}_z=A_{mn}\\cos\\frac{m\\pi x}{a}\\cos\\frac{n\\pi y}{b}\n",
    "\\end{equation}\n",
    "\n",
    "and\n",
    "\n",
    "\\begin{equation}\n",
    "H_z(x,y,z)=A_{mn}\\cos\\frac{m\\pi x}{a}\\cos\\frac{n\\pi y}{b}e^{i\\beta z}\n",
    "\\end{equation}\n",
    "\n",
    "The arbitrary amplitude constant $A_{mn}$ is a product of the constants $A,C$ in Eq.\\,\\ref{Eq-Hz2DRect}.\n",
    "Now we get the transverse fields using Eqs.\\,\\ref{Eq-Hx2}--\\ref{Eq-Ey2}.\n",
    "\n",
    "\\begin{align}\n",
    "H_x&=-i\\frac{\\beta m\\pi}{k_c^2a}A_{mn}\\sin\\frac{m\\pi x}{a}\\cos\\frac{n\\pi y}{b}e^{i\\beta z}\\\\[0.5ex]\n",
    "H_y&=-i\\frac{\\beta n\\pi}{k_c^2b}A_{mn}\\cos\\frac{m\\pi x}{a}\\sin\\frac{n\\pi y}{b}e^{i\\beta z}\\\\[0.5ex]\n",
    "E_x&=-i\\frac{\\omega\\mu_0n\\pi}{k_c^2b}A_{mn}\\cos\\frac{m\\pi x}{a}\\sin\\frac{n\\pi y}{b}e^{i\\beta z}\\\\[0.5ex]\n",
    "E_y&=i\\frac{\\omega\\mu_0m\\pi}{k_c^2a}A_{mn}\\sin\\frac{m\\pi x}{a}\\cos\\frac{n\\pi y}{b}e^{i\\beta z}\n",
    "\\end{align}\n",
    "\n",
    "As always we get the cutoff propagation parameters and frequencies from\\index{cutoff propagation parameter}\n",
    "\n",
    "\\begin{equation}\n",
    "\\beta=\\sqrt{k^2-k_c^2}=\\sqrt{k^2-\\left(k_x^2+k_y^2\\right)}=\\sqrt{k^2-\\left(\\frac{m\\pi}{a}\\right)^2-\\left(\\frac{n\\pi}{b}\\right)^2}\n",
    "\\end{equation}\n",
    "\n",
    "The propagation parameter along $z$ becomes real when\n",
    "\n",
    "\\begin{equation}\n",
    "k>k_c=\\sqrt{\\left(\\frac{m\\pi}{a}\\right)^2-\\left(\\frac{n\\pi}{b}\\right)^2}\\label{Eq-RectCutOff}\n",
    "\\end{equation}\n",
    "\n",
    "The TE wave impedance is denoted by $Z_{\\mathrm{TE}}$ and is independent of the mode labelling $n,m$.\n",
    "\n",
    "\\begin{equation}\n",
    "Z_{\\mathrm{TE}}=\\frac{E_x}{H_y}=\\frac{k}{\\beta}Z_0\n",
    "\\end{equation}\n",
    "\n",
    "Because we have posited that $a>b$, Eq.\\,\\ref{Eq-RectCutOff} shows that the TE mode with the lowest cutoff frequency is $\\mathrm{TE_{\\mathrm{mn}}}=\\mathrm{TE_{10}}$."
   ]
  },
  {
   "cell_type": "markdown",
   "metadata": {},
   "source": [
    "### TM Modes"
   ]
  },
  {
   "cell_type": "markdown",
   "metadata": {},
   "source": [
    "The transverse magnetic modes are defined as those modes with H-fields only in the transverse ($x-y$) plane.  Therefore the field component in the $z$ direction must be an E-field.  The waves propagate along $z$ and $E_z$ is written as the product $\\mathcal{E}_z(x,y)e^{i\\beta z}$.  Therefore we seek $\\mathcal{E}_z$ solutions to the same Helmholtz wave equation as for the TE modes.\n",
    "\n",
    "\\begin{equation}\n",
    "\\left(\\frac{\\partial^2}{\\partial x^2}+\\frac{\\partial^2}{\\partial y^2}+\\frac{\\partial^2}{\\partial z^2}+k_c^2\\right)\\mathcal{E}_z=0\n",
    "\\end{equation}\n",
    "\n",
    "The general solution for $\\mathcal{E}_z$ has the same form as that for $\\mathcal{H}_z$, Eq.\\,\\ref{Eq-Hz2DRect}, and subject to boundary conditions,\n",
    "\n",
    "\\begin{equation}\n",
    "E_z(x,0),E_z(x,b)=0\\qquad\\text{and}\\qquad E_z(0,y),E_z(a,y)=0\n",
    "\\end{equation}\n",
    "\n",
    "The expression for $E_z$ is therefore\n",
    "\n",
    "\\begin{equation}\n",
    "E_z(x,y,z)=\\mathcal{E}_z(x,y)e^{i\\beta z}=B_{mn}\\sin\\frac{m\\pi x}{a}\\sin\\frac{n\\pi y}{b}e^{i\\beta z}\n",
    "\\end{equation}\n",
    "\n",
    "with $m,n=1,2,3\\ldots$ As with the TE modes the cutoff propagation parameter is given by\n",
    "\n",
    "\\begin{equation}\n",
    "k_c^2=k_x^2+k_y^2\n",
    "\\end{equation}\n",
    "and the boundary conditions dictate that\n",
    "\n",
    "\\begin{equation}\n",
    "k_x=\\frac{m\\pi}{a}\\qquad\\text{and}\\qquad k_y=\\frac{n\\pi}{b}\n",
    "\\end{equation}\n",
    "\n",
    "The transverse field components are obtained from $E_z$ by using Eqs.\\,\\ref{Eq-Hx3}--\\ref{Eq-Ey3}.\n",
    "\n",
    "\\begin{align}\n",
    "H_x&=-i\\frac{\\omega\\epsilon n\\pi}{bk_c^2}B_{mn}\\sin\\frac{m\\pi x}{a}\\cos\\frac{n\\pi y}{b}e^{i\\beta z}\\label{Eq-Hx4}\\\\[0.5ex]\n",
    "H_y&=i\\frac{\\omega\\epsilon m\\pi}{ak_c^2}B_{mn}\\cos\\frac{m\\pi x}{a}\\sin\\frac{n\\pi y}{b}e^{i\\beta z}\\\\[0.5ex]\n",
    "E_x&=i\\frac{\\beta m\\pi}{ak_c^2}B_{mn}\\cos\\frac{m\\pi x}{a}\\sin\\frac{n\\pi y}{b}e^{i\\beta z}\\\\[0.5ex]\n",
    "E_y&=i\\frac{\\beta n\\pi}{bk_c^2}B_{mn}\\sin\\frac{m\\pi x}{a}\\cos\\frac{n\\pi y}{b}e^{i\\beta z}\\label{Eq-Ey4}\n",
    "\\end{align}\n",
    "\n",
    "The propagation parameter is given, as usual, by\n",
    "\n",
    "\\begin{equation}\n",
    "\\beta=\\pm\\sqrt{k^2-k_c^2}=\\pm\\sqrt{k^2-\\left(\\frac{m\\pi}{a}\\right)^2-\\left(\\frac{n\\pi}{b}\\right)^2}\n",
    "\\end{equation}\n",
    "\n",
    "We can see from Eqs.\\,\\ref{Eq-Hx4}--\\ref{Eq-Ey4} that $\\mathrm{TM}_{01}$ or $\\mathrm{TM}_{10}$ vanish (in fact all TM modes with a zero index vanish) so the lowest TM mode is $\\mathrm{TM}_{11}$ with a cutoff propagation parameter given by\n",
    "\n",
    "\\begin{equation}\n",
    "k_c=\\sqrt{\\left(\\frac{\\pi}{a}\\right)^2+\\left(\\frac{\\pi}{b}\\right)^2}\n",
    "\\end{equation}\n",
    "\n",
    "If one of the sides becomes much longer than the other (say, $a>>b$), then\n",
    "\n",
    "\\begin{equation}\n",
    "k_c\\rightarrow \\frac{\\pi}{b}\n",
    "\\end{equation}\n",
    "\n",
    "and the cutoff $k_c$ becomes equal the parallel plate waveguide case (Section \\ref{Section-Waveguides}).\n",
    "Finally the TM mode impedance is given by \n",
    "\n",
    "\\begin{equation}\n",
    "Z_{\\mathrm{TM}}=\\frac{E_x}{H_y}=\\frac{\\beta}{k}Z_0\n",
    "\\end{equation}"
   ]
  },
  {
   "cell_type": "markdown",
   "metadata": {},
   "source": [
    "## Cylindrical Waveguides"
   ]
  },
  {
   "cell_type": "markdown",
   "metadata": {},
   "source": [
    "The cylindrical geometry is important not only for waveguides and transmission lines in the conventional microwave domain but also for nano-scale holes and hole arrays in the visible and near infrared regions.  A sensible point of departure for understanding light transmission through these cylindrically symmetric structures is an analysis of the field modes they can support.  The procedure is really no different than what we have done for the rectangular wave guides.  We choose a coordinate system in which the solutions to the Helmholtz equation will separate, and we will be able to write the solutions to $E_z$ and $H_z$ as a product of three factors $R(r)\\Phi(\\varphi)e^{i\\beta z}$ where $R(r)$ is the radial field dependence and $\\Phi(\\varphi)$ is the azimuthal angular dependence around the $z$ axis.  A schematic of the guide is shown in Fig.\\,\\ref{Fig-Cylinder}"
   ]
  },
  {
   "cell_type": "code",
   "execution_count": 13,
   "metadata": {},
   "outputs": [
    {
     "data": {
      "text/html": [
       "<figure>\n",
       "<center>\n",
       "  <img src =\"./image_files/Fig 8.9_CylindricalWaveguide.png\", alt=\"CylindricalWaveguide\",\n",
       "    style=\"width: 60%;\"/>\n",
       "</center>\n",
       "<caption>\n",
       "  {Schematic of cylindrical waveguide.  The cylinder surface is assumed to be a perfect \n",
       "   conductor.  Cylindrical coordinates are $r,\\varphi,z$ as shown.  The radius of the cylinder\n",
       "   is $a$. \n",
       "</caption>\n",
       "</figure>\n"
      ],
      "text/plain": [
       "<IPython.core.display.HTML object>"
      ]
     },
     "metadata": {},
     "output_type": "display_data"
    }
   ],
   "source": [
    "%%HTML\n",
    "<figure>\n",
    "<center>\n",
    "  <img src =\"./image_files/Fig 8.9_CylindricalWaveguide.png\", alt=\"CylindricalWaveguide\",\n",
    "    style=\"width: 60%;\"/>\n",
    "</center>\n",
    "<caption>\n",
    "  {Schematic of cylindrical waveguide.  The cylinder surface is assumed to be a perfect \n",
    "   conductor.  Cylindrical coordinates are $r,\\varphi,z$ as shown.  The radius of the cylinder\n",
    "   is $a$. \n",
    "</caption>\n",
    "</figure>"
   ]
  },
  {
   "cell_type": "markdown",
   "metadata": {},
   "source": [
    "### TE Modes"
   ]
  },
  {
   "cell_type": "markdown",
   "metadata": {},
   "source": [
    "As always, TE modes are defined by the presence of electric fields only in the transverse plane.  The field function along the $z$ axis must be an H-field, and we write the Helmholtz equation\n",
    "\n",
    "\\begin{equation}\n",
    "\\nabla^2H_z+k^2H_z=0\n",
    "\\end{equation}\n",
    "\n",
    "Then we write the $\\nabla^2$ or Laplacian operator in cylindrical coordinates and factor $H_z(r,\\varphi,z)=\\mathcal{H}_z(r,\\varphi)e^{i\\beta z}$.  We take the expression for the Laplacian operator from Eq.\\,\\ref{Eq-LapCylCoord} of Apppendix...\n",
    "\n",
    "\\begin{equation}\n",
    "\\left(\\frac{\\partial^2}{\\partial r^2}+\\frac{1}{r}\\frac{\\partial}{\\partial r}+\\frac{1}{r^2}\\frac{\\partial^2}{\\partial\\varphi^2}+k_c^2\\right)\\mathcal{H}_z(r,\\varphi)=0\n",
    "\\end{equation}\n",
    "\n",
    "Now we take the posited product solution\n",
    "\n",
    "\\begin{equation}\n",
    "\\mathcal{H}_z(r,\\varphi)=R(r)\\Phi(\\varphi)\n",
    "\\end{equation}\n",
    "\n",
    "and substitute it into \\ref{Eq-HelmholtzCylCoord}.  After multiplication by $r^2$ we have\n",
    "\n",
    "\\begin{equation}\n",
    "\\frac{r^2}{R}\\frac{d^2R}{dr^2}+\\frac{r}{R}\\frac{dR}{dr}+r^2k_c^2=-\\frac{1}{\\Phi}\\frac{d^2\\Phi}{d\\varphi^2}\n",
    "\\end{equation}\n",
    "\n",
    "The left side is a function only of $r$ and the right side only of $\\varphi$.  In order for the equation to be valid for the entire range of $r,\\varphi$ the two sides must be equal to a constant.  We set the separation constant equal to $l^2_{\\varphi}$ and write\n",
    "\n",
    "\\begin{equation}\n",
    "-\\frac{1}{\\Phi}\\frac{d^2\\Phi}{d\\varphi^2}=l^2_{\\varphi}\n",
    "\\end{equation}\n",
    "\n",
    "or rearranging\n",
    "\n",
    "\\begin{equation}\n",
    "\\frac{d^2\\Phi}{d\\varphi^2}+l^2_{\\varphi}\\Phi=0\\label{Eq-PhiSoln}\n",
    "\\end{equation}\n",
    "\n",
    "From the left side of Eq.\\,\\ref{Eq-CylSep} we have\n",
    "\n",
    "\\begin{equation}\n",
    "r^2\\frac{d^2R}{dr^2}+r\\frac{dR}{dr}+\\left(r^2k_c^2-l^2_{\\varphi}\\right)R=0\n",
    "\\end{equation}\n",
    "\n",
    "Note that $l_{\\varphi}$ is unitless.\n",
    "From inspection we can write down a solution to Eq.\\,\\ref{Eq-PhiSoln}.\n",
    "\n",
    "\\begin{equation}\n",
    "\\Phi=e^{il_{\\varphi}\\varphi}\\label{Eq-AngularFunction}\n",
    "\\end{equation}\n",
    "\n",
    "Now in order to represent a physical entity $\\Phi$ must be a single-valued function, meaning that $\\Phi[l_{\\varphi}(\\varphi+2\\pi)]$ must have the same value as $\\Phi(l_{\\varphi}\\varphi)$ or \n",
    "\n",
    "\\begin{equation}\n",
    "\\Phi[(l_{\\varphi}(\\varphi+2\\pi)]=e^{il_{\\varphi}\\varphi}e^{il_{\\varphi}2\\pi}=\\Phi(l_{\\varphi}\\varphi)\n",
    "\\end{equation}\n",
    "\n",
    "Therefore the separation constant $l_{\\varphi}$ must be an integer, $l_{\\varphi}=n=1,2,3\\ldots$\n",
    "The general solution to Eq.\\,\\ref{Eq-PhiSoln} can also be written in terms of real $\\sin$ and $\\cos$ functions.\n",
    "\n",
    "\\begin{equation}\n",
    "\\Phi(\\varphi)=A\\sin n\\varphi+B\\cos n\\varphi\n",
    "\\end{equation}\n",
    "\n",
    "The radial equation becomes\n",
    "\n",
    "\\begin{equation}\n",
    "r^2\\frac{d^2R}{dr^2}+r\\frac{dR}{dr}+\\left(r^2k_c^2-n^2\\right)R=0\\label{Eq-BesselDiffEq}\n",
    "\\end{equation}\n",
    "\n",
    "This expression is one of the forms of Bessel's differential equation.  There exists a family of functions that are solutions to this equation.  In fact there are two independent families, Bessel functions of the first kind, $J_n(x)$, and of the second kind, $N_n(x)$.  The functions of the second kind, the Neumann functions, tend to $-\\infty$ as $x\\rightarrow 0$ so they are not physically acceptable solutions.  The Bessel functions of the first kind are finite at the origin and exhibit physically acceptable behaviour.  The first few Bessel function $J_n(x)$\\index{Bessel functions} are plotted in Fig.\\,\\ref{Fig-BesselPlots}.\n",
    "Putting together the angular and radial solutions to the reduced Helmholtz equation, we have\n",
    "\n",
    "\\begin{equation}\n",
    "\\mathcal{H}_z(r,\\varphi)=\\left(A\\sin n\\varphi+B\\cos n\\varphi\\right)J_n(k_cr)\n",
    "\\end{equation}\n",
    "\n",
    "The next step is to apply boundary conditions\\index{boundary conditions} at $r=0$ and $r=a$, where $a$ is the radius of the hole. But in order to do so we must write the E-field and H-field components in the $r,\\varphi$ directions in terms of the $z$-axis components.  These components are found from writing down the six Maxwell's curl equations in cylindrical coordinates and reducing them to four relations of $r,\\varphi$ in terms of $z$ as was done for Eqs.\\,\\ref{Eq-Hx1}--\\ref{Eq-Ey1}.  The result is\n",
    "\n",
    "\\begin{align}\n",
    "E_r&=i\\frac{1}{k_c^2}\\left(\\beta\\frac{\\partial E_z}{\\partial r}+\\frac{\\omega\\mu_0}{r}\\frac{\\partial H_z}{\\partial\\varphi}\\right)\\label{Eq-Er2}\\\\[0.5ex]\n",
    "E_{\\varphi}&=i\\frac{1}{k_c^2}\\left(\\frac{\\beta}{r}\\frac{\\partial E_z}{\\partial\\varphi}-\\omega\\mu_0\\frac{\\partial H_z}{\\partial r}\\right)\\label{Eq-Evarphi2}\\\\[0.5ex]\n",
    "H_r&=-i\\frac{1}{k_c^2}\\left(\\frac{\\omega\\epsilon}{r}\\frac{\\partial E_z}{\\partial\\varphi}-\\beta\\frac{\\partial H_z}{\\partial r}\\right)\\label{Eq-Hr2}\\\\[0.5ex]\n",
    "H_{\\varphi}&=i\\frac{i}{k_c^2}\\left(\\omega\\epsilon\\frac{\\partial E_z}{\\partial r}+\\frac{\\beta}{r}\\frac{\\partial H_z}{\\partial\\varphi}\\right)\\label{Eq-Hvarphi2}\n",
    "\\end{align}\n",
    "\n",
    "On the perfectly conducting wall of the cylinder the E-field tangent to the wall must vanish.  Therefore $E_{\\varphi}(r=a,\\varphi)=0$.  From Eq.\\,\\ref{Eq-Evarphi2} we have\n",
    "\n",
    "\\begin{equation}\n",
    "E_{\\varphi}(r,\\varphi,z)=-i\\frac{\\omega\\mu_0}{k_c}\\left(A\\sin n\\varphi+B\\cos n\\varphi\\right)J_n^{\\prime}(k_cr)e^{i\\beta z}\n",
    "\\end{equation}\n",
    "\n",
    "where $J_n^{\\prime}(k_cr)$ is the radial derivative of the Bessel function.  Applying the boundary condition at $r=a$\n",
    "\n",
    "\\begin{equation}\n",
    "E_{\\varphi}(a,\\varphi,z)=-i\\frac{\\omega\\mu_0}{k_c}\\left(A\\sin n\\varphi+B\\cos n\\varphi\\right)J_n^{\\prime}(k_ca)e^{i\\beta z}=0\n",
    "\\end{equation}\n",
    "\n",
    "Since the $r$ dependence is only in the Bessel term, we must have\n",
    "\n",
    "\\begin{equation}\n",
    "J_n^{\\prime}(k_ca)=0\n",
    "\\end{equation}\n",
    "\n",
    "But this requirement fixes $k_c$ to the zeros of $J_n^{\\prime}(k_ca)$.  Each function $J_n^{\\prime}$, labeled by $n$ will have a series of zeros where $J_n^{\\prime}\\left[(k_ca)_{nm}\\right]$ corresponds to the $m$th zero of the $n$th Bessel function derivative.  The arguments of the zeros (or roots) of $J_n^{\\prime}$ are not simple multiples of $\\pi$ as in the case of $\\sin$ and $\\cos$ functions.  They have to be found numerically and \\ref{Table-TEkcHole} provides values for the first few arguments $\\left(k_ca\\right)_{nm}$ corresponding to the zeros of the $J_n^{\\prime}$ functions.  The first three Bessel function derivatives are plotted in Fig.\\,\\ref{Fig-BesselDerivativePlots}.  Evidently we obtain $k_c$ for the $nm$th mode from\n",
    "\n",
    "\\ctable[caption=Some values of $(k_ca)_{nm}$ for TE in a cylindrical waveguide,\n",
    "label=Table-TEkcHole,\n",
    "width=\\columnwidth]\n",
    "{cCCC}{}\n",
    "{\\FL$n$&$(k_ca)_{n1}$&$(k_ca)_{n2}$&$(k_ca)_{n3}$\\ML\n",
    "0&3.832&7.016&10.174\\\\\n",
    "1&1.841&5.331&8.536\\\\\n",
    "2&3.054&6.706&9.970\\LL}\n",
    "\n",
    "\\begin{equation}\n",
    "k_{c_{nm}}=\\frac{k_ca_{nm}}{a}\n",
    "\\end{equation}\n",
    "\n",
    "We obtain the propagation parameter\\index{propagation parameter} along $z$ for the $nm$th mode in the usual way\n",
    "\n",
    "\\begin{equation}\n",
    "\\beta_{nm}=\\sqrt{k^2-k^2_{c_{nm}}}\n",
    "\\end{equation}\n",
    "\n",
    "and with $\\beta_{nm}$ in hand we construct $H_z(r,\\varphi,z)=\\mathcal{H}_z(r,\\varphi)e^{i\\beta_{nm}z}$.\n",
    "Then from Eqs.\\,\\ref{Eq-Er2}--\\ref{Eq-Hvarphi2} we calculate the transverse fields for the $nm$th mode.  The notation $nm$ has been omitted from $k_{c_{nm}}$ and $\\beta_{nm}$ so as not encumber the expressions more than necessary.\n",
    "\n",
    "\\begin{align}\n",
    "E_r&=i\\frac{\\omega\\mu_0n}{k_c^2r}\\left(A\\cos n\\varphi-B\\sin n\\varphi\\right)J_n(k_cr)e^{i\\beta z}\\\\[0.5ex]\n",
    "E_{\\varphi}&=-i\\frac{\\omega\\mu_0}{k_c}\\left(A\\sin n\\varphi+B\\cos n\\varphi\\right)J_n^{\\prime}(k_cr)e^{i\\beta z}\\\\[0.5ex]\n",
    "H_r&=i\\frac{\\beta}{k_c}\\left(A\\sin n\\varphi+B\\cos n\\varphi\\right)J_n^{\\prime}(k_cr)e^{i\\beta z}\\\\[0.5ex]\n",
    "H_{\\varphi}&=i\\frac{\\beta n}{k_c^2r}\\left(A\\cos n\\varphi-B\\sin n\\varphi\\right)J_n(k_cr)e^{i\\beta z}\n",
    "\\end{align}\n",
    "\n",
    "In fact the $A$ and $B$ amplitude factors in the angular part of the transverse field expressions are not independent.  We can easily see this from Eq.\\,\\ref{Eq-AngularFunction}.  The ``normalisation integral\" of the angular solution in complex form is\n",
    "\n",
    "\\begin{equation}\n",
    "\\int_0^{2\\pi}\\Phi^*\\Phi\\,d\\varphi=2\\pi=\\text{const.}\n",
    "\\end{equation}\n",
    "\n",
    "and writing the normalisation of the angular solution in terms of real $\\sin$ and $\\cos$ functions\n",
    "\n",
    "\\begin{equation}\n",
    "\\int_0^{2\\pi}\\left(A\\sin n\\varphi+B\\cos n\\varphi\\right)^2\\,d\\varphi=\\frac{1}{2}\\left(A^2+B^2\\right)=\\text{const.}\n",
    "\\end{equation}\n",
    "\n",
    "or in other words the only restriction on the amplitudes of the $\\sin$ and $\\cos$ terms is that the sum of the squares of $A$ and $B$ must always be equal to some constant.  Therefore we can set $A=0$ and let $B^2=\\text{const}$.  Then the transverse fields can be written in somewhat simpler form\n",
    "\n",
    "\\begin{align}\n",
    "E_r&=-i\\frac{\\omega\\mu_0n}{k_c^2r}\\left(B\\sin n\\varphi\\right)J_n(k_cr)e^{i\\beta z}\\\\[0.5ex]\n",
    "E_{\\varphi}&=-i\\frac{\\omega\\mu_0}{k_c}\\left(B\\cos n\\varphi\\right)J_n^{\\prime}(k_cr)e^{i\\beta z}\\\\[0.5ex]\n",
    "H_r&=i\\frac{\\beta}{k_c}\\left(B\\cos n\\varphi\\right)J_n^{\\prime}(k_cr)e^{i\\beta z}\\\\[0.5ex]\n",
    "H_{\\varphi}&=-i\\frac{\\beta n}{k_c^2r}\\left(B\\sin n\\varphi\\right)J_n(k_cr)e^{i\\beta z}\n",
    "\\end{align}\n",
    "\n",
    "The TE mode impedance is given by\\index{impedance}\n",
    "\n",
    "\\begin{equation}\n",
    "Z_{\\mathrm{TE}}=\\frac{E_r}{H_{\\varphi}}=\\frac{k}{\\beta}Z_0\n",
    "\\end{equation}\n"
   ]
  },
  {
   "cell_type": "code",
   "execution_count": 17,
   "metadata": {
    "scrolled": true
   },
   "outputs": [
    {
     "data": {
      "text/html": [
       "<figure>\n",
       "<center>\n",
       "  <img src =\"./image_files/Fig 8.10_BesselPlots.png\", alt=\"BesselPlots\",\n",
       "    style=\"width: 70%;\"/>\n",
       "</center>\n",
       "<center>\n",
       "<caption>\n",
       "  First three Bessel functions $J_n(x)$. \n",
       "</caption>\n",
       "</center>\n",
       "</figure>\n"
      ],
      "text/plain": [
       "<IPython.core.display.HTML object>"
      ]
     },
     "metadata": {},
     "output_type": "display_data"
    }
   ],
   "source": [
    "%%HTML\n",
    "<figure>\n",
    "<center>\n",
    "  <img src =\"./image_files/Fig 8.10_BesselPlots.png\", alt=\"BesselPlots\",\n",
    "    style=\"width: 70%;\"/>\n",
    "</center>\n",
    "<center>\n",
    "<caption>\n",
    "  First three Bessel functions $J_n(x)$. \n",
    "</caption>\n",
    "</center>\n",
    "</figure>"
   ]
  },
  {
   "cell_type": "markdown",
   "metadata": {},
   "source": [
    "### TM Modes"
   ]
  },
  {
   "cell_type": "markdown",
   "metadata": {},
   "source": [
    "In the case of TM modes, there is no component $H_z$ along the axis of symmetry, and we seek solutions to the Helmholtz equation for $E_z(r,\\varphi,z)=\\mathcal{E}_z(r,\\varphi)e^{i\\beta z}$.  As with the TE modes we have a reduced Helmholtz equation for the transverse coordinates.\n",
    "\n",
    "\\begin{equation}\n",
    "\\left(\\frac{\\partial^2}{\\partial r^2}+\\frac{1}{r}\\frac{\\partial}{\\partial r}+\\frac{1}{r^2}\\frac{\\partial^2}{\\partial\\varphi^2}+k_c^2\\right)\\mathcal{E}_z(r,\\varphi)=0\n",
    "\\end{equation}\n",
    "\n",
    "This expression is the same as Eq.\\,\\ref{Eq-HelmholtzCylCoord} so the general solutions are the same.\n",
    "\n",
    "\\begin{equation}\n",
    "\\mathcal{E}_z(r,\\varphi)=\\left(A\\sin n\\varphi+B\\cos n\\varphi\\right)J_n(k_cr)\\label{Eq-HelmholtzEzSoln}\n",
    "\\end{equation}\n",
    "\n",
    "But in this case the boundary conditions on the E-field can be applied directly the solutions for the Helmholtz equation.\n",
    "\n",
    "\\begin{equation}\n",
    "\\mathcal{E}_z(r=a,\\varphi)=0\n",
    "\\end{equation}\n",
    "\n",
    "Therefore from Eq.\\,\\ref{Eq-HelmholtzEzSoln} we have\n",
    "\n",
    "\\begin{equation}\n",
    "J_n(k_ca)=0\n",
    "\\end{equation}\n",
    "\n",
    "and we get the cutoff parameter for the $\\mathrm{TM_{nm}}$ mode from the zeros of $J_n$ Bessel function.  Table \\ref{Table-TMkcHole}  shows some values for the roots of $J_n$.\n",
    "\n",
    "\\ctable[caption=Some values of $(k_ca)_{nm}$ for TM in a cylindrical waveguide,\n",
    "label=Table-TMkcHole,\n",
    "width=\\columnwidth]\n",
    "{cCCC}{}\n",
    "{\\FL$n$&$(k_ca)_{n1}$&$(k_ca)_{n2}$&$(k_ca)_{n3}$\\ML\n",
    "0&2.405&5.520&8.654\\\\\n",
    "1&3.832&7.016&10.174\\\\\n",
    "2&5.135&8.417&11.620\\LL}\n",
    "\n",
    "Once again the cutoff parameters are obtained from\n",
    "\n",
    "\\begin{equation}\n",
    "k_{c_{nm}}=\\frac{k_ca_{nm}}{a}\n",
    "\\end{equation}\n",
    "The propagation parameter along $z$ is\n",
    "\\begin{equation}\n",
    "\\beta_{nm}=\\sqrt{k^2-k_c^2}\n",
    "\\end{equation}\n",
    "The transverse fields from Eqs.\\,\\ref{Eq-Er2}--\\ref{Eq-Hvarphi2} and setting $A=0$ are\n",
    "\n",
    "\\begin{align}\n",
    "E_r&=i\\frac{\\beta}{k_c}\\left(B\\cos n\\varphi\\right)J_n^{\\prime}(k_cr)e^{i\\beta z}\\\\[0.5ex]\n",
    "E_{\\varphi}&=-i\\frac{\\beta n}{k_c^2r}\\left(B\\sin n\\varphi\\right)J_n(k_cr)e^{i\\beta z}\\\\[0.5ex]\n",
    "H_r&=i\\frac{\\omega\\epsilon n}{k_c^2r}\\left(B\\sin n\\varphi\\right)J_n(k_cr)e^{i\\beta z}\\\\[0.5ex]\n",
    "H_{\\varphi}&=i\\frac{\\omega\\epsilon}{k_c}\\left(B\\cos n\\varphi\\right)J_n^{\\prime}(k_cr)e^{i\\beta z}\n",
    "\\end{align}\n",
    "\n",
    "Finally the mode impedance is given by\n",
    "\n",
    "\\begin{equation}\n",
    "Z_{\\mathrm{TM}}=\\frac{E_r}{H_{\\varphi}}=\\frac{\\beta}{k}Z_0\n",
    "\\end{equation}\n"
   ]
  },
  {
   "cell_type": "code",
   "execution_count": 18,
   "metadata": {},
   "outputs": [
    {
     "data": {
      "text/html": [
       "<figure>\n",
       "<center>\n",
       "  <img src =\"./image_files/Fig 8.11_BesselDerivativePlots.png\", alt=\"BesselDerivativePlots\",\n",
       "    style=\"width: 70%;\"/>\n",
       "</center>\n",
       "<center>\n",
       "<caption>\n",
       "  Derivatives of the first three Bessel functions, showing the positions of the first \n",
       "    few zero-crossings. \n",
       "</caption>\n",
       "</center>\n",
       "</figure>\n"
      ],
      "text/plain": [
       "<IPython.core.display.HTML object>"
      ]
     },
     "metadata": {},
     "output_type": "display_data"
    }
   ],
   "source": [
    "%%HTML\n",
    "<figure>\n",
    "<center>\n",
    "  <img src =\"./image_files/Fig 8.11_BesselDerivativePlots.png\", alt=\"BesselDerivativePlots\",\n",
    "    style=\"width: 70%;\"/>\n",
    "</center>\n",
    "<center>\n",
    "<caption>\n",
    "  Derivatives of the first three Bessel functions, showing the positions of the first \n",
    "    few zero-crossings. \n",
    "</caption>\n",
    "</center>\n",
    "</figure>"
   ]
  },
  {
   "cell_type": "code",
   "execution_count": null,
   "metadata": {},
   "outputs": [],
   "source": []
  },
  {
   "cell_type": "code",
   "execution_count": null,
   "metadata": {},
   "outputs": [],
   "source": []
  }
 ],
 "metadata": {
  "kernelspec": {
   "display_name": "Python 3",
   "language": "python",
   "name": "python3"
  },
  "language_info": {
   "codemirror_mode": {
    "name": "ipython",
    "version": 3
   },
   "file_extension": ".py",
   "mimetype": "text/x-python",
   "name": "python",
   "nbconvert_exporter": "python",
   "pygments_lexer": "ipython3",
   "version": "3.6.7"
  }
 },
 "nbformat": 4,
 "nbformat_minor": 2
}
